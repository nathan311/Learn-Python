{
  "cells": [
    {
      "cell_type": "markdown",
      "metadata": {
        "id": "Omd5fFgBVo3J"
      },
      "source": [
        "# https://colab.research.google.com/"
      ]
    },
    {
      "cell_type": "markdown",
      "metadata": {
        "id": "e9GvtVAKVvyQ"
      },
      "source": [
        "# Apprendre à coder en Python pour l'Intelligence Artificielle\n",
        "## Episode 2 - Programmation Objet et Fonctionnelle\n",
        "\n",
        "<p align=\"center\">\n",
        "<a href=\"https://youtu.be/8fCtWNnBNFc\" target=\"_blank\" ><img  src=\"https://raw.githubusercontent.com/anisayari/Youtube-apprendre-python-intelligence-artificielle/master/%232%20-%20Programmation%20Objet%20et%20Fonctionnelle/serie-cover-2.jpg\n",
        "\" width=\"800\" height=\"auto\"/></a>\n",
        "</p>"
      ]
    },
    {
      "cell_type": "markdown",
      "metadata": {
        "id": "1ga0jDrPhlSH"
      },
      "source": [
        "# Programmation fonctionnelle et porté des variables (espace de nommage)"
      ]
    },
    {
      "cell_type": "code",
      "execution_count": null,
      "metadata": {
        "id": "oDgyvf_ghmMq",
        "colab": {
          "base_uri": "https://localhost:8080/",
          "height": 72
        },
        "outputId": "26f97174-a439-47d6-af0c-09c1a5c44471"
      },
      "outputs": [
        {
          "name": "stdout",
          "output_type": "stream",
          "text": [
            "Soleil\n",
            "Earth\n",
            "Soleil\n"
          ]
        }
      ],
      "source": [
        "def exemple_porte_variable(exemple): #https://www.python.org/dev/peps/pep-0008/ #global and nonlocal\n",
        "  print(exemple)\n",
        "\n",
        "  def function1(exemple):\n",
        "    print(exemple)\n",
        "\n",
        "  def function2():\n",
        "    nonlocal exemple\n",
        "    print(exemple)\n",
        "\n",
        "  function1('Earth')\n",
        "  function2()\n",
        "\n",
        "exemple = 'Soleil'\n",
        "\n",
        "exemple_porte_variable(exemple)\n",
        "#function1(exemple1) #ERROR"
      ]
    },
    {
      "cell_type": "markdown",
      "metadata": {
        "id": "X1ydNrwtjVKm"
      },
      "source": [
        "\n",
        "<p align=\"center\">\n",
        "<a href=\"https://youtu.be/8fCtWNnBNFc\" target=\"_blank\" ><img  src=\"https://upload.wikimedia.org/wikipedia/commons/thumb/8/84/Solar_System_size_to_scale_fr.svg/langfr-1024px-Solar_System_size_to_scale_fr.svg.png\n",
        "\" width=\"500\" height=\"auto\"/></a>\n",
        "</p>"
      ]
    },
    {
      "cell_type": "code",
      "execution_count": null,
      "metadata": {
        "id": "Pg2h4bUAhmjO",
        "colab": {
          "base_uri": "https://localhost:8080/",
          "height": 54
        },
        "outputId": "2895a47d-d2c3-4fbf-c86c-2c918a7c9d3f"
      },
      "outputs": [
        {
          "name": "stdout",
          "output_type": "stream",
          "text": [
            "1391\n",
            "The most little planet is Mercure       of diameter 1391 km\n"
          ]
        }
      ],
      "source": [
        "planet_list= ['Mercure','Vénus','Terre','Mars','Jupiter','Saturne','Uranus','Neptune','Pluton']\n",
        "\n",
        "diametre_planet_list =[1391, 4880, 12104, 12756, 6805, 142984, 120536, 51312, 49922, 2300]\n",
        "\n",
        "distance_soleil_planet = ['58','108','150','227','778','457','870','500','900']\n",
        "\n",
        "dictionnaire_list ={\n",
        "    'Mercure':{ 'diametre':'1391',\n",
        "              'distance':'58'\n",
        "            },\n",
        "            'Venus':{ 'diametre':'4880',\n",
        "              'distance':'108'\n",
        "            },\n",
        "            'Terre':{ 'diametre':'12104',\n",
        "              'distance':'150'\n",
        "            }\n",
        "    }\n",
        "\n",
        "def find_little_planet(planet_list,diametre_planet_list):\n",
        "  name_the_most_little_planet = ''\n",
        "  diameter_of_the_most_little_planet = 99999999999999999\n",
        "\n",
        "  for i,planet_diametre in enumerate(diametre_planet_list):\n",
        "    print(planet_diametre)\n",
        "    if planet_diametre < diameter_of_the_most_little_planet:\n",
        "      diameter_of_the_most_little_planet= planet_diametre\n",
        "      name_of_the_most_little_planet =planet_list[i]\n",
        "\n",
        "    return diameter_of_the_most_little_planet,name_of_the_most_little_planet\n",
        "\n",
        "\n",
        "diameter_of_the_most_little_planet,name_of_the_most_little_planet = find_little_planet(planet_list,diametre_planet_list)\n",
        "print(f'The most little planet is {name_of_the_most_little_planet} \\\n",
        "      of diameter {diameter_of_the_most_little_planet} km') #f-string 'chaine de caractère {VARIABLE}'"
      ]
    },
    {
      "cell_type": "code",
      "execution_count": null,
      "metadata": {
        "id": "FOEoTAmH47tk",
        "colab": {
          "base_uri": "https://localhost:8080/",
          "height": 35
        },
        "outputId": "993bb57d-a6fc-4fe6-95c8-64d541fe8066"
      },
      "outputs": [
        {
          "data": {
            "text/plain": [
              "5"
            ]
          },
          "execution_count": 67,
          "metadata": {
            "tags": []
          },
          "output_type": "execute_result"
        }
      ],
      "source": [
        "def funct(num):\n",
        "  num = num + 1\n",
        "  return num\n",
        "\n",
        "my_new_number = funct(4)\n",
        "my_new_number"
      ]
    },
    {
      "cell_type": "code",
      "execution_count": null,
      "metadata": {
        "id": "Wi6X_8fy3H9l",
        "colab": {
          "base_uri": "https://localhost:8080/",
          "height": 35
        },
        "outputId": "62daa1a1-1efe-4a12-bcff-46aa9d0b686c"
      },
      "outputs": [
        {
          "data": {
            "text/plain": [
              "(3, 1)"
            ]
          },
          "execution_count": 54,
          "metadata": {
            "tags": []
          },
          "output_type": "execute_result"
        }
      ],
      "source": [
        "a = [1,2,3,4] # ['0','1','2','3']\n",
        "a[2],a[0]"
      ]
    },
    {
      "cell_type": "code",
      "execution_count": null,
      "metadata": {
        "id": "II9HFLtHmhNr",
        "outputId": "2f517190-edb4-4732-8680-220db2107ac6",
        "colab": {
          "base_uri": "https://localhost:8080/",
          "height": 636
        }
      },
      "outputs": [
        {
          "data": {
            "image/png": "[encoded data removed]",
            "text/plain": [
              "<Figure size 720x2160 with 1 Axes>"
            ]
          },
          "metadata": {
            "tags": [],
            "needs_background": "light"
          },
          "output_type": "display_data"
        }
      ],
      "source": [
        "#https://stackoverflow.com/questions/34560620/how-do-i-plot-a-planets-orbit-as-a-function-of-time-on-an-already-plotted-ellip\n",
        "import matplotlib.pyplot as plt\n",
        "from matplotlib.patches import Ellipse\n",
        "\n",
        "#Implementing ellipse equations to generate the values needed to plot an ellipse\n",
        "#Using only the planet's min (m) and max (M) distances from the sun\n",
        "#Equations return '2a' (the ellipses width) and '2b' (the ellipses height)\n",
        "def OrbitLength(M, m):\n",
        "    a=(M+m)/2\n",
        "    c=a-m\n",
        "    e=c/a\n",
        "    b=a*(1-e**2)**0.5\n",
        "    return 2*a, 2*b\n",
        "\n",
        "#This function uses the returned 2a and 2b for the ellipse function's variables\n",
        "#Also generating the orbit offset (putting the sun at a focal point) using M and m\n",
        "def PlanetOrbit(Name, M, m,color):\n",
        "    w, h = OrbitLength(M, m)\n",
        "    Xoffset= ((M+m)/2)-m\n",
        "    ellipse = Ellipse(xy=((Xoffset),0), width=w, height=h, angle=0, linewidth=1, fill=False,color=color)\n",
        "    ax.add_artist(ellipse)\n",
        "    #plt.annotate(Name, xy=(((M+10)/2),0))\n",
        "\n",
        "\n",
        "\"\"\"\n",
        "list color matplotlib\n",
        "b : blue.\n",
        "g : green.\n",
        "r : red.\n",
        "c : cyan.\n",
        "m : magenta.\n",
        "y : yellow.\n",
        "k : black.\n",
        "w : white.\n",
        "\"\"\"\n",
        "\n",
        "'''\n",
        "Found something similar at this gamedev question:\n",
        "https://gamedev.stackexchange.com/questions/11116/kepler-orbit-get-position-on-the-orbit-over-time?newreg=e895c2a71651407d8e18915c38024d50\n",
        "\n",
        "Equations taken from:\n",
        "https://en.wikipedia.org/wiki/Kepler%27s_laws_of_planetary_motion#Position_as_a_function_of_time\n",
        "'''\n",
        "\n",
        "#Set axes aspect to equal as orbits are almost circular; hence square is needed\n",
        "fig= plt.figure(figsize=(10,30))\n",
        "\n",
        "ax = fig.add_subplot(111, aspect='equal')\n",
        "\n",
        "#Setting the title, axis labels, axis values and introducing a grid underlay\n",
        "#Variable used so title can indicate user inputed date\n",
        "plt.title('Inner Planetary Orbits at[user input date]')\n",
        "plt.ylabel('x10^6 km')\n",
        "plt.xlabel('x10^6 km')\n",
        "ax.set_xlim(-300, 300)\n",
        "ax.set_ylim(-300, 300)\n",
        "plt.grid()\n",
        "\n",
        "#Creating the point to represent the sun at the origin (not to scale),\n",
        "ax.scatter(0,0,s=200,color='y')\n",
        "plt.annotate('Sun', xy=(0,-30))\n",
        "\n",
        "#These are the arguments taken from hyperphysics.phy-astr.gsu.edu/hbase/solar/soldata2.html\n",
        "#They are the planet names, max and min distances, and their longitudinal angle\n",
        "#Also included is Halley's Comet, used to show different scale  and eccentricity\n",
        "PlanetOrbit('Mercury', 69.8, 46.0,'r')\n",
        "PlanetOrbit('Venus', 108.9, 107.5,'m')\n",
        "PlanetOrbit('Earth', 152.1, 147.1,'b')\n",
        "PlanetOrbit('Mars', 249.1, 206.7,'r')\n",
        "\n",
        "\n",
        "plt.show()"
      ]
    },
    {
      "cell_type": "markdown",
      "metadata": {
        "id": "cWnZbqWchmrs"
      },
      "source": [
        "# Programmation Objet"
      ]
    },
    {
      "cell_type": "code",
      "execution_count": null,
      "metadata": {
        "id": "jHHM2v_N5pyr",
        "colab": {
          "base_uri": "https://localhost:8080/",
          "height": 54
        },
        "outputId": "15b9421b-5b4c-4c12-b21c-0835b50f0521"
      },
      "outputs": [
        {
          "name": "stdout",
          "output_type": "stream",
          "text": [
            "Il s'agit de Earth qui a un diametre de 12104km     et une distance au soleil de 150 Millions de km.\n",
            "Il s'agit de Earth qui a un diametre de 12104km     et une distance au soleil de 228 Millions de km.\n"
          ]
        }
      ],
      "source": [
        "class Planet():\n",
        "  def __init__(self, diametre, distance_au_soleil,name):\n",
        "    self.diametre = diametre #attribut\n",
        "    self.distance_au_soleil = distance_au_soleil\n",
        "    self.name = name\n",
        "\n",
        "  def get_description(self): #methode\n",
        "    print(f\"Il s'agit de {self.name} qui a un diametre de {self.diametre} km \\\n",
        "    et une distance au soleil de {self.distance_au_soleil} Millions de km.\")\n",
        "\n",
        "Earth = Planet(12104,150, 'Earth')\n",
        "Mars = Planet(12756,227, 'Mars')\n",
        "\n",
        "Earth.get_description()\n",
        "\n",
        "Earth.distance_au_soleil = 228\n",
        "\n",
        "Earth.get_description()"
      ]
    }
  ],
  "metadata": {
    "colab": {
      "name": "#2 Programmation Objet et Fonctionelle",
      "provenance": []
    },
    "kernelspec": {
      "name": "python3",
      "display_name": "Python 3"
    }
  },
  "nbformat": 4,
  "nbformat_minor": 0
}
{
  "nbformat": 4,
  "nbformat_minor": 0,
  "metadata": {
    "colab": {
      "name": "#4 - Programmation objet avancée",
      "provenance": []
    },
    "kernelspec": {
      "name": "python3",
      "display_name": "Python 3"
    }
  },
  "cells": [
    {
      "cell_type": "markdown",
      "metadata": {
        "id": "a2c7ZxxerDat"
      },
      "source": [
        "\n",
        "# https://colab.research.google.com/\n",
        "---\n",
        "\n"
      ]
    },
    {
      "cell_type": "markdown",
      "metadata": {
        "id": "HzCReroprCAg"
      },
      "source": [
        "# Apprendre à coder en Python pour l'Intelligence Artificielle\n",
        "Episode 4 - Programmation objet avancée\n",
        "\n",
        "<p align=\"center\">\n",
        "<a href=\"https://youtu.be/_J80GQoVT-4\" target=\"_blank\" ><img  src=\"https://github.com/anisayari/Youtube-apprendre-python-intelligence-artificielle/blob/master/%234%20-%20Programmation%20objet%20avanc%C3%A9e/cover-serie-4.png?raw=true\" width=\"800\" height=\"auto\"/></a>\n",
        "</p>"
      ]
    },
    {
      "cell_type": "markdown",
      "metadata": {
        "id": "BI03F4Bosdbo"
      },
      "source": [
        "# Encapsulation\n",
        "Empêcher l'accées aux données d'un objet par un autre moyen que ceux définit."
      ]
    },
    {
      "cell_type": "code",
      "source": [
        "## definir un attribut privé : __ATTRIBUT\n",
        "\n",
        "class Animal:\n",
        "\n",
        "  def __init__(sefl,race):\n",
        "    self.__race = race\n",
        "\n",
        "Toto_le_lion = Animal('Lion') # Lion est une instance de ma classe Animal\n",
        "\n",
        "print(Toto_le_lion.__race) # error car l'attribut est privé\n",
        "\n",
        "\n"
      ],
      "metadata": {
        "id": "cTBWJB4mdgVG",
        "outputId": "b0b26e61-4bc9-4d5b-8461-8122b9c6735b",
        "colab": {
          "base_uri": "https://localhost:8080/",
          "height": 211
        }
      },
      "execution_count": 4,
      "outputs": [
        {
          "output_type": "error",
          "ename": "AttributeError",
          "evalue": "'Animal' object has no attribute '__race'",
          "traceback": [
            "\u001b[0;31m---------------------------------------------------------------------------\u001b[0m",
            "\u001b[0;31mAttributeError\u001b[0m                            Traceback (most recent call last)",
            "\u001b[0;32m<ipython-input-4-3113d569789e>\u001b[0m in \u001b[0;36m<cell line: 10>\u001b[0;34m()\u001b[0m\n\u001b[1;32m      8\u001b[0m \u001b[0mToto_le_lion\u001b[0m \u001b[0;34m=\u001b[0m \u001b[0mAnimal\u001b[0m\u001b[0;34m(\u001b[0m\u001b[0;34m'Lion'\u001b[0m\u001b[0;34m)\u001b[0m \u001b[0;31m# Lion est une instance de ma classe Animal\u001b[0m\u001b[0;34m\u001b[0m\u001b[0;34m\u001b[0m\u001b[0m\n\u001b[1;32m      9\u001b[0m \u001b[0;34m\u001b[0m\u001b[0m\n\u001b[0;32m---> 10\u001b[0;31m \u001b[0mprint\u001b[0m\u001b[0;34m(\u001b[0m\u001b[0mToto_le_lion\u001b[0m\u001b[0;34m.\u001b[0m\u001b[0m__race\u001b[0m\u001b[0;34m)\u001b[0m\u001b[0;34m\u001b[0m\u001b[0;34m\u001b[0m\u001b[0m\n\u001b[0m\u001b[1;32m     11\u001b[0m \u001b[0;34m\u001b[0m\u001b[0m\n\u001b[1;32m     12\u001b[0m \u001b[0;34m\u001b[0m\u001b[0m\n",
            "\u001b[0;31mAttributeError\u001b[0m: 'Animal' object has no attribute '__race'"
          ]
        }
      ]
    },
    {
      "cell_type": "code",
      "metadata": {
        "id": "Z64cB6IzFjYg",
        "colab": {
          "base_uri": "https://localhost:8080/"
        },
        "outputId": "9a63d064-44d4-469a-9af8-1794ee4d73f8"
      },
      "source": [
        "## Bonne pratique (coucou Java) définir des getteurs: get_attribut(self,attribut)\n",
        "\n",
        "class Animal:\n",
        "\n",
        "  def __init__(self,race):\n",
        "    self.__race = race\n",
        "\n",
        "  def get_race(self):\n",
        "    return self.__race\n",
        "\n",
        "\n",
        "\n",
        "Toto_le_lion = Animal('Lion') # Lion est une instance de ma classe Animal\n",
        "\n",
        "print(Toto_le_lion.get_race())\n",
        "\n",
        "Toto_le_lion.__race = 'Lion de la savane'\n",
        "print(Toto_le_lion.get_race()) # on ne peut pas modifier l'attribut priver"
      ],
      "execution_count": 12,
      "outputs": [
        {
          "output_type": "stream",
          "name": "stdout",
          "text": [
            "Lion\n",
            "Lion\n"
          ]
        }
      ]
    },
    {
      "cell_type": "code",
      "source": [
        "## Bonne pratique (coucou Java) définir des setteurs: get_attribut(self,attribut)\n",
        "\n",
        "class Animal:\n",
        "\n",
        "  def __init__(self,race):\n",
        "    self.__race = race\n",
        "\n",
        "  def get_race(self):\n",
        "    return self.__race\n",
        "\n",
        "  def set_race(self,nouvelle_race):\n",
        "    self.__race = nouvelle_race\n",
        "    return\n",
        "\n",
        "\n",
        "\n",
        "Toto_le_lion = Animal('Lion') # Lion est une instance de ma classe Animal\n",
        "\n",
        "print(Toto_le_lion.get_race())\n",
        "\n",
        "Toto_le_lion.set_race('Lion de la savane')\n",
        "\n",
        "print(Toto_le_lion.get_race()) # on ne peut pas modifier l'attribut priver"
      ],
      "metadata": {
        "id": "oq4a1Xhwfxnq",
        "outputId": "3f2f812e-5348-4138-8a2a-660a13a79b3a",
        "colab": {
          "base_uri": "https://localhost:8080/"
        }
      },
      "execution_count": 13,
      "outputs": [
        {
          "output_type": "stream",
          "name": "stdout",
          "text": [
            "Lion\n",
            "Lion de la savane\n"
          ]
        }
      ]
    },
    {
      "cell_type": "markdown",
      "metadata": {
        "id": "2lhwCTsY0bN4"
      },
      "source": [
        "# Héritage"
      ]
    },
    {
      "cell_type": "code",
      "metadata": {
        "id": "rEClPl7I0znf",
        "colab": {
          "base_uri": "https://localhost:8080/"
        },
        "outputId": "83da5349-2855-4a29-cb6b-32d4c0526dce"
      },
      "source": [
        "from os import name\n",
        "# super().__init__(), issubclass(subclass,class) et isinstance(instance, class)\n",
        "\n",
        "class Felin:\n",
        "  nombre_de_patte = 4\n",
        "  Carnivore = True\n",
        "\n",
        "  def __init__(self,couleur):\n",
        "    self.__couleur = couleur\n",
        "\n",
        "\n",
        "  def get_race(self):\n",
        "    return self.__couleur\n",
        "\n",
        "  def set_race(self,couleur):\n",
        "    self.__couleur = couleur\n",
        "    return\n",
        "\n",
        "  def manger_viande(self):\n",
        "    print('Je viens de manger de la viande')\n",
        "\n",
        "class Lion(Felin): # la classe lion devient classe fils de Felin\n",
        "  def __init__(self,race,name,couleur):\n",
        "    super().__init__(couleur)\n",
        "    self.__race = race\n",
        "    self.name = name\n",
        "\n",
        "  def get_race(self):\n",
        "    return self.__race\n",
        "\n",
        "  def set_race(self,nouvelle_race):\n",
        "    self.__race = nouvelle_race\n",
        "    return\n",
        "\n",
        "gerard_le_lion = Lion('Lion de la savane' , 'gerard', 'rouge')\n",
        "\n",
        "print(gerard_le_lion.name, gerard_le_lion.get_race())\n",
        "gerard_le_lion.manger_viande()"
      ],
      "execution_count": 28,
      "outputs": [
        {
          "output_type": "stream",
          "name": "stdout",
          "text": [
            "gerard Lion de la savane\n",
            "Je viens de manger de la viande\n"
          ]
        }
      ]
    },
    {
      "cell_type": "code",
      "metadata": {
        "id": "aB3SWVmrPHIP",
        "colab": {
          "base_uri": "https://localhost:8080/",
          "height": 34
        },
        "outputId": "451d000f-862d-400e-b833-5c855b0ecadb"
      },
      "source": [
        "isinstance(gerard_le_lion, Lion)"
      ],
      "execution_count": null,
      "outputs": [
        {
          "output_type": "execute_result",
          "data": {
            "text/plain": [
              "True"
            ]
          },
          "metadata": {
            "tags": []
          },
          "execution_count": 89
        }
      ]
    },
    {
      "cell_type": "code",
      "metadata": {
        "id": "ayn6A7u4PNax",
        "colab": {
          "base_uri": "https://localhost:8080/",
          "height": 34
        },
        "outputId": "07f0281c-d571-49ad-c5d5-f14aabe93387"
      },
      "source": [
        "issubclass(Lion,Felin)"
      ],
      "execution_count": null,
      "outputs": [
        {
          "output_type": "execute_result",
          "data": {
            "text/plain": [
              "True"
            ]
          },
          "metadata": {
            "tags": []
          },
          "execution_count": 90
        }
      ]
    },
    {
      "cell_type": "code",
      "metadata": {
        "id": "TkkLV4KLPXHk",
        "colab": {
          "base_uri": "https://localhost:8080/",
          "height": 34
        },
        "outputId": "adda9792-b4d3-4ef7-e763-ac2285d677b0"
      },
      "source": [
        "issubclass(Girafe,Felin)"
      ],
      "execution_count": null,
      "outputs": [
        {
          "output_type": "execute_result",
          "data": {
            "text/plain": [
              "False"
            ]
          },
          "metadata": {
            "tags": []
          },
          "execution_count": 92
        }
      ]
    },
    {
      "cell_type": "markdown",
      "metadata": {
        "id": "txQ99RUUzMPK"
      },
      "source": [
        "# Methode et attributs d'instance, de classe, static"
      ]
    },
    {
      "cell_type": "code",
      "metadata": {
        "id": "wHm0o4Wxt2FK",
        "colab": {
          "base_uri": "https://localhost:8080/"
        },
        "outputId": "7bfdde3c-0e6f-4c08-d3cc-6133ca6610e5"
      },
      "source": [
        "class Felin:\n",
        "    nombre_de_patte = 4 #CEST UN ATTRIBUT DE CLASSE\n",
        "    carnivore = True #CEST UN ATTRIBUT DE CLASSE\n",
        "\n",
        "    def __init__(self,couleur):\n",
        "        self.__couleur = couleur\n",
        "\n",
        "    def get_race(self):\n",
        "        return self.__couleur\n",
        "\n",
        "    def set_race(self,couleur):\n",
        "        self.__couleur = couleur\n",
        "        return\n",
        "\n",
        "    def manger_viande(self):\n",
        "        print('Je viens de manger de la viande')\n",
        "\n",
        "class Lion(Felin): #La classe Lion devient classe fils d'Animal\n",
        "    def __init__(self,race,name,couleur):\n",
        "        super().__init__(couleur)\n",
        "        self.__race = race\n",
        "        self.name = name\n",
        "\n",
        "    def get_race(self):\n",
        "        return self.__race\n",
        "\n",
        "    def set_race(self,nouvelle_race):\n",
        "        self.__race = nouvelle_race\n",
        "        return\n",
        "\n",
        "gerard_le_lion = Lion('Lion de la savane', 'gerard','beige')\n",
        "hakim_le_lion = Lion('Lion des montages', 'hakim','maron')\n",
        "\n",
        "print(gerard_le_lion.nombre_de_patte, hakim_le_lion.nombre_de_patte)\n",
        "\n",
        "Felin.nombre_de_patte = 3\n",
        "\n",
        "print(gerard_le_lion.nombre_de_patte, hakim_le_lion.nombre_de_patte)"
      ],
      "execution_count": 31,
      "outputs": [
        {
          "output_type": "stream",
          "name": "stdout",
          "text": [
            "4 4\n",
            "3 3\n"
          ]
        }
      ]
    },
    {
      "cell_type": "code",
      "metadata": {
        "id": "IgR2pZ29uIfR"
      },
      "source": [
        "## Methode de class @classmethod Point à la classe et non pas à l'instance de la classe (ie Objet = instance d'une classe)\n",
        "## Méthode Static Permet de créer une fonction rangé dans une class à la place d'un module\n",
        "\n",
        "class Person:\n",
        "    x = 0\n",
        "    def __init__(self):\n",
        "        pass\n",
        "\n",
        "    @classmethod\n",
        "    def count(cls):\n",
        "        cls.x = cls.x+1\n",
        "        return 'class method called', cls.x\n",
        "\n",
        "    @staticmethod\n",
        "    def static():\n",
        "        return 'static method called'\n",
        "\n",
        "    #count = classmethod(count)\n",
        "    #static = staticmethod(static)\n",
        "\n",
        "a = Person()\n",
        "b = Person()\n"
      ],
      "execution_count": null,
      "outputs": []
    },
    {
      "cell_type": "code",
      "source": [
        "class Felin:\n",
        "    nombre_de_patte = 4 #CEST UN ATTRIBUT DE CLASSE\n",
        "    carnivore = True #CEST UN ATTRIBUT DE CLASSE\n",
        "    energie = 100\n",
        "\n",
        "    def __init__(self,couleur): # constructeur d'attribut d'instance\n",
        "        self.__couleur = couleur\n",
        "\n",
        "    def get_race(self):\n",
        "        return self.__couleur\n",
        "\n",
        "    def set_race(self,couleur):\n",
        "        self.__couleur = couleur\n",
        "        return\n",
        "\n",
        "    def manger_viande(self):\n",
        "        print('Je viens de manger de la viande')\n",
        "\n",
        "    @classmethod\n",
        "    def tout_les_felins_courent(cls): # attribut de classe\n",
        "      cls.energie = cls.energie - 10\n",
        "\n",
        "      # 1er methode pour def une méthode de class\n",
        "      # tout_les_felins_courent = classmethod(tout_les_felins_courent)\n",
        "\n",
        "    @staticmethod\n",
        "    def nombre_de_felins(nombre_de_lion, nombre_de_tigre):\n",
        "      return nombre_de_lion+nombre_de_tigre\n",
        "\n",
        "      # 1er methode pour def une méthode de class\n",
        "      # tout_les_felins_courent = staticmethod(nombre_de_felin)\n",
        "\n",
        "    def __str__(self):\n",
        "      return 'Je suis un Félin'\n",
        "\n",
        "\n",
        "class Lion(Felin): #La classe Lion devient classe fils d'Animal\n",
        "    def __init__(self,race,name,couleur):\n",
        "        super().__init__(couleur)\n",
        "        self.__race = race\n",
        "        self.name = name\n",
        "\n",
        "    def get_race(self):\n",
        "        return self.__race\n",
        "\n",
        "    def set_race(self,nouvelle_race):\n",
        "        self.__race = nouvelle_race\n",
        "        return\n",
        "\n",
        "gerard_le_lion = Lion('Lion de la savane', 'gerard','beige')\n",
        "hakim_le_lion = Lion('Lion des montages', 'hakim','maron')\n",
        "\n",
        "print(gerard_le_lion.energie, hakim_le_lion.energie)\n",
        "print(Felin.energie)\n",
        "\n",
        "Felin.tout_les_felins_courent()\n",
        "\n",
        "print(gerard_le_lion.energie, hakim_le_lion.energie)\n",
        "print(Felin.energie)\n",
        "\n",
        "print(Felin.nombre_de_felins(3, 2))\n",
        "\n",
        "print(gerard_le_lion)"
      ],
      "metadata": {
        "id": "Rquaa0NPqjYP",
        "outputId": "81fbed9b-03a0-4040-b8c4-c9530a6cc737",
        "colab": {
          "base_uri": "https://localhost:8080/"
        }
      },
      "execution_count": 38,
      "outputs": [
        {
          "output_type": "stream",
          "name": "stdout",
          "text": [
            "100 100\n",
            "100\n",
            "90 90\n",
            "90\n",
            "5\n",
            "Je suis un Félin\n"
          ]
        }
      ]
    },
    {
      "cell_type": "code",
      "metadata": {
        "id": "-AlxczzEwBUp",
        "colab": {
          "base_uri": "https://localhost:8080/",
          "height": 34
        },
        "outputId": "4dd89338-722e-4c14-b2b2-a436a6bddde6"
      },
      "source": [
        "a.x"
      ],
      "execution_count": null,
      "outputs": [
        {
          "output_type": "execute_result",
          "data": {
            "text/plain": [
              "0"
            ]
          },
          "metadata": {
            "tags": []
          },
          "execution_count": 48
        }
      ]
    },
    {
      "cell_type": "code",
      "metadata": {
        "id": "qTrsCiE8wDhk",
        "colab": {
          "base_uri": "https://localhost:8080/",
          "height": 34
        },
        "outputId": "ff26f3b6-a583-4371-e74e-278bccaf2dc4"
      },
      "source": [
        "Person.count()"
      ],
      "execution_count": null,
      "outputs": [
        {
          "output_type": "execute_result",
          "data": {
            "text/plain": [
              "('class method called', 1)"
            ]
          },
          "metadata": {
            "tags": []
          },
          "execution_count": 49
        }
      ]
    },
    {
      "cell_type": "code",
      "metadata": {
        "id": "-cW28uUkwFf4",
        "colab": {
          "base_uri": "https://localhost:8080/",
          "height": 34
        },
        "outputId": "7a5dd0b3-4d09-4661-d17f-6e055dd1beb9"
      },
      "source": [
        "a.x"
      ],
      "execution_count": null,
      "outputs": [
        {
          "output_type": "execute_result",
          "data": {
            "text/plain": [
              "1"
            ]
          },
          "metadata": {
            "tags": []
          },
          "execution_count": 50
        }
      ]
    },
    {
      "cell_type": "code",
      "metadata": {
        "id": "UMZlKjibyG7Q",
        "colab": {
          "base_uri": "https://localhost:8080/",
          "height": 34
        },
        "outputId": "dca13894-34e5-45b4-c4f1-a9798fd89643"
      },
      "source": [
        "b.x"
      ],
      "execution_count": null,
      "outputs": [
        {
          "output_type": "execute_result",
          "data": {
            "text/plain": [
              "1"
            ]
          },
          "metadata": {
            "tags": []
          },
          "execution_count": 44
        }
      ]
    },
    {
      "cell_type": "markdown",
      "metadata": {
        "id": "--M7-WJ1zUeN"
      },
      "source": [
        "# Fonction dir, attribut __ dict __"
      ]
    },
    {
      "cell_type": "code",
      "metadata": {
        "id": "Mv6vgTovzvKS",
        "colab": {
          "base_uri": "https://localhost:8080/",
          "height": 615
        },
        "outputId": "ef00fd24-8a3f-409d-af55-4e2014a81911"
      },
      "source": [
        "# Fonction dir (renvoi une liste contenant les attributs et méthodes)\n",
        "\n",
        "\n",
        "dir(Felin)"
      ],
      "execution_count": null,
      "outputs": [
        {
          "output_type": "execute_result",
          "data": {
            "text/plain": [
              "['__class__',\n",
              " '__delattr__',\n",
              " '__dict__',\n",
              " '__dir__',\n",
              " '__doc__',\n",
              " '__eq__',\n",
              " '__format__',\n",
              " '__ge__',\n",
              " '__getattribute__',\n",
              " '__gt__',\n",
              " '__hash__',\n",
              " '__init__',\n",
              " '__init_subclass__',\n",
              " '__le__',\n",
              " '__lt__',\n",
              " '__module__',\n",
              " '__ne__',\n",
              " '__new__',\n",
              " '__reduce__',\n",
              " '__reduce_ex__',\n",
              " '__repr__',\n",
              " '__setattr__',\n",
              " '__sizeof__',\n",
              " '__str__',\n",
              " '__subclasshook__',\n",
              " '__weakref__',\n",
              " 'carnivore',\n",
              " 'energie',\n",
              " 'get_race',\n",
              " 'manger_viande',\n",
              " 'nombre_de_felins',\n",
              " 'nombre_de_patte',\n",
              " 'set_race',\n",
              " 'tout_les_felins_courent']"
            ]
          },
          "metadata": {
            "tags": []
          },
          "execution_count": 82
        }
      ]
    },
    {
      "cell_type": "code",
      "metadata": {
        "id": "j_TIx6VJzzNR",
        "colab": {
          "base_uri": "https://localhost:8080/",
          "height": 70
        },
        "outputId": "44a3de80-6545-4763-d44b-d3c1ef66300f"
      },
      "source": [
        " #attribut __dict__ (permet d'accéder aux attributs par un dictionnaire)\n",
        "\n",
        "gerard_le_lion.__dict__\n"
      ],
      "execution_count": null,
      "outputs": [
        {
          "output_type": "execute_result",
          "data": {
            "text/plain": [
              "{'_Felin__couleur': 'beige',\n",
              " '_Lion__race': 'Lion de la savane',\n",
              " 'name': 'gerard'}"
            ]
          },
          "metadata": {
            "tags": []
          },
          "execution_count": 87
        }
      ]
    },
    {
      "cell_type": "markdown",
      "metadata": {
        "id": "BXGP3_QP2Hyy"
      },
      "source": [
        "#Petite exercice coder une savane\n",
        "\n",
        "<p align=\"center\">\n",
        "<a href=\"https://youtu.be/_J80GQoVT-4\" target=\"_blank\" ><img  src=\"https://lh3.googleusercontent.com/proxy/p1_D1wdmSrmfhpm3Ur_NsnntBjGRc3v7-7Vc_AKmbNwvHJv3TKNdx9E4JifkM-FFP02rY1ojajspssFflyqScPNkl5CHPGU2TwAPtl6_L8eKJoUW3ZmguAyYhB1JyHQHHQ\" width=\"400\" height=\"auto\"/></a>\n",
        "</p>\n"
      ]
    },
    {
      "cell_type": "code",
      "metadata": {
        "id": "YBI7BvxD2H63"
      },
      "source": [],
      "execution_count": null,
      "outputs": []
    }
  ]
}
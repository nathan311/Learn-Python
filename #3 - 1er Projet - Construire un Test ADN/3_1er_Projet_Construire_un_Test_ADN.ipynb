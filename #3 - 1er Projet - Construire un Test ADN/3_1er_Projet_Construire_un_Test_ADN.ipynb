{
  "cells": [
    {
      "cell_type": "markdown",
      "metadata": {
        "id": "yaQDO3DWIMEF"
      },
      "source": [
        "# https://colab.research.google.com/"
      ]
    },
    {
      "cell_type": "markdown",
      "metadata": {
        "id": "6n4d7u3TIjmk"
      },
      "source": [
        "# Apprendre à coder en Python pour l'Intelligence Artificielle\n",
        "## Episode 3 - Construire un Test ADN\n",
        "\n",
        "<p align=\"center\">\n",
        "<a href=\"https://youtu.be/8fCtWNnBNFc\" target=\"_blank\" ><img  src=\"https://github.com/anisayari/Youtube-apprendre-python-intelligence-artificielle/blob/master/%233%20-%201er%20Projet%20-%20Construire%20un%20Test%20ADN/cover-serie-3.png?raw=true\" width=\"800\" height=\"auto\"/></a>\n",
        "</p>"
      ]
    },
    {
      "cell_type": "markdown",
      "metadata": {
        "id": "cwkHvjoiImqs"
      },
      "source": [
        "## Construction de notre population"
      ]
    },
    {
      "cell_type": "code",
      "execution_count": 1,
      "metadata": {
        "id": "S53kwM8oIl-a",
        "outputId": "bd363d69-43e1-46c4-c582-94f7760350d5",
        "colab": {
          "base_uri": "https://localhost:8080/"
        }
      },
      "outputs": [
        {
          "output_type": "stream",
          "name": "stdout",
          "text": [
            "Collecting dna_features_viewer\n",
            "  Downloading dna_features_viewer-3.1.3-py3-none-any.whl.metadata (2.0 kB)\n",
            "Requirement already satisfied: matplotlib>=3 in /usr/local/lib/python3.10/dist-packages (from dna_features_viewer) (3.8.0)\n",
            "Collecting Biopython (from dna_features_viewer)\n",
            "  Downloading biopython-1.84-cp310-cp310-manylinux_2_17_x86_64.manylinux2014_x86_64.whl.metadata (12 kB)\n",
            "Requirement already satisfied: packaging in /usr/local/lib/python3.10/dist-packages (from dna_features_viewer) (24.2)\n",
            "Requirement already satisfied: contourpy>=1.0.1 in /usr/local/lib/python3.10/dist-packages (from matplotlib>=3->dna_features_viewer) (1.3.1)\n",
            "Requirement already satisfied: cycler>=0.10 in /usr/local/lib/python3.10/dist-packages (from matplotlib>=3->dna_features_viewer) (0.12.1)\n",
            "Requirement already satisfied: fonttools>=4.22.0 in /usr/local/lib/python3.10/dist-packages (from matplotlib>=3->dna_features_viewer) (4.55.3)\n",
            "Requirement already satisfied: kiwisolver>=1.0.1 in /usr/local/lib/python3.10/dist-packages (from matplotlib>=3->dna_features_viewer) (1.4.7)\n",
            "Requirement already satisfied: numpy<2,>=1.21 in /usr/local/lib/python3.10/dist-packages (from matplotlib>=3->dna_features_viewer) (1.26.4)\n",
            "Requirement already satisfied: pillow>=6.2.0 in /usr/local/lib/python3.10/dist-packages (from matplotlib>=3->dna_features_viewer) (11.0.0)\n",
            "Requirement already satisfied: pyparsing>=2.3.1 in /usr/local/lib/python3.10/dist-packages (from matplotlib>=3->dna_features_viewer) (3.2.0)\n",
            "Requirement already satisfied: python-dateutil>=2.7 in /usr/local/lib/python3.10/dist-packages (from matplotlib>=3->dna_features_viewer) (2.8.2)\n",
            "Requirement already satisfied: six>=1.5 in /usr/local/lib/python3.10/dist-packages (from python-dateutil>=2.7->matplotlib>=3->dna_features_viewer) (1.17.0)\n",
            "Downloading dna_features_viewer-3.1.3-py3-none-any.whl (31 kB)\n",
            "Downloading biopython-1.84-cp310-cp310-manylinux_2_17_x86_64.manylinux2014_x86_64.whl (3.2 MB)\n",
            "\u001b[2K   \u001b[90m━━━━━━━━━━━━━━━━━━━━━━━━━━━━━━━━━━━━━━━━\u001b[0m \u001b[32m3.2/3.2 MB\u001b[0m \u001b[31m31.7 MB/s\u001b[0m eta \u001b[36m0:00:00\u001b[0m\n",
            "\u001b[?25hInstalling collected packages: Biopython, dna_features_viewer\n",
            "Successfully installed Biopython-1.84 dna_features_viewer-3.1.3\n"
          ]
        }
      ],
      "source": [
        "!pip install dna_features_viewer"
      ]
    },
    {
      "cell_type": "code",
      "execution_count": 4,
      "metadata": {
        "id": "B0dWRUyYdxnO",
        "colab": {
          "base_uri": "https://localhost:8080/"
        },
        "outputId": "3f821316-ce0a-4014-93a5-ba1314b753c0"
      },
      "outputs": [
        {
          "output_type": "stream",
          "name": "stdout",
          "text": [
            "il s'agit de Cristiano Ronaldo qui a 35ans, il mesure 187cm, il pèse 84kg, il a les cheveux noir et il a les yeux marron.\n",
            "il s'agit de Cristiano Junior qui a 9ans, il mesure 153cm, il pèse 45kg, il a les cheveux noir et il a les yeux marron.\n"
          ]
        }
      ],
      "source": [
        "class Human():\n",
        "\n",
        "  def __init__(self, genes, couleur_de_cheveux, couleur_des_yeux, taille, poids, age, name):\n",
        "    self.genes = genes\n",
        "    self.couleur_de_cheveux = couleur_de_cheveux\n",
        "    self.couleur_des_yeux = couleur_des_yeux\n",
        "    self.taille = taille\n",
        "    self.poids = poids\n",
        "    self.age=age\n",
        "    self.name = name\n",
        "\n",
        "  def get_description(self):\n",
        "    print(f\"il s'agit de {self.name} qui a {self.age}ans, il mesure {self.taille}cm, \\\n",
        "il pèse {self.poids}kg, il a les cheveux {self.couleur_de_cheveux} et il a les yeux \\\n",
        "{self.couleur_des_yeux}.\")\n",
        "\n",
        "\n",
        "genes1 = {'sequence':\"ATGCATGCATGCATGCATGCATGCATGCATGCATGCATGCATGCATGCATGCATGCATGCATGCGTGGTGGATT\",\n",
        "    'genes': {\n",
        "            'genes1':(1,5),\n",
        "            'genes2':(3,9),\n",
        "            'genes3':(10,15),\n",
        "            'genes4':(13,19),\n",
        "            'genes5':(17,24),\n",
        "            'genes6':(25,35),\n",
        "            'genes7':(34,42),\n",
        "            'genes8':(27,57),\n",
        "            'genes9':(54,60),\n",
        "            'genes10':(60,70)\n",
        "          }\n",
        "}\n",
        "\n",
        "genes2 = {'sequence':\"TACCAACACGCCATGCATGCATGCATGCATGCATGCATGCAGGCCTTATGGCCATGCAGTAGGGTCCTG\",\n",
        "    'genes': {\n",
        "            'genes1':(1,5),\n",
        "            'genes2':(2,12),\n",
        "            'genes3':(11,41),\n",
        "            'genes4':(19,28),\n",
        "            'genes5':(26,35),\n",
        "            'genes6':(30,36),\n",
        "            'genes7':(36,41),\n",
        "            'genes8':(40,45),\n",
        "            'genes9':(52,58),\n",
        "            'genes10':(58,70)\n",
        "          }\n",
        "}\n",
        "\n",
        "# *args, **kwargs\n",
        "CR7 = Human(genes1, 'noir', 'marron', 187, 84, 35, 'Cristiano Ronaldo')\n",
        "CJ = Human(genes2, 'noir', 'marron', 153, 45, 9, 'Cristiano Junior')\n",
        "\n",
        "CR7.get_description()\n",
        "CJ.get_description()"
      ]
    },
    {
      "cell_type": "code",
      "source": [],
      "metadata": {
        "id": "nEUhYDTjcMDq",
        "outputId": "6af28dd9-17e3-4a15-8058-5c8a4c9f4351",
        "colab": {
          "base_uri": "https://localhost:8080/",
          "height": 144
        }
      },
      "execution_count": 6,
      "outputs": [
        {
          "output_type": "error",
          "ename": "TypeError",
          "evalue": "'dict_values' object is not subscriptable",
          "traceback": [
            "\u001b[0;31m---------------------------------------------------------------------------\u001b[0m",
            "\u001b[0;31mTypeError\u001b[0m                                 Traceback (most recent call last)",
            "\u001b[0;32m<ipython-input-6-d5b3b320888e>\u001b[0m in \u001b[0;36m<cell line: 1>\u001b[0;34m()\u001b[0m\n\u001b[0;32m----> 1\u001b[0;31m \u001b[0mlist\u001b[0m\u001b[0;34m(\u001b[0m\u001b[0mCR7\u001b[0m\u001b[0;34m.\u001b[0m\u001b[0mgenes\u001b[0m\u001b[0;34m.\u001b[0m\u001b[0mvalues\u001b[0m\u001b[0;34m(\u001b[0m\u001b[0;34m)\u001b[0m\u001b[0;34m[\u001b[0m\u001b[0;36m1\u001b[0m\u001b[0;34m]\u001b[0m\u001b[0;34m)\u001b[0m\u001b[0;34m\u001b[0m\u001b[0;34m\u001b[0m\u001b[0m\n\u001b[0m",
            "\u001b[0;31mTypeError\u001b[0m: 'dict_values' object is not subscriptable"
          ]
        }
      ]
    },
    {
      "cell_type": "code",
      "execution_count": 5,
      "metadata": {
        "id": "fkXBCx1e9N8S",
        "colab": {
          "base_uri": "https://localhost:8080/"
        },
        "outputId": "c46040e4-092b-4f8f-f683-488ef8437fc5"
      },
      "outputs": [
        {
          "output_type": "execute_result",
          "data": {
            "text/plain": [
              "{'sequence': 'ATGCATGCATGCATGCATGCATGCATGCATGCATGCATGCATGCATGCATGCATGCATGCATGCGTGGTGGATT',\n",
              " 'genes': {'genes1': (1, 5),\n",
              "  'genes2': (3, 9),\n",
              "  'genes3': (10, 15),\n",
              "  'genes4': (13, 19),\n",
              "  'genes5': (17, 24),\n",
              "  'genes6': (25, 35),\n",
              "  'genes7': (34, 42),\n",
              "  'genes8': (27, 57),\n",
              "  'genes9': (54, 60),\n",
              "  'genes10': (60, 70)}}"
            ]
          },
          "metadata": {},
          "execution_count": 5
        }
      ],
      "source": [
        "CR7.genes #récupérer l'attribut genes de l'objet Human CR7"
      ]
    },
    {
      "cell_type": "code",
      "execution_count": 7,
      "metadata": {
        "id": "TP-hrcoQ9GuW",
        "colab": {
          "base_uri": "https://localhost:8080/"
        },
        "outputId": "77d8a370-af3b-4f3f-f284-845f6547f00f"
      },
      "outputs": [
        {
          "output_type": "execute_result",
          "data": {
            "text/plain": [
              "dict_keys(['sequence', 'genes'])"
            ]
          },
          "metadata": {},
          "execution_count": 7
        }
      ],
      "source": [
        "CR7.genes.keys() #recupérer les clés du dictionnaire genes"
      ]
    },
    {
      "cell_type": "code",
      "execution_count": 8,
      "metadata": {
        "id": "QUmX2ZSC9wv6",
        "colab": {
          "base_uri": "https://localhost:8080/"
        },
        "outputId": "27fb5f3a-ad06-499c-ef57-2e47aa294395"
      },
      "outputs": [
        {
          "output_type": "execute_result",
          "data": {
            "text/plain": [
              "dict_values(['ATGCATGCATGCATGCATGCATGCATGCATGCATGCATGCATGCATGCATGCATGCATGCATGCGTGGTGGATT', {'genes1': (1, 5), 'genes2': (3, 9), 'genes3': (10, 15), 'genes4': (13, 19), 'genes5': (17, 24), 'genes6': (25, 35), 'genes7': (34, 42), 'genes8': (27, 57), 'genes9': (54, 60), 'genes10': (60, 70)}])"
            ]
          },
          "metadata": {},
          "execution_count": 8
        }
      ],
      "source": [
        "CR7.genes.values() #récupérer les valeurs du dictionnaire genes"
      ]
    },
    {
      "cell_type": "code",
      "source": [
        "list(CR7.genes.values())[1]"
      ],
      "metadata": {
        "id": "w3pU2YSucicP",
        "outputId": "02f86260-1977-426d-b3be-14681ebd80be",
        "colab": {
          "base_uri": "https://localhost:8080/"
        }
      },
      "execution_count": 10,
      "outputs": [
        {
          "output_type": "execute_result",
          "data": {
            "text/plain": [
              "{'genes1': (1, 5),\n",
              " 'genes2': (3, 9),\n",
              " 'genes3': (10, 15),\n",
              " 'genes4': (13, 19),\n",
              " 'genes5': (17, 24),\n",
              " 'genes6': (25, 35),\n",
              " 'genes7': (34, 42),\n",
              " 'genes8': (27, 57),\n",
              " 'genes9': (54, 60),\n",
              " 'genes10': (60, 70)}"
            ]
          },
          "metadata": {},
          "execution_count": 10
        }
      ]
    },
    {
      "cell_type": "code",
      "source": [
        "type(list(CR7.genes.values())[1])"
      ],
      "metadata": {
        "id": "ZIStL5D-comY",
        "outputId": "6620df9f-cef2-4712-cca1-27bb7a25702e",
        "colab": {
          "base_uri": "https://localhost:8080/"
        }
      },
      "execution_count": 11,
      "outputs": [
        {
          "output_type": "execute_result",
          "data": {
            "text/plain": [
              "dict"
            ]
          },
          "metadata": {},
          "execution_count": 11
        }
      ]
    },
    {
      "cell_type": "code",
      "execution_count": null,
      "metadata": {
        "id": "u-b-pap082oB",
        "colab": {
          "base_uri": "https://localhost:8080/",
          "height": 34
        },
        "outputId": "1dd1bf20-47b2-4fb2-9476-459dacdf0b66"
      },
      "outputs": [
        {
          "data": {
            "text/plain": [
              "dict_keys(['genes1', 'genes2', 'genes3', 'genes4', 'genes5', 'genes6', 'genes7', 'genes8', 'genes9', 'genes10'])"
            ]
          },
          "execution_count": 162,
          "metadata": {
            "tags": []
          },
          "output_type": "execute_result"
        }
      ],
      "source": [
        "CR7.genes['genes'].keys()"
      ]
    },
    {
      "cell_type": "code",
      "execution_count": 12,
      "metadata": {
        "id": "jVr7-EDw-Imr",
        "colab": {
          "base_uri": "https://localhost:8080/"
        },
        "outputId": "961e2f0b-3e0d-42a4-eae6-c49fe3ed561c"
      },
      "outputs": [
        {
          "output_type": "execute_result",
          "data": {
            "text/plain": [
              "{'sequence': 'TACCAACACGCCATGCATGCATGCATGCATGCATGCATGCAGGCCTTATGGCCATGCAGTAGGGTCCTG',\n",
              " 'genes': {'genes1': (1, 5),\n",
              "  'genes2': (2, 12),\n",
              "  'genes3': (11, 41),\n",
              "  'genes4': (19, 28),\n",
              "  'genes5': (26, 35),\n",
              "  'genes6': (30, 36),\n",
              "  'genes7': (36, 41),\n",
              "  'genes8': (40, 45),\n",
              "  'genes9': (52, 58),\n",
              "  'genes10': (58, 70)}}"
            ]
          },
          "metadata": {},
          "execution_count": 12
        }
      ],
      "source": [
        "CJ.genes"
      ]
    },
    {
      "cell_type": "code",
      "execution_count": 13,
      "metadata": {
        "id": "LECS61o-K3HT",
        "outputId": "78a3e6ad-7464-49cb-8705-859e2c39bbc6",
        "colab": {
          "base_uri": "https://localhost:8080/",
          "height": 480
        }
      },
      "outputs": [
        {
          "output_type": "stream",
          "name": "stderr",
          "text": [
            "/usr/local/lib/python3.10/dist-packages/Bio/Seq.py:2879: BiopythonWarning: Partial codon, len(sequence) not a multiple of three. Explicitly trim the sequence or add trailing N before translation. This may become an error in future.\n",
            "  warnings.warn(\n"
          ]
        },
        {
          "output_type": "display_data",
          "data": {
            "text/plain": [
              "<Figure size 2000x260 with 1 Axes>"
            ],
            "image/png": "[encoded data removed]"
          },
          "metadata": {}
        },
        {
          "output_type": "display_data",
          "data": {
            "text/plain": [
              "<Figure size 2000x260 with 1 Axes>"
            ],
            "image/png": "[encoded data removed]"
          },
          "metadata": {}
        }
      ],
      "source": [
        "from dna_features_viewer import GraphicFeature, GraphicRecord\n",
        "\n",
        "def print_sequence_dna(genes):\n",
        "  sequence_gene = genes['sequence']\n",
        "\n",
        "  features_gene = []\n",
        "  for gene_ in genes['genes'].values():\n",
        "    features_gene.append(GraphicFeature(start=gene_[0], end=gene_[1], strand=+1, color='#ffcccc'))\n",
        "\n",
        "  record = GraphicRecord(sequence=sequence_gene, features=features_gene)\n",
        "\n",
        "  ax, _ = record.plot(figure_width=20)\n",
        "  record.plot_sequence(ax)\n",
        "  record.plot_translation(ax, (1, len(sequence_gene)), fontdict={'weight': 'bold'})\n",
        "\n",
        "\n",
        "print_sequence_dna(CR7.genes)\n",
        "print_sequence_dna(CJ.genes)\n"
      ]
    },
    {
      "cell_type": "markdown",
      "metadata": {
        "id": "yMvCto9-X56U"
      },
      "source": []
    },
    {
      "cell_type": "markdown",
      "metadata": {
        "id": "CWr1vkEVIsVS"
      },
      "source": [
        "## Construction de notre logique de Test"
      ]
    },
    {
      "cell_type": "code",
      "execution_count": 16,
      "metadata": {
        "id": "x54yI8NhlqAr",
        "colab": {
          "base_uri": "https://localhost:8080/"
        },
        "outputId": "8128fed1-2323-4646-bd33-21a15b3e86af"
      },
      "outputs": [
        {
          "output_type": "stream",
          "name": "stdout",
          "text": [
            "CJ:  ['ACCA', 'CCAACACGCC', 'CATGCATGCATGCATGCATGCATGCATGCA', 'CATGCATGC', 'GCATGCATG', 'GCATGC', 'ATGCA', 'AGGCC', 'CATGCA', 'GTAGGGTCCTG']\n",
            "CR7:  ['TGCA', 'CATGCA', 'GCATG', 'TGCATG', 'TGCATGC', 'TGCATGCATG', 'GCATGCAT', 'CATGCATGCATGCATGCATGCATGCATGCA', 'GCATGC', 'ATGCGTGGTG']\n"
          ]
        }
      ],
      "source": [
        "\"\"\"\n",
        "{'genes': {'genes1': (1, 5),\n",
        "  'genes10': (58, 70),\n",
        "  'genes2': (2, 12),\n",
        "  'genes3': (11, 41),\n",
        "  'genes4': (19, 28),\n",
        "  'genes5': (26, 35),\n",
        "  'genes6': (30, 36),\n",
        "  'genes7': (36, 41),\n",
        "  'genes8': (40, 45),\n",
        "  'genes9': (52, 58)},\n",
        " 'sequence': 'TACCAACACGCCATGCATGCATGCATGCATGCATGCATGCAGGCCTTATGGCCATGCAGTAGGGTCCTG'}\n",
        "\"\"\"\n",
        "list_genes_CR7 = []\n",
        "for genes_ in CR7.genes['genes'].values():\n",
        "  #print(CR7.genes['sequence'][genes_[0]:genes_[1]],genes_[0],genes_[1])\n",
        "  list_genes_CR7.append(CR7.genes['sequence'][genes_[0]:genes_[1]])\n",
        "\n",
        "list_genes_CJ = []\n",
        "for genes_ in CJ.genes['genes'].values():\n",
        "  #print(CJ.genes['sequence'][genes_[0]:genes_[1]],genes_[0],genes_[1])\n",
        "  list_genes_CJ.append(CJ.genes['sequence'][genes_[0]:genes_[1]])\n",
        "\n",
        "print('CJ: ',list_genes_CJ)\n",
        "print('CR7: ',list_genes_CR7)"
      ]
    },
    {
      "cell_type": "code",
      "source": [
        "print(CR7.genes['sequence'][genes_[0]:genes_[1]],genes_[0],genes_[1])\n",
        "print(genes_)"
      ],
      "metadata": {
        "id": "xme0YRok2Rlk",
        "outputId": "c57f3700-d606-47a6-92fd-1ba5a10a05e6",
        "colab": {
          "base_uri": "https://localhost:8080/"
        }
      },
      "execution_count": 21,
      "outputs": [
        {
          "output_type": "stream",
          "name": "stdout",
          "text": [
            "GCATGCGTGGTG 58 70\n",
            "(58, 70)\n"
          ]
        }
      ]
    },
    {
      "cell_type": "code",
      "execution_count": null,
      "metadata": {
        "id": "XN1nwcWeETyW",
        "colab": {
          "base_uri": "https://localhost:8080/",
          "height": 52
        },
        "outputId": "c9e06035-4dec-4580-b48e-6b51ba56da5f"
      },
      "outputs": [
        {
          "name": "stdout",
          "output_type": "stream",
          "text": [
            "CPU times: user 3 µs, sys: 1e+03 ns, total: 4 µs\n",
            "Wall time: 8.34 µs\n"
          ]
        }
      ],
      "source": [
        "%time\n",
        "a = []\n",
        "for i in range(1000000):\n",
        "  a.append(i)"
      ]
    },
    {
      "cell_type": "code",
      "execution_count": null,
      "metadata": {
        "id": "iw6xIk3JEeX3",
        "colab": {
          "base_uri": "https://localhost:8080/",
          "height": 52
        },
        "outputId": "5b5abe0f-b8c1-4531-fa2d-b764d348b2d0"
      },
      "outputs": [
        {
          "name": "stdout",
          "output_type": "stream",
          "text": [
            "CPU times: user 2 µs, sys: 0 ns, total: 2 µs\n",
            "Wall time: 5.25 µs\n"
          ]
        }
      ],
      "source": [
        "%time\n",
        "#list compréhension\n",
        "a = [i for i in range(1000000)]"
      ]
    },
    {
      "cell_type": "code",
      "execution_count": null,
      "metadata": {
        "id": "QO74F9yYEx4O",
        "colab": {
          "base_uri": "https://localhost:8080/",
          "height": 122
        },
        "outputId": "98bc8383-0c8e-4cb0-f172-98c51c48cd49"
      },
      "outputs": [
        {
          "name": "stdout",
          "output_type": "stream",
          "text": [
            "CPU times: user 3 µs, sys: 0 ns, total: 3 µs\n",
            "Wall time: 7.39 µs\n",
            "DIRTY WAY\n",
            "Gene en commun! CATGCA\n",
            "Gene en commun! CATGCATGCATGCATGCATGCATGCATGCA\n",
            "Gene en commun! GCATGC\n"
          ]
        }
      ],
      "source": [
        "%time\n",
        "#DIRTY WAY\n",
        "print('DIRTY WAY')\n",
        "for genes_CR7 in list_genes_CR7 :\n",
        "  for genes_CJ in list_genes_CJ :\n",
        "    if genes_CR7 == genes_CJ :\n",
        "      print('Gene en commun!', genes_CR7)\n",
        "\n",
        "@TODO\n",
        "#Créer une fonction pour comparer les genes et sortir le pourcentage sur plusieurs personnes"
      ]
    },
    {
      "cell_type": "code",
      "execution_count": null,
      "metadata": {
        "id": "0TpsiR0tCrTt",
        "colab": {
          "base_uri": "https://localhost:8080/",
          "height": 122
        },
        "outputId": "64d57840-0b15-4eeb-df77-ecd185fdae2d"
      },
      "outputs": [
        {
          "name": "stdout",
          "output_type": "stream",
          "text": [
            "CPU times: user 2 µs, sys: 1e+03 ns, total: 3 µs\n",
            "Wall time: 5.01 µs\n",
            "SOFT WAY\n",
            "Gene en commun! CATGCA\n",
            "Gene en commun! CATGCATGCATGCATGCATGCATGCATGCA\n",
            "Gene en commun! GCATGC\n"
          ]
        }
      ],
      "source": [
        "%time\n",
        "#SOFT WAY\n",
        "print('SOFT WAY')\n",
        "nombre_de_genes_en_commun = 0\n",
        "for genes_CR7 in list_genes_CR7 :\n",
        "  if genes_CR7 in list_genes_CJ:\n",
        "    print('Gene en commun!', genes_CR7)\n",
        "    nombre_de_genes_en_commun = nombre_de_genes_en_commun + 1"
      ]
    },
    {
      "cell_type": "code",
      "execution_count": null,
      "metadata": {
        "id": "GQxRMVPKFuWn",
        "colab": {
          "base_uri": "https://localhost:8080/",
          "height": 34
        },
        "outputId": "d6eaa0a0-2401-4aed-9463-3174d2f1fe54"
      },
      "outputs": [
        {
          "name": "stdout",
          "output_type": "stream",
          "text": [
            "Cristiano Ronaldo et Cristiano Junior ont 30.0% de genes en commun\n"
          ]
        }
      ],
      "source": [
        "print(f'{CR7.name} et {CJ.name} ont {(nombre_de_genes_en_commun/10)*100}% de genes en commun')"
      ]
    },
    {
      "cell_type": "code",
      "execution_count": null,
      "metadata": {
        "id": "HLvxmMTVE4JX",
        "colab": {
          "base_uri": "https://localhost:8080/",
          "height": 70
        },
        "outputId": "33ea5006-1733-4439-8bb6-061068bfa800"
      },
      "outputs": [
        {
          "name": "stdout",
          "output_type": "stream",
          "text": [
            "CPU times: user 4 µs, sys: 0 ns, total: 4 µs\n",
            "Wall time: 7.87 µs\n"
          ]
        },
        {
          "data": {
            "text/plain": [
              "[1, 2, 3]"
            ]
          },
          "execution_count": 219,
          "metadata": {
            "tags": []
          },
          "output_type": "execute_result"
        }
      ],
      "source": [
        "%time\n",
        "a = [1,2,2,3,1]\n",
        "list(set(a)) #le set sert à enlever les doublons et a organiser la list"
      ]
    },
    {
      "cell_type": "code",
      "execution_count": null,
      "metadata": {
        "id": "71z2CMBsBGMf",
        "colab": {
          "base_uri": "https://localhost:8080/",
          "height": 34
        },
        "outputId": "c5eee030-5235-481f-f522-c0ab4500e8d2"
      },
      "outputs": [
        {
          "data": {
            "text/plain": [
              "'ATGCATGCATGCATGCATGCATGCATGCATGCATGCATGCATGCATGCATGCATGCATGCATGCGTGGTGGATT'"
            ]
          },
          "execution_count": 190,
          "metadata": {
            "tags": []
          },
          "output_type": "execute_result"
        }
      ],
      "source": [
        "CR7.genes['sequence']"
      ]
    },
    {
      "cell_type": "code",
      "execution_count": null,
      "metadata": {
        "id": "kSHOFDfcAPPe",
        "colab": {
          "base_uri": "https://localhost:8080/",
          "height": 70
        },
        "outputId": "cafc67e4-1bf0-4d95-f64e-6b54cc064d57"
      },
      "outputs": [
        {
          "name": "stdout",
          "output_type": "stream",
          "text": [
            "Cristiano Ronaldo do\n",
            "20\n"
          ]
        },
        {
          "data": {
            "text/plain": [
              "3"
            ]
          },
          "execution_count": 187,
          "metadata": {
            "tags": []
          },
          "output_type": "execute_result"
        }
      ],
      "source": [
        "phrase = 'Cristiano Ronaldo dos Santos Aveiro GOIH ComM (European Portuguese: [kɾiʃˈtjɐnu ʁɔˈnaɫdu]; born 5 February 1985) is a Portuguese professional footballer who plays as a forward for Serie A club Juventus and captains the Portugal national team.'\n",
        "\n",
        "print(phrase[:20]) #une lsite commence à 0 !! On peut accéder aux donnés par index\n",
        "a=[1,2,3]\n",
        "\n",
        "compteur = 0\n",
        "for i in phrase[:20]:\n",
        "  compteur = compteur +1\n",
        "print(compteur)\n",
        "\n",
        "len(a)"
      ]
    },
    {
      "cell_type": "code",
      "execution_count": null,
      "metadata": {
        "id": "_ANLHG64A_sv",
        "colab": {
          "base_uri": "https://localhost:8080/",
          "height": 34
        },
        "outputId": "00f8c03b-d2f9-4ebf-d471-05966c1a04de"
      },
      "outputs": [
        {
          "data": {
            "text/plain": [
              "'s Santos A'"
            ]
          },
          "execution_count": 188,
          "metadata": {
            "tags": []
          },
          "output_type": "execute_result"
        }
      ],
      "source": [
        "phrase[20:30]"
      ]
    },
    {
      "cell_type": "code",
      "execution_count": null,
      "metadata": {
        "id": "Pw6PTbjB_ts1",
        "colab": {
          "base_uri": "https://localhost:8080/",
          "height": 52
        },
        "outputId": "589dd168-3b01-4a1b-ae25-f275d0a0af83"
      },
      "outputs": [
        {
          "name": "stdout",
          "output_type": "stream",
          "text": [
            "1\n",
            "5\n"
          ]
        }
      ],
      "source": [
        "a = (1, 5)\n",
        "print(a[0])\n",
        "print(a[1])"
      ]
    },
    {
      "cell_type": "code",
      "execution_count": null,
      "metadata": {
        "id": "9NJiYmeOBvso",
        "colab": {
          "base_uri": "https://localhost:8080/",
          "height": 34
        },
        "outputId": "9fcb73c4-a23d-4f58-e875-7df38d9f7e8c"
      },
      "outputs": [
        {
          "name": "stdout",
          "output_type": "stream",
          "text": [
            "[1, 2, 3, 4]\n"
          ]
        }
      ],
      "source": [
        "#ajouter un element dans une list\n",
        "a = [1,2,3]\n",
        "\n",
        "a.append(4)\n",
        "print(a)"
      ]
    },
    {
      "cell_type": "markdown",
      "metadata": {
        "id": "wsYkIN7ylqMG"
      },
      "source": [
        "# UTILS"
      ]
    },
    {
      "cell_type": "code",
      "execution_count": null,
      "metadata": {
        "id": "M_xrb1nyIiq4",
        "outputId": "5e96988e-38cf-429c-f0d9-d6c5acc12341",
        "colab": {
          "base_uri": "https://localhost:8080/",
          "height": 90
        }
      },
      "outputs": [
        {
          "name": "stdout",
          "output_type": "stream",
          "text": [
            "1 5\n",
            "3 9\n",
            "10 25\n",
            "20 28\n"
          ]
        }
      ],
      "source": [
        "genes = { 'sequence':\"ATGCATGCATGCATGCATGCATGCATGCATGCATGCATGCATGCATGCATGCATGCATGCATGC\",\n",
        "    'genes': {\n",
        "            'genes1':(1,5),\n",
        "            'genes2':(3,9),\n",
        "            'genes3':(10,25),\n",
        "            'genes4':(20,28)\n",
        "          }\n",
        "}\n",
        "\n",
        "for gene_ in genes['genes'].values():\n",
        "  print(gene_[0],gene_[1])"
      ]
    },
    {
      "cell_type": "code",
      "execution_count": null,
      "metadata": {
        "id": "p3qGKssEILPU",
        "outputId": "8081795d-834a-4ac6-89ea-a7aa080b1976",
        "colab": {
          "base_uri": "https://localhost:8080/",
          "height": 108
        }
      },
      "outputs": [
        {
          "name": "stdout",
          "output_type": "stream",
          "text": [
            "{(1, 5)}\n",
            "{(3, 9)}\n",
            "{(10, 25)}\n",
            "{(20, 28)}\n"
          ]
        },
        {
          "data": {
            "text/plain": [
              "[None, None, None, None]"
            ]
          },
          "execution_count": 45,
          "metadata": {
            "tags": []
          },
          "output_type": "execute_result"
        }
      ],
      "source": [
        "genes1 = { 'sequence':\"ATGCATGCATGCATGCATGCATGCATGCATGCATGCATGCATGCATGCATGCATGCATGCATGCGTGGTGGATT\",\n",
        "    'genes': {\n",
        "            'genes1':(0,5),\n",
        "            'genes2':(3,9),\n",
        "            'genes3':(10,15),\n",
        "            'genes4':(13,19),\n",
        "            'genes5':(17,24),\n",
        "            'genes6':(25,35),\n",
        "            'genes7':(34,42),\n",
        "            'genes8':(27,57),\n",
        "            'genes9':(54,60),\n",
        "            'genes10':(60,70)\n",
        "          }\n",
        "}\n",
        "seq = genes1['sequence']\n",
        "for gene_ in genes['genes']:\n",
        "  print(gene_,seq[genes['genes'][gene_][0]:genes['genes'][gene_][1]],genes['genes'][gene_][0],genes['genes'][gene_][1])\n"
      ]
    },
    {
      "cell_type": "code",
      "execution_count": null,
      "metadata": {
        "id": "OGwgsahg0r1D"
      },
      "outputs": [],
      "source": [
        "#gene[28:34] = 'GCATGC'\n",
        "#gene[56:62]= 'TGCATG'\n",
        "genes= 'TACCAACACGCGTTAGGTGGCACGTTGCGAAGCTGCTTGACGGCCTTATGGCCCGGTGGTAGGGTCCTG'\n",
        "print(genes,len(genes))\n",
        "start = 11\n",
        "end = 41\n",
        "genes = genes[:start] + 'CATGCATGCATGCATGCATGCATGCATGCA' + genes[end:]\n",
        "\n",
        "start = 52\n",
        "end = 58\n",
        "genes_tmp = genes[:start] + 'CATGCA' + genes[end:]\n",
        "print(genes_tmp,len(genes_tmp))"
      ]
    },
    {
      "cell_type": "code",
      "execution_count": null,
      "metadata": {
        "id": "KQ4z4_rM5dks"
      },
      "outputs": [],
      "source": [
        "genes3 = { 'sequence':\"ATGCATGCATGCATGCATGCATGCATGCATGCATGCATGCATGCATGCATGCATGCATGCATGCGTGGTGGATT\",\n",
        "    'genes': {\n",
        "            'genes1':(1,5),\n",
        "            'genes2':(3,9),\n",
        "            'genes3':(10,15),\n",
        "            'genes4':(13,19),\n",
        "            'genes5':(17,24),\n",
        "            'genes6':(25,35),\n",
        "            'genes7':(34,42),\n",
        "            'genes8':(27,57),\n",
        "            'genes9':(54,60),\n",
        "            'genes10':(60,70)\n",
        "          }\n",
        "}"
      ]
    }
  ],
  "metadata": {
    "colab": {
      "name": "#3 - 1er Projet - Construire un Test ADN",
      "provenance": []
    },
    "kernelspec": {
      "name": "python3",
      "display_name": "Python 3"
    }
  },
  "nbformat": 4,
  "nbformat_minor": 0
}
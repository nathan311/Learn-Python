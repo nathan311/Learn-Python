{
  "cells": [
    {
      "cell_type": "markdown",
      "metadata": {
        "id": "10WM8oMW34gM"
      },
      "source": [
        "# https://colab.research.google.com/"
      ]
    },
    {
      "cell_type": "markdown",
      "metadata": {
        "id": "WRukn-T937E7"
      },
      "source": [
        "# Apprendre à coder en Python pour l'Intelligence Artificielle\n",
        "## Episode 5 - Regex, exceptions, modules et astuces\n",
        "\n",
        "<p align=\"center\">\n",
        "<a href=\"https://youtu.be/8fCtWNnBNFc\" target=\"_blank\" ><img  src=\"https://raw.githubusercontent.com/anisayari/Youtube-apprendre-python-intelligence-artificielle/master/%235%20-%20Regex%2C%20exceptions%2C%20modules%20et%20astuces/cover-serie-2.png\" width=\"800\" height=\"auto\"/></a>\n",
        "</p>"
      ]
    },
    {
      "cell_type": "markdown",
      "metadata": {
        "id": "_21HRJ7M5Lbq"
      },
      "source": [
        "# Regex\n",
        "\n",
        "## Réaliser des recherches et des opérations (extraction, remplacement...) dans les chaines de caractères\n",
        "\n",
        "Les tokens communs :\n",
        "- [abc] : Un caractère unique de a,b ou c\n",
        "- [^abc]: Un caractère sauf a,b ou c\n",
        "- [a-z] : Un caractère entre a et z\n",
        "- [^a-z] : Un caractère pas entre a et z\n",
        "- [a-zA-Z] : Un caractère entre a-z ou A-Z\n",
        "- . : N'importre quel caractère\n",
        "- \\s : n'importe espace blanc caractère\n",
        "- \\S : N'importe non espace blanc caractère\n",
        "- \\d : N'importe quel nombre\n",
        "- \\D : N'importe caractère qui ne soit pas un nombre\n",
        "- \\w : N'importe mot\n",
        "- \\W : N'importe non mot\n",
        "- (...) Récupérer tout ce qui est entre parenthèse\n",
        "- (a|b) : Match a our b\n",
        "- a* 0 : ou + occurences de a\n",
        "- a+ 1 : ou + occurences de a\n",
        "- a{3} : Exactement 3 occurences de a\n",
        "- a{3,}: 3 ou + occurence de a\n",
        "- a{3,6} : Entre 3 et 6 occurences de a\n",
        "- \\b : les frontières d'un mot\n",
        "- \\B : les non frontières d'un mot\n",
        "- ^ : Début de la chaine de caractère\n",
        "- $ : Fin de la chaine de caractère\n"
      ]
    },
    {
      "cell_type": "code",
      "source": [
        "#re.search(texte_a_chercher,texte) Cherche tout la chaine de caractère, return avec .start() et .end() les indexs des recherches\n",
        "\n",
        "import re\n",
        "text = \"Une planète est un corps céleste orbitant autour du Soleil ou d'une autre étoile, possédant une masse suffisante pour que sa gravité la maintienne en équilibre hydrostatique, c'est-à-dire sous une forme presque sphérique, et ayant éliminé tout corps « rival » se déplaçant sur son orbite ou sur une orbite proche. Par extension on qualifie parfois aussi de planètes les objets libres de masse planétaire.\"\n",
        "\n",
        "print(re.search('orbit', text))\n",
        "print(re.search('tigre', text))"
      ],
      "metadata": {
        "id": "VSVgWxT26AIS",
        "outputId": "a02c980d-ad1f-4da0-f12b-dd605fb3ea31",
        "colab": {
          "base_uri": "https://localhost:8080/"
        }
      },
      "execution_count": 9,
      "outputs": [
        {
          "output_type": "stream",
          "name": "stdout",
          "text": [
            "<re.Match object; span=(0, 3), match='Une'>\n",
            "None\n"
          ]
        }
      ]
    },
    {
      "cell_type": "code",
      "source": [
        "#re.compile(text, args) copiler une expression régulière\n",
        "\n",
        "myregex = re.compile('une',)\n",
        "\n",
        "print(myregex.search(text))"
      ],
      "metadata": {
        "id": "WvdCi0XC7CMh",
        "outputId": "950b847c-dc5f-4bd9-8403-ba109c702b03",
        "colab": {
          "base_uri": "https://localhost:8080/"
        }
      },
      "execution_count": 11,
      "outputs": [
        {
          "output_type": "stream",
          "name": "stdout",
          "text": [
            "<re.Match object; span=(64, 67), match='une'>\n"
          ]
        }
      ]
    },
    {
      "cell_type": "code",
      "execution_count": null,
      "metadata": {
        "id": "D1erKslf5TQG"
      },
      "outputs": [],
      "source": [
        "#re.search(texte_a_chercher,texte) Cherche tout la chaine de caractère, return avec .start() et .end() les indexs des recherches\n",
        "#re.match(texte_a_chercher,texte) Cherche au début de la chaine de caractère\n",
        "#return un  MatchObject ou None"
      ]
    },
    {
      "cell_type": "code",
      "execution_count": 13,
      "metadata": {
        "id": "PS65w4ez7RVa",
        "colab": {
          "base_uri": "https://localhost:8080/"
        },
        "outputId": "5d4c9644-07d2-4980-ba07-f09ee786f6cd"
      },
      "outputs": [
        {
          "output_type": "stream",
          "name": "stdout",
          "text": [
            "<re.Match object; span=(0, 4), match='Test'>\n",
            "None\n",
            "None\n",
            "<re.Match object; span=(10, 16), match='Tester'>\n",
            "<re.Match object; span=(10, 16), match='Tester'>\n"
          ]
        }
      ],
      "source": [
        "# example code:\n",
        "test_text = \"\"\"Test pour\n",
        "Tester\"\"\"\n",
        "\n",
        "import re\n",
        "\n",
        "print(re.match('Test', test_text)) #OK\n",
        "print(re.match('Tester', test_text)) #None\n",
        "print(re.match('^Tester', test_text)) #None\n",
        "print(re.search('Tester', test_text)) #OK\n",
        "print(re.search('^Tester', test_text, re.MULTILINE)) #OK"
      ]
    },
    {
      "cell_type": "code",
      "execution_count": null,
      "metadata": {
        "id": "IhGFMYzm9Ex5",
        "colab": {
          "base_uri": "https://localhost:8080/",
          "height": 52
        },
        "outputId": "7f4261d7-07ca-423b-896b-3657e8ddaac9"
      },
      "outputs": [
        {
          "name": "stdout",
          "output_type": "stream",
          "text": [
            "None\n",
            "<_sre.SRE_Match object; span=(13, 16), match='ter'>\n"
          ]
        }
      ],
      "source": [
        "#re.compile(text, args)\n",
        "\n",
        "m = re.compile('ter$', re.MULTILINE)\n",
        "\n",
        "print(m.match(test_text)) # no match\n",
        "print(m.search(test_text, re.MULTILINE)) # also matches"
      ]
    },
    {
      "cell_type": "code",
      "execution_count": 4,
      "metadata": {
        "id": "lfpaRvRb_CCF",
        "colab": {
          "base_uri": "https://localhost:8080/"
        },
        "outputId": "6fddb636-a6ab-4927-c5ea-69d6d893584b"
      },
      "outputs": [
        {
          "output_type": "stream",
          "name": "stdout",
          "text": [
            "<re.Match object; span=(0, 3), match='Une'>\n"
          ]
        }
      ],
      "source": [
        "text = \"Une planète est un corps céleste orbitant autour du Soleil ou d'une autre étoile, possédant une masse suffisante pour que sa gravité la maintienne en équilibre hydrostatique, c'est-à-dire sous une forme presque sphérique, et ayant éliminé tout corps « rival » se déplaçant sur son orbite ou sur une orbite proche. Par extension on qualifie parfois aussi de planètes les objets libres de masse planétaire.\"\n",
        "\n",
        "text_regex = re.compile('^Une*')\n",
        "print(text_regex.search(text))"
      ]
    },
    {
      "cell_type": "code",
      "execution_count": 15,
      "metadata": {
        "id": "9rkH59Uf_bvu",
        "colab": {
          "base_uri": "https://localhost:8080/"
        },
        "outputId": "0ed2bcee-99fc-450a-d806-46428da160d8"
      },
      "outputs": [
        {
          "output_type": "stream",
          "name": "stdout",
          "text": [
            "['orbite', 'orbite']\n",
            "2\n"
          ]
        }
      ],
      "source": [
        "#re.findall(regex, texte) Return match in list\n",
        "# ou re.search().group()\n",
        "\n",
        "orbite_find = re.findall('orbite', text)\n",
        "\n",
        "print(orbite_find)\n",
        "print(len(orbite_find))"
      ]
    },
    {
      "cell_type": "code",
      "execution_count": 16,
      "metadata": {
        "id": "TaRu-XrWADI1",
        "colab": {
          "base_uri": "https://localhost:8080/"
        },
        "outputId": "11bebd9b-bb37-45ad-a294-38e57037813b"
      },
      "outputs": [
        {
          "output_type": "execute_result",
          "data": {
            "text/plain": [
              "['',\n",
              " 'ne planète est un corps céleste orbitant autour du ',\n",
              " \"oleil ou d'une autre étoile, possédant une masse suffisante pour que sa gravité la maintienne en équilibre hydrostatique, c'est-à-dire sous une forme presque sphérique, et ayant éliminé tout corps « rival » se déplaçant sur son orbite ou sur une orbite proche. \",\n",
              " 'ar extension on qualifie parfois aussi de planètes les objets libres de masse planétaire.']"
            ]
          },
          "metadata": {},
          "execution_count": 16
        }
      ],
      "source": [
        "#re.split('regex', text)\n",
        "\n",
        "re.split('[A-Z]', text)"
      ]
    },
    {
      "cell_type": "markdown",
      "metadata": {
        "id": "4gCBsOFw5Mgq"
      },
      "source": [
        "# Exceptions"
      ]
    },
    {
      "cell_type": "code",
      "execution_count": 26,
      "metadata": {
        "id": "bZc-QE0I5Th5",
        "colab": {
          "base_uri": "https://localhost:8080/"
        },
        "outputId": "50abc4ee-0b42-4967-c44e-3597be6e3da8"
      },
      "outputs": [
        {
          "output_type": "stream",
          "name": "stdout",
          "text": [
            "1\n"
          ]
        }
      ],
      "source": [
        "# Exemple division par 0 ZeroDivisionError, NameError, ValueError, ou Typeerror\n",
        "#try except finally\n",
        "\n",
        "b = 1\n",
        "c = 'anis'\n",
        "try:\n",
        "  a = b/c\n",
        "except ZeroDivisionError :\n",
        "  a = b*c\n",
        "except TypeError :\n",
        "  a=b\n",
        "finally:\n",
        "  print(a)\n",
        "\n"
      ]
    },
    {
      "cell_type": "code",
      "execution_count": 29,
      "metadata": {
        "id": "tvPcxLkJCZS-",
        "colab": {
          "base_uri": "https://localhost:8080/",
          "height": 233
        },
        "outputId": "df6dc85e-f103-45cb-8cf0-42320230e51d"
      },
      "outputs": [
        {
          "output_type": "stream",
          "name": "stdout",
          "text": [
            "c est inférieur à 5\n"
          ]
        },
        {
          "output_type": "error",
          "ename": "ValueError",
          "evalue": "",
          "traceback": [
            "\u001b[0;31m---------------------------------------------------------------------------\u001b[0m",
            "\u001b[0;31mValueError\u001b[0m                                Traceback (most recent call last)",
            "\u001b[0;32m<ipython-input-29-5f1630c859ff>\u001b[0m in \u001b[0;36m<cell line: 0>\u001b[0;34m()\u001b[0m\n\u001b[1;32m      6\u001b[0m \u001b[0;32mif\u001b[0m \u001b[0mc\u001b[0m\u001b[0;34m<\u001b[0m\u001b[0;36m5\u001b[0m \u001b[0;34m:\u001b[0m\u001b[0;34m\u001b[0m\u001b[0;34m\u001b[0m\u001b[0m\n\u001b[1;32m      7\u001b[0m   \u001b[0mprint\u001b[0m\u001b[0;34m(\u001b[0m\u001b[0;34m'c est inférieur à 5'\u001b[0m\u001b[0;34m)\u001b[0m\u001b[0;34m\u001b[0m\u001b[0;34m\u001b[0m\u001b[0m\n\u001b[0;32m----> 8\u001b[0;31m   \u001b[0;32mraise\u001b[0m \u001b[0mValueError\u001b[0m\u001b[0;34m\u001b[0m\u001b[0;34m\u001b[0m\u001b[0m\n\u001b[0m\u001b[1;32m      9\u001b[0m \u001b[0;32melse\u001b[0m\u001b[0;34m:\u001b[0m\u001b[0;34m\u001b[0m\u001b[0;34m\u001b[0m\u001b[0m\n\u001b[1;32m     10\u001b[0m   \u001b[0ma\u001b[0m \u001b[0;34m=\u001b[0m \u001b[0mb\u001b[0m\u001b[0;34m*\u001b[0m\u001b[0mc\u001b[0m\u001b[0;34m\u001b[0m\u001b[0;34m\u001b[0m\u001b[0m\n",
            "\u001b[0;31mValueError\u001b[0m: "
          ]
        }
      ],
      "source": [
        "# if .... raise Error\n",
        "\n",
        "b = 5\n",
        "c = 3\n",
        "\n",
        "if c<5 :\n",
        "  print('c est inférieur à 5')\n",
        "  raise ValueError\n",
        "else:\n",
        "  a = b*c\n",
        "\n",
        "print(a)\n"
      ]
    },
    {
      "cell_type": "markdown",
      "metadata": {
        "id": "uNXJmsLw5O00"
      },
      "source": [
        "# Modules"
      ]
    },
    {
      "cell_type": "code",
      "execution_count": 30,
      "metadata": {
        "id": "NINrPV1m5T71",
        "colab": {
          "base_uri": "https://localhost:8080/"
        },
        "outputId": "730077cd-ac8d-47a0-af71-aea192190504"
      },
      "outputs": [
        {
          "output_type": "stream",
          "name": "stdout",
          "text": [
            "Collecting smarties\n",
            "  Downloading Smarties-0.11.tar.gz (14 kB)\n",
            "  Preparing metadata (setup.py) ... \u001b[?25l\u001b[?25hdone\n",
            "Requirement already satisfied: nltk in /usr/local/lib/python3.11/dist-packages (from smarties) (3.9.1)\n",
            "Requirement already satisfied: gensim in /usr/local/lib/python3.11/dist-packages (from smarties) (4.3.3)\n",
            "Collecting wikipedia (from smarties)\n",
            "  Using cached wikipedia-1.4.0-py3-none-any.whl\n",
            "Requirement already satisfied: scikit-learn in /usr/local/lib/python3.11/dist-packages (from smarties) (1.6.0)\n",
            "Requirement already satisfied: pandas in /usr/local/lib/python3.11/dist-packages (from smarties) (2.2.2)\n",
            "Requirement already satisfied: numpy in /usr/local/lib/python3.11/dist-packages (from smarties) (1.26.4)\n",
            "Requirement already satisfied: scipy<1.14.0,>=1.7.0 in /usr/local/lib/python3.11/dist-packages (from gensim->smarties) (1.13.1)\n",
            "Requirement already satisfied: smart-open>=1.8.1 in /usr/local/lib/python3.11/dist-packages (from gensim->smarties) (7.1.0)\n",
            "Requirement already satisfied: click in /usr/local/lib/python3.11/dist-packages (from nltk->smarties) (8.1.8)\n",
            "Requirement already satisfied: joblib in /usr/local/lib/python3.11/dist-packages (from nltk->smarties) (1.4.2)\n",
            "Requirement already satisfied: regex>=2021.8.3 in /usr/local/lib/python3.11/dist-packages (from nltk->smarties) (2024.11.6)\n",
            "Requirement already satisfied: tqdm in /usr/local/lib/python3.11/dist-packages (from nltk->smarties) (4.67.1)\n",
            "Requirement already satisfied: python-dateutil>=2.8.2 in /usr/local/lib/python3.11/dist-packages (from pandas->smarties) (2.8.2)\n",
            "Requirement already satisfied: pytz>=2020.1 in /usr/local/lib/python3.11/dist-packages (from pandas->smarties) (2024.2)\n",
            "Requirement already satisfied: tzdata>=2022.7 in /usr/local/lib/python3.11/dist-packages (from pandas->smarties) (2024.2)\n",
            "Requirement already satisfied: threadpoolctl>=3.1.0 in /usr/local/lib/python3.11/dist-packages (from scikit-learn->smarties) (3.5.0)\n",
            "Requirement already satisfied: beautifulsoup4 in /usr/local/lib/python3.11/dist-packages (from wikipedia->smarties) (4.12.3)\n",
            "Requirement already satisfied: requests<3.0.0,>=2.0.0 in /usr/local/lib/python3.11/dist-packages (from wikipedia->smarties) (2.32.3)\n",
            "Requirement already satisfied: six>=1.5 in /usr/local/lib/python3.11/dist-packages (from python-dateutil>=2.8.2->pandas->smarties) (1.17.0)\n",
            "Requirement already satisfied: charset-normalizer<4,>=2 in /usr/local/lib/python3.11/dist-packages (from requests<3.0.0,>=2.0.0->wikipedia->smarties) (3.4.1)\n",
            "Requirement already satisfied: idna<4,>=2.5 in /usr/local/lib/python3.11/dist-packages (from requests<3.0.0,>=2.0.0->wikipedia->smarties) (3.10)\n",
            "Requirement already satisfied: urllib3<3,>=1.21.1 in /usr/local/lib/python3.11/dist-packages (from requests<3.0.0,>=2.0.0->wikipedia->smarties) (2.3.0)\n",
            "Requirement already satisfied: certifi>=2017.4.17 in /usr/local/lib/python3.11/dist-packages (from requests<3.0.0,>=2.0.0->wikipedia->smarties) (2024.12.14)\n",
            "Requirement already satisfied: wrapt in /usr/local/lib/python3.11/dist-packages (from smart-open>=1.8.1->gensim->smarties) (1.17.0)\n",
            "Requirement already satisfied: soupsieve>1.2 in /usr/local/lib/python3.11/dist-packages (from beautifulsoup4->wikipedia->smarties) (2.6)\n",
            "Building wheels for collected packages: smarties\n",
            "  Building wheel for smarties (setup.py) ... \u001b[?25l\u001b[?25hdone\n",
            "  Created wheel for smarties: filename=Smarties-0.11-py3-none-any.whl size=13513 sha256=d8ef1db016bd7235483bcf8378494cc94b2ce1f5f1ecb3dba29928ecf672b58c\n",
            "  Stored in directory: /root/.cache/pip/wheels/14/5f/9e/4f99b40083d9281f6f94b27c506a3be963686f75eab969e009\n",
            "Successfully built smarties\n",
            "Installing collected packages: wikipedia, smarties\n",
            "Successfully installed smarties-0.11 wikipedia-1.4.0\n"
          ]
        }
      ],
      "source": [
        "#raise after Error to ignore except\n",
        "\n",
        "!pip install smarties"
      ]
    },
    {
      "cell_type": "code",
      "source": [
        "import numpy"
      ],
      "metadata": {
        "id": "3U8ztnBOGS0i"
      },
      "execution_count": 31,
      "outputs": []
    },
    {
      "cell_type": "markdown",
      "metadata": {
        "id": "VLnqGb5c5Qvx"
      },
      "source": [
        "# Astuces / Questions"
      ]
    },
    {
      "cell_type": "code",
      "execution_count": null,
      "metadata": {
        "id": "6zB-vAq45US2",
        "colab": {
          "base_uri": "https://localhost:8080/",
          "height": 52
        },
        "outputId": "3adc317f-dfe5-45ca-86ea-fe10c3f3200f"
      },
      "outputs": [
        {
          "name": "stdout",
          "output_type": "stream",
          "text": [
            "ok\n",
            "je suis là\n"
          ]
        }
      ],
      "source": [
        "#decorateur\n",
        "def f1(f):\n",
        "  def test():\n",
        "    print('ok')\n",
        "    f()\n",
        "  return test\n",
        "\n",
        "def f():\n",
        "  print('je suis là')\n",
        "\n",
        "f = f1(f)\n",
        "f()"
      ]
    },
    {
      "cell_type": "code",
      "execution_count": 43,
      "metadata": {
        "id": "UwgfYJj5EHaO",
        "colab": {
          "base_uri": "https://localhost:8080/"
        },
        "outputId": "2ba3b2d3-c9f3-4956-b410-13edbc082197"
      },
      "outputs": [
        {
          "output_type": "stream",
          "name": "stdout",
          "text": [
            "Bonsoir\n",
            "je suis la fonction f\n"
          ]
        }
      ],
      "source": [
        "from typing_extensions import final\n",
        "#decorateur\n",
        "\n",
        "def f1(f):\n",
        "  def myfunction():\n",
        "    print('Bonsoir')\n",
        "    f()\n",
        "  return myfunction\n",
        "\n",
        "@f1\n",
        "def f():\n",
        "  print('je suis la fonction f')\n",
        "\n",
        "#f = f1(f)\n",
        "f()"
      ]
    },
    {
      "cell_type": "code",
      "execution_count": 48,
      "metadata": {
        "id": "6G4RT0b-FnfI",
        "colab": {
          "base_uri": "https://localhost:8080/"
        },
        "outputId": "b2d8ba3a-57cb-4a30-eae7-5b8da416e5b9"
      },
      "outputs": [
        {
          "output_type": "stream",
          "name": "stdout",
          "text": [
            "CPU times: user 5 µs, sys: 0 ns, total: 5 µs\n",
            "Wall time: 60.1 µs\n"
          ]
        }
      ],
      "source": [
        "%time\n",
        "#tist compréhension\n",
        "\n",
        "a =[]\n",
        "for i in range(10):\n",
        "  a.append(10)"
      ]
    },
    {
      "cell_type": "code",
      "source": [
        "%time\n",
        "# list compréhension\n",
        "\n",
        "a =[i for i in range(10)]\n"
      ],
      "metadata": {
        "id": "xRERnypqKa6Z",
        "outputId": "bfde072b-32c7-41e5-ea5d-5e02cab0703c",
        "colab": {
          "base_uri": "https://localhost:8080/"
        }
      },
      "execution_count": 49,
      "outputs": [
        {
          "output_type": "stream",
          "name": "stdout",
          "text": [
            "CPU times: user 4 µs, sys: 0 ns, total: 4 µs\n",
            "Wall time: 8.11 µs\n"
          ]
        }
      ]
    },
    {
      "cell_type": "code",
      "execution_count": 45,
      "metadata": {
        "id": "p1dei6qSFpXA",
        "colab": {
          "base_uri": "https://localhost:8080/"
        },
        "outputId": "61cabc77-6689-4644-a8dd-a964b05f324d"
      },
      "outputs": [
        {
          "output_type": "execute_result",
          "data": {
            "text/plain": [
              "45"
            ]
          },
          "metadata": {},
          "execution_count": 45
        }
      ],
      "source": [
        "#*args donner un nombre d'argument variables\n",
        "\n",
        "def add(*args):\n",
        "    addition = 0\n",
        "    for arg in args:\n",
        "      addition = addition + arg\n",
        "    return addition\n",
        "\n",
        "add(1, 2, 3, 4,5,6,7,8,9)"
      ]
    },
    {
      "cell_type": "code",
      "execution_count": 47,
      "metadata": {
        "id": "OBYqGY7mGXCl",
        "colab": {
          "base_uri": "https://localhost:8080/"
        },
        "outputId": "52c2abea-779f-4803-f91d-b6bcd88d97da"
      },
      "outputs": [
        {
          "output_type": "execute_result",
          "data": {
            "text/plain": [
              "10"
            ]
          },
          "metadata": {},
          "execution_count": 47
        }
      ],
      "source": [
        "#**kwargs passer des arguments d'un dictionnaire, ou des  mots clés\n",
        "\n",
        "def add(**kwargs):\n",
        "    addition = 0\n",
        "    for key, value in kwargs.items():\n",
        "      if key=='arg1':\n",
        "        continue\n",
        "      addition = addition + value\n",
        "    return addition\n",
        "\n",
        "dict_args = {'args1' :1,\n",
        "             'args2' :2,\n",
        "             'args3' :3,\n",
        "             'args' :4\n",
        "\n",
        "}\n",
        "add(**dict_args)"
      ]
    },
    {
      "cell_type": "code",
      "source": [
        "#lambda *args : function\n",
        "\n",
        "def add(arg1,arg2,arg3):\n",
        "  return arg1+arg2+arg3\n",
        "\n",
        "add(1,2,3)"
      ],
      "metadata": {
        "id": "CGdmaWYqKsEC",
        "outputId": "bb012ea5-aadc-4731-9eb4-ebe846d4596d",
        "colab": {
          "base_uri": "https://localhost:8080/"
        }
      },
      "execution_count": 50,
      "outputs": [
        {
          "output_type": "execute_result",
          "data": {
            "text/plain": [
              "6"
            ]
          },
          "metadata": {},
          "execution_count": 50
        }
      ]
    },
    {
      "cell_type": "code",
      "execution_count": null,
      "metadata": {
        "id": "4uIqJLWSG2zr",
        "colab": {
          "base_uri": "https://localhost:8080/",
          "height": 34
        },
        "outputId": "56e4d2d3-b896-42d6-c331-c151c64b25c4"
      },
      "outputs": [
        {
          "name": "stdout",
          "output_type": "stream",
          "text": [
            "6\n"
          ]
        }
      ],
      "source": [
        "\n",
        "\n",
        "add = lambda arg1,arg2,arg3 : arg1 + arg2+arg3\n",
        "print(add(1,2,3))"
      ]
    }
  ],
  "metadata": {
    "colab": {
      "name": "#5 - Regex, exceptions, modules et astuces",
      "provenance": []
    },
    "kernelspec": {
      "name": "python3",
      "display_name": "Python 3"
    }
  },
  "nbformat": 4,
  "nbformat_minor": 0
}
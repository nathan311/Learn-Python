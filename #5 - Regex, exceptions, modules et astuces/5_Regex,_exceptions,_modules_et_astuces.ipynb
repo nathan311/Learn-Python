{
  "cells": [
    {
      "cell_type": "markdown",
      "metadata": {
        "id": "10WM8oMW34gM"
      },
      "source": [
        "# https://colab.research.google.com/"
      ]
    },
    {
      "cell_type": "markdown",
      "metadata": {
        "id": "WRukn-T937E7"
      },
      "source": [
        "# Apprendre à coder en Python pour l'Intelligence Artificielle\n",
        "## Episode 5 - Regex, exceptions, modules et astuces\n",
        "\n",
        "<p align=\"center\">\n",
        "<a href=\"https://youtu.be/8fCtWNnBNFc\" target=\"_blank\" ><img  src=\"https://raw.githubusercontent.com/anisayari/Youtube-apprendre-python-intelligence-artificielle/master/%235%20-%20Regex%2C%20exceptions%2C%20modules%20et%20astuces/cover-serie-2.png\" width=\"800\" height=\"auto\"/></a>\n",
        "</p>"
      ]
    },
    {
      "cell_type": "markdown",
      "metadata": {
        "id": "_21HRJ7M5Lbq"
      },
      "source": [
        "# Regex\n",
        "\n",
        "## Réaliser des recherches et des opérations (extraction, remplacement...) dans les chaines de caractères\n",
        "\n",
        "Les tokens communs :\n",
        "- [abc] : Un caractère unique de a,b ou c\n",
        "- [^abc]: Un caractère sauf a,b ou c\n",
        "- [a-z] : Un caractère entre a et z\n",
        "- [^a-z] : Un caractère pas entre a et z\n",
        "- [a-zA-Z] : Un caractère entre a-z ou A-Z\n",
        "- . : N'importre quel caractère\n",
        "- \\s : n'importe espace blanc caractère\n",
        "- \\S : N'importe non espace blanc caractère\n",
        "- \\d : N'importe quel nombre\n",
        "- \\D : N'importe caractère qui ne soit pas un nombre\n",
        "- \\w : N'importe mot\n",
        "- \\W : N'importe non mot\n",
        "- (...) Récupérer tout ce qui est entre parenthèse\n",
        "- (a|b) : Match a our b\n",
        "- a* 0 : ou + occurences de a\n",
        "- a+ 1 : ou + occurences de a\n",
        "- a{3} : Exactement 3 occurences de a\n",
        "- a{3,}: 3 ou + occurence de a\n",
        "- a{3,6} : Entre 3 et 6 occurences de a\n",
        "- \\b : les frontières d'un mot\n",
        "- \\B : les non frontières d'un mot\n",
        "- ^ : Début de la chaine de caractère\n",
        "- $ : Fin de la chaine de caractère\n"
      ]
    },
    {
      "cell_type": "code",
      "execution_count": null,
      "metadata": {
        "id": "D1erKslf5TQG"
      },
      "outputs": [],
      "source": [
        "#re.search(texte_a_chercher,texte) Cherche tout la chaine de caractère, return avec .start() et .end() les indexs des recherches\n",
        "#re.match(texte_a_chercher,texte) Cherche au début de la chaine de caractère\n",
        "#return un  MatchObject ou None"
      ]
    },
    {
      "cell_type": "code",
      "execution_count": null,
      "metadata": {
        "id": "PS65w4ez7RVa",
        "colab": {
          "base_uri": "https://localhost:8080/",
          "height": 105
        },
        "outputId": "10d7c4d2-47c5-4e62-b64c-18d074c77608"
      },
      "outputs": [
        {
          "name": "stdout",
          "output_type": "stream",
          "text": [
            "<_sre.SRE_Match object; span=(0, 4), match='Test'>\n",
            "None\n",
            "None\n",
            "<_sre.SRE_Match object; span=(10, 16), match='Tester'>\n",
            "<_sre.SRE_Match object; span=(10, 16), match='Tester'>\n"
          ]
        }
      ],
      "source": [
        "# example code:\n",
        "test_text = \"\"\"Test pour\n",
        "Tester\"\"\"\n",
        "\n",
        "import re\n",
        "\n",
        "print(re.match('Test', test_text)) #OK\n",
        "print(re.match('Tester', test_text)) #None\n",
        "print(re.match('^Tester', test_text)) #None\n",
        "print(re.search('Tester', test_text)) #OK\n",
        "print(re.search('^Tester', test_text, re.MULTILINE)) #OK"
      ]
    },
    {
      "cell_type": "code",
      "execution_count": null,
      "metadata": {
        "id": "IhGFMYzm9Ex5",
        "colab": {
          "base_uri": "https://localhost:8080/",
          "height": 52
        },
        "outputId": "7f4261d7-07ca-423b-896b-3657e8ddaac9"
      },
      "outputs": [
        {
          "name": "stdout",
          "output_type": "stream",
          "text": [
            "None\n",
            "<_sre.SRE_Match object; span=(13, 16), match='ter'>\n"
          ]
        }
      ],
      "source": [
        "#re.compile(text, args)\n",
        "\n",
        "m = re.compile('ter$', re.MULTILINE)\n",
        "\n",
        "print(m.match(test_text)) # no match\n",
        "print(m.search(test_text, re.MULTILINE)) # also matches"
      ]
    },
    {
      "cell_type": "code",
      "execution_count": null,
      "metadata": {
        "id": "lfpaRvRb_CCF",
        "colab": {
          "base_uri": "https://localhost:8080/",
          "height": 34
        },
        "outputId": "e9c69abc-a570-4676-df55-b8ddff60e8b0"
      },
      "outputs": [
        {
          "name": "stdout",
          "output_type": "stream",
          "text": [
            "<_sre.SRE_Match object; span=(0, 3), match='Une'>\n"
          ]
        }
      ],
      "source": [
        "text = \"Une planète est un corps céleste orbitant autour du Soleil ou d'une autre étoile, possédant une masse suffisante pour que sa gravité la maintienne en équilibre hydrostatique, c'est-à-dire sous une forme presque sphérique, et ayant éliminé tout corps « rival » se déplaçant sur son orbite ou sur une orbite proche. Par extension on qualifie parfois aussi de planètes les objets libres de masse planétaire.\"\n",
        "\n",
        "text_regex = re.compile('^Une*')\n",
        "print(text_regex.search(text))"
      ]
    },
    {
      "cell_type": "code",
      "execution_count": null,
      "metadata": {
        "id": "9rkH59Uf_bvu",
        "colab": {
          "base_uri": "https://localhost:8080/",
          "height": 52
        },
        "outputId": "274d1c53-8696-42c6-d1ed-ff14f6105fe3"
      },
      "outputs": [
        {
          "name": "stdout",
          "output_type": "stream",
          "text": [
            "(280, 288)\n",
            " orbite \n"
          ]
        }
      ],
      "source": [
        "#re.findall(regex, texte) Return match in list\n",
        "# ou re.search().group()\n",
        "\n"
      ]
    },
    {
      "cell_type": "code",
      "execution_count": null,
      "metadata": {
        "id": "TaRu-XrWADI1"
      },
      "outputs": [],
      "source": [
        "#re.split('regex', text)\n",
        "\n"
      ]
    },
    {
      "cell_type": "markdown",
      "metadata": {
        "id": "4gCBsOFw5Mgq"
      },
      "source": [
        "# Exceptions"
      ]
    },
    {
      "cell_type": "code",
      "execution_count": null,
      "metadata": {
        "id": "bZc-QE0I5Th5"
      },
      "outputs": [],
      "source": [
        "# Exemple division par 0 ZeroDivisionError, NameError, ValueError, ou Typeerror\n",
        "#try except finally\n"
      ]
    },
    {
      "cell_type": "code",
      "execution_count": null,
      "metadata": {
        "id": "tvPcxLkJCZS-"
      },
      "outputs": [],
      "source": [
        "# if .... raise Error"
      ]
    },
    {
      "cell_type": "markdown",
      "metadata": {
        "id": "uNXJmsLw5O00"
      },
      "source": [
        "# Modules"
      ]
    },
    {
      "cell_type": "code",
      "execution_count": null,
      "metadata": {
        "id": "NINrPV1m5T71"
      },
      "outputs": [],
      "source": [
        "#raise after Error to ignore except"
      ]
    },
    {
      "cell_type": "markdown",
      "metadata": {
        "id": "VLnqGb5c5Qvx"
      },
      "source": [
        "# Astuces / Questions"
      ]
    },
    {
      "cell_type": "code",
      "execution_count": null,
      "metadata": {
        "id": "6zB-vAq45US2",
        "colab": {
          "base_uri": "https://localhost:8080/",
          "height": 52
        },
        "outputId": "3adc317f-dfe5-45ca-86ea-fe10c3f3200f"
      },
      "outputs": [
        {
          "name": "stdout",
          "output_type": "stream",
          "text": [
            "ok\n",
            "je suis là\n"
          ]
        }
      ],
      "source": [
        "#decorateur\n",
        "def f1(f):\n",
        "  def test():\n",
        "    print('ok')\n",
        "    f()\n",
        "  return test\n",
        "\n",
        "def f():\n",
        "  print('je suis là')\n",
        "\n",
        "f = f1(f)\n",
        "f()"
      ]
    },
    {
      "cell_type": "code",
      "execution_count": null,
      "metadata": {
        "id": "UwgfYJj5EHaO",
        "colab": {
          "base_uri": "https://localhost:8080/",
          "height": 52
        },
        "outputId": "d330cb7a-79e9-4abf-fb56-4aa747c24080"
      },
      "outputs": [
        {
          "name": "stdout",
          "output_type": "stream",
          "text": [
            "ok\n",
            "je suis là\n"
          ]
        }
      ],
      "source": [
        "#decorateur\n",
        "def f1(f):\n",
        "  def test():\n",
        "    print('ok')\n",
        "    f()\n",
        "  return test\n",
        "\n",
        "@f1\n",
        "def f():\n",
        "  print('je suis là')\n",
        "\n",
        "f()"
      ]
    },
    {
      "cell_type": "code",
      "execution_count": null,
      "metadata": {
        "id": "6G4RT0b-FnfI"
      },
      "outputs": [],
      "source": [
        "# list compréhension"
      ]
    },
    {
      "cell_type": "code",
      "execution_count": null,
      "metadata": {
        "id": "p1dei6qSFpXA",
        "colab": {
          "base_uri": "https://localhost:8080/",
          "height": 34
        },
        "outputId": "25b01ac6-0466-4d78-a687-9ea56c24d155"
      },
      "outputs": [
        {
          "data": {
            "text/plain": [
              "10"
            ]
          },
          "execution_count": 55,
          "metadata": {
            "tags": []
          },
          "output_type": "execute_result"
        }
      ],
      "source": [
        "#*args donner un nombre d'argument variables\n",
        "def add(*args):\n",
        "    addition = 0\n",
        "    for arg in args:\n",
        "      addition = addition + args\n",
        "    return addition\n",
        "\n",
        "add(1, 2, 3, 4)"
      ]
    },
    {
      "cell_type": "code",
      "execution_count": null,
      "metadata": {
        "id": "OBYqGY7mGXCl",
        "colab": {
          "base_uri": "https://localhost:8080/",
          "height": 34
        },
        "outputId": "86fefa38-ceec-4ced-c39f-2885f97daec0"
      },
      "outputs": [
        {
          "data": {
            "text/plain": [
              "9"
            ]
          },
          "execution_count": 57,
          "metadata": {
            "tags": []
          },
          "output_type": "execute_result"
        }
      ],
      "source": [
        "#**kwargs passer des arguments d'un dictionnaire, ou des  mots clés\n",
        "\n",
        "def add(**kwargs):\n",
        "    addition = 0\n",
        "    for key, value in kwargs.items():\n",
        "      if key=='arg1':\n",
        "        continue\n",
        "      addition = addition + value\n",
        "    return addition\n",
        "\n",
        "add(arg1 =1, arg2 =2, arg3=3, arg4=4)"
      ]
    },
    {
      "cell_type": "code",
      "execution_count": null,
      "metadata": {
        "id": "4uIqJLWSG2zr",
        "colab": {
          "base_uri": "https://localhost:8080/",
          "height": 34
        },
        "outputId": "56e4d2d3-b896-42d6-c331-c151c64b25c4"
      },
      "outputs": [
        {
          "name": "stdout",
          "output_type": "stream",
          "text": [
            "6\n"
          ]
        }
      ],
      "source": [
        "#lambda *args : function\n",
        "\n",
        "add = lambda arg1,arg2,arg3 : arg1 + arg2+arg3\n",
        "print(add(1,2,3))"
      ]
    }
  ],
  "metadata": {
    "colab": {
      "name": "#5 - Regex, exceptions, modules et astuces",
      "provenance": []
    },
    "kernelspec": {
      "name": "python3",
      "display_name": "Python 3"
    }
  },
  "nbformat": 4,
  "nbformat_minor": 0
}
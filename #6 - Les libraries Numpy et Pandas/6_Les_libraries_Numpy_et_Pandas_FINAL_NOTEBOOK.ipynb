{
  "nbformat": 4,
  "nbformat_minor": 0,
  "metadata": {
    "colab": {
      "name": "#6 - Les libraries Numpy et Pandas",
      "provenance": []
    },
    "kernelspec": {
      "name": "python3",
      "display_name": "Python 3"
    }
  },
  "cells": [
    {
      "cell_type": "markdown",
      "metadata": {
        "id": "LjvCBOom-Jyp"
      },
      "source": [
        "# https://colab.research.google.com/"
      ]
    },
    {
      "cell_type": "markdown",
      "metadata": {
        "id": "TPOiWw95-McC"
      },
      "source": [
        "# Apprendre à coder en Python pour l'Intelligence Artificielle\n",
        "## Episode 6 - Les libraries Numpy et Pandas\n",
        "\n",
        "<p align=\"center\">\n",
        "<a href=\"https://www.youtube.com/watch?v=qMGjh6rKIgw\" target=\"_blank\" ><img  src=\"https://github.com/anisayari/Youtube-apprendre-python-intelligence-artificielle/blob/master/%236%20-%20Les%20libraries%20Numpy%20et%20Pandas/cover-serie-6.png?raw=true\" width=\"800\" height=\"auto\"/></a>\n",
        "</p>\n"
      ]
    },
    {
      "cell_type": "markdown",
      "metadata": {
        "id": "L8tTmzduTFEZ"
      },
      "source": [
        "\n",
        "\n",
        "<img  src=\"https://miro.medium.com/max/645/0*1B31atH5V153v5JP.jpg\" width=\"800\" height=\"auto\"/>\n",
        "\n",
        "\n",
        "\n",
        "<img  src=\"https://blog.equinix.com/wp-content/uploads/2016/08/apps-big-data.jpg\" width=\"800\" height=\"auto\"/>"
      ]
    },
    {
      "cell_type": "markdown",
      "metadata": {
        "id": "Ff2AwdVl-TkX"
      },
      "source": [
        "# Numpy\n",
        "\n",
        "Librarie pour calculs sceintifique en Python.\n",
        "\n",
        "<a href=\"https://numpy.org/devdocs/\" target=\"_blank\" >Documentation  </a>\n",
        "\n",
        "<a href=\"https://numpy.org/\" target=\"_blank\" ><img  src=\"https://upload.wikimedia.org/wikipedia/commons/thumb/1/1a/NumPy_logo.svg/1200px-NumPy_logo.svg.png\" width=\"400\" height=\"auto\"/></a>"
      ]
    },
    {
      "cell_type": "code",
      "metadata": {
        "id": "j2AAPCmn_HIu",
        "outputId": "61e490a9-95bf-4c5a-9f3b-9b151c40bcbb",
        "colab": {
          "base_uri": "https://localhost:8080/",
          "height": 34
        }
      },
      "source": [
        "#Créer un ndarray (array)\n",
        "#Array , multiple elements and axes (ie.ligne, colonne)\n",
        "import numpy as np\n",
        "#np.arange(n) #créer un array de n elements et 1axes\n",
        "#np.zeros(i,j) Créer un array de shape ixj rempli de 0\n",
        "#np.ones(i,j) Créer un array de shape ixj rempli de 1\n",
        "#np.eye(i,j) créer une matrice identité de dimension i,j\n",
        "#np.random.rand(n) créer un array de dimension 1 aléatoire:\n",
        "#np.random.random(size=(i,j)) créer un array de dimension i,j random"
      ],
      "execution_count": null,
      "outputs": [
        {
          "output_type": "execute_result",
          "data": {
            "text/plain": [
              "array([1, 2, 3])"
            ]
          },
          "metadata": {
            "tags": []
          },
          "execution_count": 34
        }
      ]
    },
    {
      "cell_type": "code",
      "metadata": {
        "id": "8Q9nSTGJWwQG",
        "outputId": "99642dd8-5746-49ce-91c2-cd091cb78683",
        "colab": {
          "base_uri": "https://localhost:8080/",
          "height": 34
        }
      },
      "source": [
        "#np.array (nb : possible de créer des nombres complexes dtype=complex)\n",
        "np.array([1,2,3])"
      ],
      "execution_count": null,
      "outputs": [
        {
          "output_type": "execute_result",
          "data": {
            "text/plain": [
              "array([1, 2, 3])"
            ]
          },
          "metadata": {
            "tags": []
          },
          "execution_count": 35
        }
      ]
    },
    {
      "cell_type": "code",
      "metadata": {
        "id": "FSTIpa45W1Kr",
        "outputId": "b26c427d-647b-4efa-ade2-9dc7c9f00394",
        "colab": {
          "base_uri": "https://localhost:8080/",
          "height": 34
        }
      },
      "source": [
        "#np.arange(n) #créer un array de n elements et 1axes\n",
        "np.arange(10)"
      ],
      "execution_count": null,
      "outputs": [
        {
          "output_type": "execute_result",
          "data": {
            "text/plain": [
              "array([0, 1, 2, 3, 4, 5, 6, 7, 8, 9])"
            ]
          },
          "metadata": {
            "tags": []
          },
          "execution_count": 36
        }
      ]
    },
    {
      "cell_type": "code",
      "metadata": {
        "id": "VFLR2UIRXZfv",
        "outputId": "b80960cd-e61c-48f1-9dc5-b3f6b22f4310",
        "colab": {
          "base_uri": "https://localhost:8080/",
          "height": 87
        }
      },
      "source": [
        "#np.arange(n).reshape(i, j) reformate l'array en array de i element et j axes\n",
        "np.arange(8).reshape(4,2)"
      ],
      "execution_count": null,
      "outputs": [
        {
          "output_type": "execute_result",
          "data": {
            "text/plain": [
              "array([[0, 1],\n",
              "       [2, 3],\n",
              "       [4, 5],\n",
              "       [6, 7]])"
            ]
          },
          "metadata": {
            "tags": []
          },
          "execution_count": 40
        }
      ]
    },
    {
      "cell_type": "code",
      "metadata": {
        "id": "3-PZgim3W_8v",
        "outputId": "c813a56f-faf3-45a9-8fa0-c18253d22a6b",
        "colab": {
          "base_uri": "https://localhost:8080/",
          "height": 70
        }
      },
      "source": [
        "#np.zeros(i,j) Créer un array de shape ixj rempli de 0\n",
        "np.zeros((3,2))"
      ],
      "execution_count": null,
      "outputs": [
        {
          "output_type": "execute_result",
          "data": {
            "text/plain": [
              "array([[0., 0.],\n",
              "       [0., 0.],\n",
              "       [0., 0.]])"
            ]
          },
          "metadata": {
            "tags": []
          },
          "execution_count": 42
        }
      ]
    },
    {
      "cell_type": "code",
      "metadata": {
        "id": "9j7m7NIU_HOB",
        "outputId": "b78ecf1e-d700-44b0-8499-bc2f9d7eefa2",
        "colab": {
          "base_uri": "https://localhost:8080/",
          "height": 52
        }
      },
      "source": [
        "#np.random.rand(n) créer un array de dimension 1 aléatoire de n elements\n",
        "np.random.rand(10)"
      ],
      "execution_count": null,
      "outputs": [
        {
          "output_type": "execute_result",
          "data": {
            "text/plain": [
              "array([0.52983057, 0.7280179 , 0.87055297, 0.72165106, 0.19840392,\n",
              "       0.12402484, 0.629708  , 0.33105214, 0.05715604, 0.36825406])"
            ]
          },
          "metadata": {
            "tags": []
          },
          "execution_count": 43
        }
      ]
    },
    {
      "cell_type": "code",
      "metadata": {
        "id": "55QM86ENYCxa",
        "outputId": "3b7c4420-468d-4239-a192-a2b3c3e245cc",
        "colab": {
          "base_uri": "https://localhost:8080/",
          "height": 70
        }
      },
      "source": [
        "#np.random.random(size=(i,j)) créer un array de dimension i,j random\n",
        "np.random.random(size=(3,2))"
      ],
      "execution_count": null,
      "outputs": [
        {
          "output_type": "execute_result",
          "data": {
            "text/plain": [
              "array([[0.82636998, 0.11492714],\n",
              "       [0.93691523, 0.22599347],\n",
              "       [0.58950355, 0.08020352]])"
            ]
          },
          "metadata": {
            "tags": []
          },
          "execution_count": 44
        }
      ]
    },
    {
      "cell_type": "code",
      "metadata": {
        "id": "SaKUnY0AC3q_",
        "outputId": "67546379-080b-43d2-fb5b-ec7731d5ddf1",
        "colab": {
          "base_uri": "https://localhost:8080/",
          "height": 140
        }
      },
      "source": [
        "#indexing\n",
        "#Marche de la même facon que les listes pour un array de dimension 1\n",
        "# en multidimension un index est représenté par un tuple array[(i1:j1),(i2:j2)] (i1,j1) = lignes, (i2,j2) = colonnes\n",
        "\n",
        "myArray = np.random.rand(5)\n",
        "print(myArray)\n",
        "print(type(myArray))\n",
        "print(myArray[3])\n",
        "\n",
        "myArray_multidimension = np.random.rand(6).reshape(3,2)\n",
        "print(myArray_multidimension)\n",
        "print(myArray_multidimension[1:,1])\n",
        "#         0       1\n",
        "#0 [[0.90056645 0.46348188]\n",
        "#1 [0.02078507 0.05621447]\n",
        "#2 [0.92655352 0.11037336]]"
      ],
      "execution_count": null,
      "outputs": [
        {
          "output_type": "stream",
          "text": [
            "[0.94111501 0.27054489 0.31938016 0.68238403 0.90012472]\n",
            "<class 'numpy.ndarray'>\n",
            "0.6823840258768371\n",
            "[[0.77936087 0.4394186 ]\n",
            " [0.92065144 0.85561565]\n",
            " [0.61951781 0.92408866]]\n",
            "[0.85561565 0.92408866]\n"
          ],
          "name": "stdout"
        }
      ]
    },
    {
      "cell_type": "code",
      "metadata": {
        "id": "W7EEhS9hAgcZ",
        "outputId": "eec8cbd6-ccfe-4001-917c-1399d5ade62a",
        "colab": {
          "base_uri": "https://localhost:8080/",
          "height": 70
        }
      },
      "source": [
        "#np.shape, np.ndim, np.size\n",
        "print(myArray_multidimension.shape) #forme d'aray (nombre d'elements, nombre d'axes)\n",
        "print(myArray_multidimension.ndim) #le nombre de dimension\n",
        "print(myArray_multidimension.size) #le nombre total déelement dans mon array"
      ],
      "execution_count": null,
      "outputs": [
        {
          "output_type": "stream",
          "text": [
            "(3, 2)\n",
            "2\n",
            "6\n"
          ],
          "name": "stdout"
        }
      ]
    },
    {
      "cell_type": "code",
      "metadata": {
        "id": "N9-XLa2WBGvn",
        "outputId": "ac4777a9-833a-4902-f22e-b10d0453d5e2",
        "colab": {
          "base_uri": "https://localhost:8080/",
          "height": 281
        }
      },
      "source": [
        "#fonctions mathématique np.cos, np.log, np.exp, np.sqrt etc...\n",
        "\n",
        "myArray = np.arange(10).reshape(5,2)\n",
        "print(myArray)\n",
        "print(np.cos(myArray))\n",
        "print(np.exp(myArray))"
      ],
      "execution_count": null,
      "outputs": [
        {
          "output_type": "stream",
          "text": [
            "[[0 1]\n",
            " [2 3]\n",
            " [4 5]\n",
            " [6 7]\n",
            " [8 9]]\n",
            "[[ 1.          0.54030231]\n",
            " [-0.41614684 -0.9899925 ]\n",
            " [-0.65364362  0.28366219]\n",
            " [ 0.96017029  0.75390225]\n",
            " [-0.14550003 -0.91113026]]\n",
            "[[1.00000000e+00 2.71828183e+00]\n",
            " [7.38905610e+00 2.00855369e+01]\n",
            " [5.45981500e+01 1.48413159e+02]\n",
            " [4.03428793e+02 1.09663316e+03]\n",
            " [2.98095799e+03 8.10308393e+03]]\n"
          ],
          "name": "stdout"
        }
      ]
    },
    {
      "cell_type": "code",
      "metadata": {
        "id": "QT-3u2_ubaRz",
        "outputId": "827d2f97-6cfd-4c3e-9211-3d3e089fbb51",
        "colab": {
          "base_uri": "https://localhost:8080/",
          "height": 34
        }
      },
      "source": [
        "np.var(myArray) #variance"
      ],
      "execution_count": null,
      "outputs": [
        {
          "output_type": "execute_result",
          "data": {
            "text/plain": [
              "8.25"
            ]
          },
          "metadata": {
            "tags": []
          },
          "execution_count": 83
        }
      ]
    },
    {
      "cell_type": "code",
      "metadata": {
        "id": "JLs5C3AeCVEi",
        "outputId": "e2a8cc1d-ddc9-4cf8-e0fe-abf57f30e998",
        "colab": {
          "base_uri": "https://localhost:8080/",
          "height": 175
        }
      },
      "source": [
        "#fonctions utiles np.sum , np.min, np.max, np.mean\n",
        "print(myArray)\n",
        "print(myArray.min())\n",
        "print(myArray.max())\n",
        "print(np.max(myArray))\n",
        "print(np.mean(myArray))"
      ],
      "execution_count": null,
      "outputs": [
        {
          "output_type": "stream",
          "text": [
            "[[0 1]\n",
            " [2 3]\n",
            " [4 5]\n",
            " [6 7]\n",
            " [8 9]]\n",
            "0\n",
            "9\n",
            "9\n",
            "4.5\n"
          ],
          "name": "stdout"
        }
      ]
    },
    {
      "cell_type": "markdown",
      "metadata": {
        "id": "P-DleBDPBhfX"
      },
      "source": [
        "<a href='https://fr.wikipedia.org/wiki/Matrice_(math%C3%A9matiques)'>  Les matrices </a>\n",
        "\n",
        "<a href='https://fr.wikipedia.org/wiki/Produit_matriciel'> Calcul matriciel (Article Wikipedia) </a>\n",
        "\n",
        "<img  src=\"https://wikimedia.org/api/rest_v1/media/math/render/svg/840716c2745c63bd10c38a0b5ecac966faf0b1ff\" width=\"400\" height=\"auto\"/>\n",
        "<img  src=\"https://upload.wikimedia.org/wikipedia/commons/thumb/1/11/Matrix_multiplication_diagram.svg/188px-Matrix_multiplication_diagram.svg.png\n",
        "\" width=\"100\" height=\"auto\"/>\n"
      ]
    },
    {
      "cell_type": "code",
      "metadata": {
        "id": "8MRnY4jpB3I-",
        "outputId": "4a802cf0-dddf-45bc-d2ec-7e6678bb0106",
        "colab": {
          "base_uri": "https://localhost:8080/",
          "height": 228
        }
      },
      "source": [
        "# produit elements par element *\n",
        "A = np.arange(16).reshape(4,4)\n",
        "print(A)\n",
        "B = np.random.rand(16).reshape(4,4)\n",
        "print(B)\n",
        "\n",
        "print(A*B)"
      ],
      "execution_count": null,
      "outputs": [
        {
          "output_type": "stream",
          "text": [
            "[[ 0  1  2  3]\n",
            " [ 4  5  6  7]\n",
            " [ 8  9 10 11]\n",
            " [12 13 14 15]]\n",
            "[[0.1395162  0.77861378 0.12018696 0.67814305]\n",
            " [0.05706368 0.03199581 0.89361233 0.61359131]\n",
            " [0.76794482 0.15121811 0.14406697 0.28595291]\n",
            " [0.51943916 0.1363685  0.08284672 0.39831455]]\n",
            "[[0.         0.77861378 0.24037391 2.03442914]\n",
            " [0.22825471 0.15997905 5.36167398 4.2951392 ]\n",
            " [6.14355858 1.36096297 1.44066968 3.14548199]\n",
            " [6.23326992 1.77279049 1.15985405 5.9747182 ]]\n"
          ],
          "name": "stdout"
        }
      ]
    },
    {
      "cell_type": "code",
      "metadata": {
        "id": "StuzwmrGB9vu",
        "outputId": "a2a8bd73-e663-4976-ead5-1558cb260f77",
        "colab": {
          "base_uri": "https://localhost:8080/",
          "height": 158
        }
      },
      "source": [
        "# produit matriciel @ ou array1.dot(array2)\n",
        "\n",
        "print(A @ B)\n",
        "print(A.dot(B))"
      ],
      "execution_count": null,
      "outputs": [
        {
          "output_type": "stream",
          "text": [
            "[[ 3.1512708   0.74353752  1.43028642  2.38044077]\n",
            " [ 9.08712624  5.1363223   6.3931383  10.28444804]\n",
            " [15.02298167  9.52910707 11.35599019 18.18845531]\n",
            " [20.95883711 13.92189184 16.31884207 26.09246258]]\n",
            "[[ 3.1512708   0.74353752  1.43028642  2.38044077]\n",
            " [ 9.08712624  5.1363223   6.3931383  10.28444804]\n",
            " [15.02298167  9.52910707 11.35599019 18.18845531]\n",
            " [20.95883711 13.92189184 16.31884207 26.09246258]]\n"
          ],
          "name": "stdout"
        }
      ]
    },
    {
      "cell_type": "code",
      "metadata": {
        "id": "3LzgzSXVGmnZ",
        "outputId": "3dd5f5a7-e85b-48c5-8526-607b2c713ccf",
        "colab": {
          "base_uri": "https://localhost:8080/",
          "height": 228
        }
      },
      "source": [
        "#Transposé .T ou np.transpose()\n",
        "print(A)\n",
        "print(A.T)\n",
        "print(np.transpose(A))"
      ],
      "execution_count": null,
      "outputs": [
        {
          "output_type": "stream",
          "text": [
            "[[ 0  1  2  3]\n",
            " [ 4  5  6  7]\n",
            " [ 8  9 10 11]\n",
            " [12 13 14 15]]\n",
            "[[ 0  4  8 12]\n",
            " [ 1  5  9 13]\n",
            " [ 2  6 10 14]\n",
            " [ 3  7 11 15]]\n",
            "[[ 0  4  8 12]\n",
            " [ 1  5  9 13]\n",
            " [ 2  6 10 14]\n",
            " [ 3  7 11 15]]\n"
          ],
          "name": "stdout"
        }
      ]
    },
    {
      "cell_type": "code",
      "metadata": {
        "id": "Zch3RCsvG2Pw",
        "outputId": "3415e62f-793a-410b-a416-96bc7790f61e",
        "colab": {
          "base_uri": "https://localhost:8080/",
          "height": 87
        }
      },
      "source": [
        "#Matrice inversible https://fr.wikipedia.org/wiki/Matrice_inversible\n",
        "#np.linalg.inv(matrix) matrix carré a non singulière\n",
        "\n",
        "np.linalg.inv(np.random.rand(16).reshape(4,4))"
      ],
      "execution_count": null,
      "outputs": [
        {
          "output_type": "execute_result",
          "data": {
            "text/plain": [
              "array([[ 50.18336127,   3.47986994, -10.5481961 , -46.84733233],\n",
              "       [-19.71307951,   0.98208698,   3.95725461,  18.25089902],\n",
              "       [-17.16678088,  -1.43985613,   3.12666341,  17.49807568],\n",
              "       [ -4.42478144,  -1.69231287,   2.57976665,   3.12476865]])"
            ]
          },
          "metadata": {
            "tags": []
          },
          "execution_count": 98
        }
      ]
    },
    {
      "cell_type": "markdown",
      "metadata": {
        "id": "4EHl27Kj_HpT"
      },
      "source": [
        "# Pandas\n",
        "\n",
        "Librarie de manipulation et d'analyse de données pour Python.\n",
        "\n",
        "<a href=\"https://pandas.pydata.org/docs/user_guide/index.html\" target=\"_blank\" >Documentation  </a>\n",
        "\n",
        "<a href=\"https://pandas.pydata.org/\" target=\"_blank\" ><img  src=\"https://upload.wikimedia.org/wikipedia/commons/thumb/e/ed/Pandas_logo.svg/1200px-Pandas_logo.svg.png\" width=\"400\" height=\"auto\"/></a>"
      ]
    },
    {
      "cell_type": "markdown",
      "metadata": {
        "id": "rdIsASv3ILsd"
      },
      "source": [
        "\n",
        "<img  src=\"https://pandas.pydata.org/docs/_images/01_table_dataframe.svg\" width=\"400\" height=\"auto\"/>\n",
        "\n",
        "\n",
        "<img  src=\"https://pandas.pydata.org/docs/_images/02_io_readwrite.svg\" width=\"400\" height=\"auto\"/>\n"
      ]
    },
    {
      "cell_type": "code",
      "metadata": {
        "id": "e6cPnKxe_eAs",
        "outputId": "bdd76c3e-e83f-4686-9ce6-d797604d3a6f",
        "colab": {
          "base_uri": "https://localhost:8080/",
          "height": 158
        }
      },
      "source": [
        "#Les objets en pandas - Series et DataFrame\n",
        "#pd.Series(list/array,index=[...])\n",
        "#pd.Series(dict)\n",
        "\n",
        "import pandas as pd\n",
        "\n",
        "print(pd.Series(np.array([1,2,3])))\n",
        "print(pd.Series([5,6,7]))"
      ],
      "execution_count": null,
      "outputs": [
        {
          "output_type": "stream",
          "text": [
            "0    1\n",
            "1    2\n",
            "2    3\n",
            "dtype: int64\n",
            "0    5\n",
            "1    6\n",
            "2    7\n",
            "dtype: int64\n"
          ],
          "name": "stdout"
        }
      ]
    },
    {
      "cell_type": "code",
      "metadata": {
        "id": "iljWt8UzeKKZ",
        "outputId": "5c3a6907-7828-4a44-8648-c8f150c84d51",
        "colab": {
          "base_uri": "https://localhost:8080/",
          "height": 136
        }
      },
      "source": [
        "#pd.DataFrame(array, index=[...])\n",
        "#pd.DataFrame(dict avec list comme value )\n",
        "\n",
        "pd.DataFrame({'colonne1':[1,2,3],\n",
        "              'colonne2':[5,4,3]})"
      ],
      "execution_count": null,
      "outputs": [
        {
          "output_type": "execute_result",
          "data": {
            "text/html": [
              "<div>\n",
              "<style scoped>\n",
              "    .dataframe tbody tr th:only-of-type {\n",
              "        vertical-align: middle;\n",
              "    }\n",
              "\n",
              "    .dataframe tbody tr th {\n",
              "        vertical-align: top;\n",
              "    }\n",
              "\n",
              "    .dataframe thead th {\n",
              "        text-align: right;\n",
              "    }\n",
              "</style>\n",
              "<table border=\"1\" class=\"dataframe\">\n",
              "  <thead>\n",
              "    <tr style=\"text-align: right;\">\n",
              "      <th></th>\n",
              "      <th>colonne1</th>\n",
              "      <th>colonne2</th>\n",
              "    </tr>\n",
              "  </thead>\n",
              "  <tbody>\n",
              "    <tr>\n",
              "      <th>0</th>\n",
              "      <td>1</td>\n",
              "      <td>5</td>\n",
              "    </tr>\n",
              "    <tr>\n",
              "      <th>1</th>\n",
              "      <td>2</td>\n",
              "      <td>4</td>\n",
              "    </tr>\n",
              "    <tr>\n",
              "      <th>2</th>\n",
              "      <td>3</td>\n",
              "      <td>3</td>\n",
              "    </tr>\n",
              "  </tbody>\n",
              "</table>\n",
              "</div>"
            ],
            "text/plain": [
              "   colonne1  colonne2\n",
              "0         1         5\n",
              "1         2         4\n",
              "2         3         3"
            ]
          },
          "metadata": {
            "tags": []
          },
          "execution_count": 105
        }
      ]
    },
    {
      "cell_type": "code",
      "metadata": {
        "id": "D3S2r-UNMmFf",
        "outputId": "3190fed0-bee3-4ad6-acce-2a698c1b86a1",
        "colab": {
          "base_uri": "https://localhost:8080/",
          "height": 140
        }
      },
      "source": [
        "#df.head(n) afficher les n première lignes de notre DF\n",
        "\n",
        "df_covid = pd.read_csv('https://raw.githubusercontent.com/CSSEGISandData/COVID-19/master/csse_covid_19_data/csse_covid_19_daily_reports/04-19-2020.csv')\n",
        "df_covid.head(2)"
      ],
      "execution_count": null,
      "outputs": [
        {
          "output_type": "execute_result",
          "data": {
            "text/html": [
              "<div>\n",
              "<style scoped>\n",
              "    .dataframe tbody tr th:only-of-type {\n",
              "        vertical-align: middle;\n",
              "    }\n",
              "\n",
              "    .dataframe tbody tr th {\n",
              "        vertical-align: top;\n",
              "    }\n",
              "\n",
              "    .dataframe thead th {\n",
              "        text-align: right;\n",
              "    }\n",
              "</style>\n",
              "<table border=\"1\" class=\"dataframe\">\n",
              "  <thead>\n",
              "    <tr style=\"text-align: right;\">\n",
              "      <th></th>\n",
              "      <th>FIPS</th>\n",
              "      <th>Admin2</th>\n",
              "      <th>Province_State</th>\n",
              "      <th>Country_Region</th>\n",
              "      <th>Last_Update</th>\n",
              "      <th>Lat</th>\n",
              "      <th>Long_</th>\n",
              "      <th>Confirmed</th>\n",
              "      <th>Deaths</th>\n",
              "      <th>Recovered</th>\n",
              "      <th>Active</th>\n",
              "      <th>Combined_Key</th>\n",
              "    </tr>\n",
              "  </thead>\n",
              "  <tbody>\n",
              "    <tr>\n",
              "      <th>0</th>\n",
              "      <td>45001.0</td>\n",
              "      <td>Abbeville</td>\n",
              "      <td>South Carolina</td>\n",
              "      <td>US</td>\n",
              "      <td>2020-04-19 23:41:01</td>\n",
              "      <td>34.223334</td>\n",
              "      <td>-82.461707</td>\n",
              "      <td>17</td>\n",
              "      <td>0</td>\n",
              "      <td>0</td>\n",
              "      <td>17</td>\n",
              "      <td>Abbeville, South Carolina, US</td>\n",
              "    </tr>\n",
              "    <tr>\n",
              "      <th>1</th>\n",
              "      <td>22001.0</td>\n",
              "      <td>Acadia</td>\n",
              "      <td>Louisiana</td>\n",
              "      <td>US</td>\n",
              "      <td>2020-04-19 23:41:01</td>\n",
              "      <td>30.295065</td>\n",
              "      <td>-92.414197</td>\n",
              "      <td>110</td>\n",
              "      <td>7</td>\n",
              "      <td>0</td>\n",
              "      <td>103</td>\n",
              "      <td>Acadia, Louisiana, US</td>\n",
              "    </tr>\n",
              "  </tbody>\n",
              "</table>\n",
              "</div>"
            ],
            "text/plain": [
              "      FIPS     Admin2  ... Active                   Combined_Key\n",
              "0  45001.0  Abbeville  ...     17  Abbeville, South Carolina, US\n",
              "1  22001.0     Acadia  ...    103          Acadia, Louisiana, US\n",
              "\n",
              "[2 rows x 12 columns]"
            ]
          },
          "metadata": {
            "tags": []
          },
          "execution_count": 116
        }
      ]
    },
    {
      "cell_type": "code",
      "metadata": {
        "id": "ed1Eop4UKYuK",
        "outputId": "b9217593-11eb-4045-e5c8-cace3126c4d4",
        "colab": {
          "base_uri": "https://localhost:8080/",
          "height": 309
        }
      },
      "source": [
        "#set_index(), reset_index()index=[], reindex(columns=[]), définir un index\n",
        "\n",
        "\n",
        "df_covid.set_index('Country_Region').head()"
      ],
      "execution_count": null,
      "outputs": [
        {
          "output_type": "execute_result",
          "data": {
            "text/html": [
              "<div>\n",
              "<style scoped>\n",
              "    .dataframe tbody tr th:only-of-type {\n",
              "        vertical-align: middle;\n",
              "    }\n",
              "\n",
              "    .dataframe tbody tr th {\n",
              "        vertical-align: top;\n",
              "    }\n",
              "\n",
              "    .dataframe thead th {\n",
              "        text-align: right;\n",
              "    }\n",
              "</style>\n",
              "<table border=\"1\" class=\"dataframe\">\n",
              "  <thead>\n",
              "    <tr style=\"text-align: right;\">\n",
              "      <th></th>\n",
              "      <th>FIPS</th>\n",
              "      <th>Admin2</th>\n",
              "      <th>Province_State</th>\n",
              "      <th>Last_Update</th>\n",
              "      <th>Lat</th>\n",
              "      <th>Long_</th>\n",
              "      <th>Confirmed</th>\n",
              "      <th>Deaths</th>\n",
              "      <th>Recovered</th>\n",
              "      <th>Active</th>\n",
              "      <th>Combined_Key</th>\n",
              "    </tr>\n",
              "    <tr>\n",
              "      <th>Country_Region</th>\n",
              "      <th></th>\n",
              "      <th></th>\n",
              "      <th></th>\n",
              "      <th></th>\n",
              "      <th></th>\n",
              "      <th></th>\n",
              "      <th></th>\n",
              "      <th></th>\n",
              "      <th></th>\n",
              "      <th></th>\n",
              "      <th></th>\n",
              "    </tr>\n",
              "  </thead>\n",
              "  <tbody>\n",
              "    <tr>\n",
              "      <th>US</th>\n",
              "      <td>45001.0</td>\n",
              "      <td>Abbeville</td>\n",
              "      <td>South Carolina</td>\n",
              "      <td>2020-04-19 23:41:01</td>\n",
              "      <td>34.223334</td>\n",
              "      <td>-82.461707</td>\n",
              "      <td>17</td>\n",
              "      <td>0</td>\n",
              "      <td>0</td>\n",
              "      <td>17</td>\n",
              "      <td>Abbeville, South Carolina, US</td>\n",
              "    </tr>\n",
              "    <tr>\n",
              "      <th>US</th>\n",
              "      <td>22001.0</td>\n",
              "      <td>Acadia</td>\n",
              "      <td>Louisiana</td>\n",
              "      <td>2020-04-19 23:41:01</td>\n",
              "      <td>30.295065</td>\n",
              "      <td>-92.414197</td>\n",
              "      <td>110</td>\n",
              "      <td>7</td>\n",
              "      <td>0</td>\n",
              "      <td>103</td>\n",
              "      <td>Acadia, Louisiana, US</td>\n",
              "    </tr>\n",
              "    <tr>\n",
              "      <th>US</th>\n",
              "      <td>51001.0</td>\n",
              "      <td>Accomack</td>\n",
              "      <td>Virginia</td>\n",
              "      <td>2020-04-19 23:41:01</td>\n",
              "      <td>37.767072</td>\n",
              "      <td>-75.632346</td>\n",
              "      <td>42</td>\n",
              "      <td>0</td>\n",
              "      <td>0</td>\n",
              "      <td>42</td>\n",
              "      <td>Accomack, Virginia, US</td>\n",
              "    </tr>\n",
              "    <tr>\n",
              "      <th>US</th>\n",
              "      <td>16001.0</td>\n",
              "      <td>Ada</td>\n",
              "      <td>Idaho</td>\n",
              "      <td>2020-04-19 23:41:01</td>\n",
              "      <td>43.452658</td>\n",
              "      <td>-116.241552</td>\n",
              "      <td>598</td>\n",
              "      <td>10</td>\n",
              "      <td>0</td>\n",
              "      <td>588</td>\n",
              "      <td>Ada, Idaho, US</td>\n",
              "    </tr>\n",
              "    <tr>\n",
              "      <th>US</th>\n",
              "      <td>19001.0</td>\n",
              "      <td>Adair</td>\n",
              "      <td>Iowa</td>\n",
              "      <td>2020-04-19 23:41:01</td>\n",
              "      <td>41.330756</td>\n",
              "      <td>-94.471059</td>\n",
              "      <td>1</td>\n",
              "      <td>0</td>\n",
              "      <td>0</td>\n",
              "      <td>1</td>\n",
              "      <td>Adair, Iowa, US</td>\n",
              "    </tr>\n",
              "  </tbody>\n",
              "</table>\n",
              "</div>"
            ],
            "text/plain": [
              "                   FIPS     Admin2  ... Active                   Combined_Key\n",
              "Country_Region                      ...                                      \n",
              "US              45001.0  Abbeville  ...     17  Abbeville, South Carolina, US\n",
              "US              22001.0     Acadia  ...    103          Acadia, Louisiana, US\n",
              "US              51001.0   Accomack  ...     42         Accomack, Virginia, US\n",
              "US              16001.0        Ada  ...    588                 Ada, Idaho, US\n",
              "US              19001.0      Adair  ...      1                Adair, Iowa, US\n",
              "\n",
              "[5 rows x 11 columns]"
            ]
          },
          "metadata": {
            "tags": []
          },
          "execution_count": 112
        }
      ]
    },
    {
      "cell_type": "code",
      "metadata": {
        "id": "fHDSBavzfdMR",
        "outputId": "f340a878-ee1a-4c9e-c760-f4c5503c5b04",
        "colab": {
          "base_uri": "https://localhost:8080/",
          "height": 140
        }
      },
      "source": [
        "df_covid.head(2)"
      ],
      "execution_count": null,
      "outputs": [
        {
          "output_type": "execute_result",
          "data": {
            "text/html": [
              "<div>\n",
              "<style scoped>\n",
              "    .dataframe tbody tr th:only-of-type {\n",
              "        vertical-align: middle;\n",
              "    }\n",
              "\n",
              "    .dataframe tbody tr th {\n",
              "        vertical-align: top;\n",
              "    }\n",
              "\n",
              "    .dataframe thead th {\n",
              "        text-align: right;\n",
              "    }\n",
              "</style>\n",
              "<table border=\"1\" class=\"dataframe\">\n",
              "  <thead>\n",
              "    <tr style=\"text-align: right;\">\n",
              "      <th></th>\n",
              "      <th>FIPS</th>\n",
              "      <th>Admin2</th>\n",
              "      <th>Province_State</th>\n",
              "      <th>Country_Region</th>\n",
              "      <th>Last_Update</th>\n",
              "      <th>Lat</th>\n",
              "      <th>Long_</th>\n",
              "      <th>Confirmed</th>\n",
              "      <th>Deaths</th>\n",
              "      <th>Recovered</th>\n",
              "      <th>Active</th>\n",
              "      <th>Combined_Key</th>\n",
              "    </tr>\n",
              "  </thead>\n",
              "  <tbody>\n",
              "    <tr>\n",
              "      <th>0</th>\n",
              "      <td>45001.0</td>\n",
              "      <td>Abbeville</td>\n",
              "      <td>South Carolina</td>\n",
              "      <td>US</td>\n",
              "      <td>2020-04-19 23:41:01</td>\n",
              "      <td>34.223334</td>\n",
              "      <td>-82.461707</td>\n",
              "      <td>17</td>\n",
              "      <td>0</td>\n",
              "      <td>0</td>\n",
              "      <td>17</td>\n",
              "      <td>Abbeville, South Carolina, US</td>\n",
              "    </tr>\n",
              "    <tr>\n",
              "      <th>1</th>\n",
              "      <td>22001.0</td>\n",
              "      <td>Acadia</td>\n",
              "      <td>Louisiana</td>\n",
              "      <td>US</td>\n",
              "      <td>2020-04-19 23:41:01</td>\n",
              "      <td>30.295065</td>\n",
              "      <td>-92.414197</td>\n",
              "      <td>110</td>\n",
              "      <td>7</td>\n",
              "      <td>0</td>\n",
              "      <td>103</td>\n",
              "      <td>Acadia, Louisiana, US</td>\n",
              "    </tr>\n",
              "  </tbody>\n",
              "</table>\n",
              "</div>"
            ],
            "text/plain": [
              "      FIPS     Admin2  ... Active                   Combined_Key\n",
              "0  45001.0  Abbeville  ...     17  Abbeville, South Carolina, US\n",
              "1  22001.0     Acadia  ...    103          Acadia, Louisiana, US\n",
              "\n",
              "[2 rows x 12 columns]"
            ]
          },
          "metadata": {
            "tags": []
          },
          "execution_count": 114
        }
      ]
    },
    {
      "cell_type": "code",
      "metadata": {
        "id": "Agj2vAiLfhDj",
        "outputId": "ffd79ada-29ce-40bf-f23f-0088cb1d1f09",
        "colab": {
          "base_uri": "https://localhost:8080/",
          "height": 170
        }
      },
      "source": [
        "#enregistrer le changement d'index\n",
        "#df_covid = df_covid.set_index('Country_Region').head()\n",
        "df_covid.set_index('Country_Region', inplace=True)\n",
        "df_covid.head(2)"
      ],
      "execution_count": null,
      "outputs": [
        {
          "output_type": "execute_result",
          "data": {
            "text/html": [
              "<div>\n",
              "<style scoped>\n",
              "    .dataframe tbody tr th:only-of-type {\n",
              "        vertical-align: middle;\n",
              "    }\n",
              "\n",
              "    .dataframe tbody tr th {\n",
              "        vertical-align: top;\n",
              "    }\n",
              "\n",
              "    .dataframe thead th {\n",
              "        text-align: right;\n",
              "    }\n",
              "</style>\n",
              "<table border=\"1\" class=\"dataframe\">\n",
              "  <thead>\n",
              "    <tr style=\"text-align: right;\">\n",
              "      <th></th>\n",
              "      <th>FIPS</th>\n",
              "      <th>Admin2</th>\n",
              "      <th>Province_State</th>\n",
              "      <th>Last_Update</th>\n",
              "      <th>Lat</th>\n",
              "      <th>Long_</th>\n",
              "      <th>Confirmed</th>\n",
              "      <th>Deaths</th>\n",
              "      <th>Recovered</th>\n",
              "      <th>Active</th>\n",
              "      <th>Combined_Key</th>\n",
              "    </tr>\n",
              "    <tr>\n",
              "      <th>Country_Region</th>\n",
              "      <th></th>\n",
              "      <th></th>\n",
              "      <th></th>\n",
              "      <th></th>\n",
              "      <th></th>\n",
              "      <th></th>\n",
              "      <th></th>\n",
              "      <th></th>\n",
              "      <th></th>\n",
              "      <th></th>\n",
              "      <th></th>\n",
              "    </tr>\n",
              "  </thead>\n",
              "  <tbody>\n",
              "    <tr>\n",
              "      <th>US</th>\n",
              "      <td>45001.0</td>\n",
              "      <td>Abbeville</td>\n",
              "      <td>South Carolina</td>\n",
              "      <td>2020-04-19 23:41:01</td>\n",
              "      <td>34.223334</td>\n",
              "      <td>-82.461707</td>\n",
              "      <td>17</td>\n",
              "      <td>0</td>\n",
              "      <td>0</td>\n",
              "      <td>17</td>\n",
              "      <td>Abbeville, South Carolina, US</td>\n",
              "    </tr>\n",
              "    <tr>\n",
              "      <th>US</th>\n",
              "      <td>22001.0</td>\n",
              "      <td>Acadia</td>\n",
              "      <td>Louisiana</td>\n",
              "      <td>2020-04-19 23:41:01</td>\n",
              "      <td>30.295065</td>\n",
              "      <td>-92.414197</td>\n",
              "      <td>110</td>\n",
              "      <td>7</td>\n",
              "      <td>0</td>\n",
              "      <td>103</td>\n",
              "      <td>Acadia, Louisiana, US</td>\n",
              "    </tr>\n",
              "  </tbody>\n",
              "</table>\n",
              "</div>"
            ],
            "text/plain": [
              "                   FIPS     Admin2  ... Active                   Combined_Key\n",
              "Country_Region                      ...                                      \n",
              "US              45001.0  Abbeville  ...     17  Abbeville, South Carolina, US\n",
              "US              22001.0     Acadia  ...    103          Acadia, Louisiana, US\n",
              "\n",
              "[2 rows x 11 columns]"
            ]
          },
          "metadata": {
            "tags": []
          },
          "execution_count": 117
        }
      ]
    },
    {
      "cell_type": "code",
      "metadata": {
        "id": "2XOQyoD0fy4b",
        "outputId": "5c8381f0-97cc-4bf0-c180-9da087c137ff",
        "colab": {
          "base_uri": "https://localhost:8080/",
          "height": 140
        }
      },
      "source": [
        "df_covid = df_covid.reset_index()\n",
        "df_covid.head(2)"
      ],
      "execution_count": null,
      "outputs": [
        {
          "output_type": "execute_result",
          "data": {
            "text/html": [
              "<div>\n",
              "<style scoped>\n",
              "    .dataframe tbody tr th:only-of-type {\n",
              "        vertical-align: middle;\n",
              "    }\n",
              "\n",
              "    .dataframe tbody tr th {\n",
              "        vertical-align: top;\n",
              "    }\n",
              "\n",
              "    .dataframe thead th {\n",
              "        text-align: right;\n",
              "    }\n",
              "</style>\n",
              "<table border=\"1\" class=\"dataframe\">\n",
              "  <thead>\n",
              "    <tr style=\"text-align: right;\">\n",
              "      <th></th>\n",
              "      <th>Country_Region</th>\n",
              "      <th>FIPS</th>\n",
              "      <th>Admin2</th>\n",
              "      <th>Province_State</th>\n",
              "      <th>Last_Update</th>\n",
              "      <th>Lat</th>\n",
              "      <th>Long_</th>\n",
              "      <th>Confirmed</th>\n",
              "      <th>Deaths</th>\n",
              "      <th>Recovered</th>\n",
              "      <th>Active</th>\n",
              "      <th>Combined_Key</th>\n",
              "    </tr>\n",
              "  </thead>\n",
              "  <tbody>\n",
              "    <tr>\n",
              "      <th>0</th>\n",
              "      <td>US</td>\n",
              "      <td>45001.0</td>\n",
              "      <td>Abbeville</td>\n",
              "      <td>South Carolina</td>\n",
              "      <td>2020-04-19 23:41:01</td>\n",
              "      <td>34.223334</td>\n",
              "      <td>-82.461707</td>\n",
              "      <td>17</td>\n",
              "      <td>0</td>\n",
              "      <td>0</td>\n",
              "      <td>17</td>\n",
              "      <td>Abbeville, South Carolina, US</td>\n",
              "    </tr>\n",
              "    <tr>\n",
              "      <th>1</th>\n",
              "      <td>US</td>\n",
              "      <td>22001.0</td>\n",
              "      <td>Acadia</td>\n",
              "      <td>Louisiana</td>\n",
              "      <td>2020-04-19 23:41:01</td>\n",
              "      <td>30.295065</td>\n",
              "      <td>-92.414197</td>\n",
              "      <td>110</td>\n",
              "      <td>7</td>\n",
              "      <td>0</td>\n",
              "      <td>103</td>\n",
              "      <td>Acadia, Louisiana, US</td>\n",
              "    </tr>\n",
              "  </tbody>\n",
              "</table>\n",
              "</div>"
            ],
            "text/plain": [
              "  Country_Region     FIPS  ... Active                   Combined_Key\n",
              "0             US  45001.0  ...     17  Abbeville, South Carolina, US\n",
              "1             US  22001.0  ...    103          Acadia, Louisiana, US\n",
              "\n",
              "[2 rows x 12 columns]"
            ]
          },
          "metadata": {
            "tags": []
          },
          "execution_count": 118
        }
      ]
    },
    {
      "cell_type": "code",
      "metadata": {
        "id": "0WRJSYgCLUlT",
        "outputId": "2e676412-f2d5-4c4c-e79b-e0b4ce85e40f",
        "colab": {
          "base_uri": "https://localhost:8080/",
          "height": 140
        }
      },
      "source": [
        "#renommer des colonnes et index df.rename(columns={old_name:new_name}, index={old_name:new_name})\n",
        "\n",
        "df_covid.rename(columns={'Admin2':'Admin'}, inplace = True)\n",
        "df_covid.head(2)"
      ],
      "execution_count": null,
      "outputs": [
        {
          "output_type": "execute_result",
          "data": {
            "text/html": [
              "<div>\n",
              "<style scoped>\n",
              "    .dataframe tbody tr th:only-of-type {\n",
              "        vertical-align: middle;\n",
              "    }\n",
              "\n",
              "    .dataframe tbody tr th {\n",
              "        vertical-align: top;\n",
              "    }\n",
              "\n",
              "    .dataframe thead th {\n",
              "        text-align: right;\n",
              "    }\n",
              "</style>\n",
              "<table border=\"1\" class=\"dataframe\">\n",
              "  <thead>\n",
              "    <tr style=\"text-align: right;\">\n",
              "      <th></th>\n",
              "      <th>Country_Region</th>\n",
              "      <th>FIPS</th>\n",
              "      <th>Admin</th>\n",
              "      <th>Province_State</th>\n",
              "      <th>Last_Update</th>\n",
              "      <th>Lat</th>\n",
              "      <th>Long_</th>\n",
              "      <th>Confirmed</th>\n",
              "      <th>Deaths</th>\n",
              "      <th>Recovered</th>\n",
              "      <th>Active</th>\n",
              "      <th>Combined_Key</th>\n",
              "    </tr>\n",
              "  </thead>\n",
              "  <tbody>\n",
              "    <tr>\n",
              "      <th>0</th>\n",
              "      <td>US</td>\n",
              "      <td>45001.0</td>\n",
              "      <td>Abbeville</td>\n",
              "      <td>South Carolina</td>\n",
              "      <td>2020-04-19 23:41:01</td>\n",
              "      <td>34.223334</td>\n",
              "      <td>-82.461707</td>\n",
              "      <td>17</td>\n",
              "      <td>0</td>\n",
              "      <td>0</td>\n",
              "      <td>17</td>\n",
              "      <td>Abbeville, South Carolina, US</td>\n",
              "    </tr>\n",
              "    <tr>\n",
              "      <th>1</th>\n",
              "      <td>US</td>\n",
              "      <td>22001.0</td>\n",
              "      <td>Acadia</td>\n",
              "      <td>Louisiana</td>\n",
              "      <td>2020-04-19 23:41:01</td>\n",
              "      <td>30.295065</td>\n",
              "      <td>-92.414197</td>\n",
              "      <td>110</td>\n",
              "      <td>7</td>\n",
              "      <td>0</td>\n",
              "      <td>103</td>\n",
              "      <td>Acadia, Louisiana, US</td>\n",
              "    </tr>\n",
              "  </tbody>\n",
              "</table>\n",
              "</div>"
            ],
            "text/plain": [
              "  Country_Region     FIPS  ... Active                   Combined_Key\n",
              "0             US  45001.0  ...     17  Abbeville, South Carolina, US\n",
              "1             US  22001.0  ...    103          Acadia, Louisiana, US\n",
              "\n",
              "[2 rows x 12 columns]"
            ]
          },
          "metadata": {
            "tags": []
          },
          "execution_count": 120
        }
      ]
    },
    {
      "cell_type": "code",
      "metadata": {
        "id": "qYcISGA6Mwun",
        "outputId": "54135f5a-1393-4716-e734-b76b113d1d84",
        "colab": {
          "base_uri": "https://localhost:8080/",
          "height": 228
        }
      },
      "source": [
        "#accéder aux données\n",
        "# boolean , selectionner certaines données\n",
        "\n",
        "df_covid['Country_Region'] == 'US'"
      ],
      "execution_count": null,
      "outputs": [
        {
          "output_type": "execute_result",
          "data": {
            "text/plain": [
              "0        True\n",
              "1        True\n",
              "2        True\n",
              "3        True\n",
              "4        True\n",
              "        ...  \n",
              "3067    False\n",
              "3068    False\n",
              "3069    False\n",
              "3070    False\n",
              "3071    False\n",
              "Name: Country_Region, Length: 3072, dtype: bool"
            ]
          },
          "metadata": {
            "tags": []
          },
          "execution_count": 121
        }
      ]
    },
    {
      "cell_type": "code",
      "metadata": {
        "id": "OLb6yBqlgbqJ",
        "outputId": "758858ae-8261-46a4-9fd2-ccc1396b709d",
        "colab": {
          "base_uri": "https://localhost:8080/",
          "height": 34
        }
      },
      "source": [
        "df_covid.shape"
      ],
      "execution_count": null,
      "outputs": [
        {
          "output_type": "execute_result",
          "data": {
            "text/plain": [
              "(3072, 12)"
            ]
          },
          "metadata": {
            "tags": []
          },
          "execution_count": 124
        }
      ]
    },
    {
      "cell_type": "code",
      "metadata": {
        "id": "RuDYjaNfgVzP",
        "outputId": "0ee990a8-80d6-4089-d4fd-a8a79e6036e7",
        "colab": {
          "base_uri": "https://localhost:8080/",
          "height": 603
        }
      },
      "source": [
        "df_covid[df_covid['Country_Region'] == 'US']"
      ],
      "execution_count": null,
      "outputs": [
        {
          "output_type": "execute_result",
          "data": {
            "text/html": [
              "<div>\n",
              "<style scoped>\n",
              "    .dataframe tbody tr th:only-of-type {\n",
              "        vertical-align: middle;\n",
              "    }\n",
              "\n",
              "    .dataframe tbody tr th {\n",
              "        vertical-align: top;\n",
              "    }\n",
              "\n",
              "    .dataframe thead th {\n",
              "        text-align: right;\n",
              "    }\n",
              "</style>\n",
              "<table border=\"1\" class=\"dataframe\">\n",
              "  <thead>\n",
              "    <tr style=\"text-align: right;\">\n",
              "      <th></th>\n",
              "      <th>Country_Region</th>\n",
              "      <th>FIPS</th>\n",
              "      <th>Admin</th>\n",
              "      <th>Province_State</th>\n",
              "      <th>Last_Update</th>\n",
              "      <th>Lat</th>\n",
              "      <th>Long_</th>\n",
              "      <th>Confirmed</th>\n",
              "      <th>Deaths</th>\n",
              "      <th>Recovered</th>\n",
              "      <th>Active</th>\n",
              "      <th>Combined_Key</th>\n",
              "    </tr>\n",
              "  </thead>\n",
              "  <tbody>\n",
              "    <tr>\n",
              "      <th>0</th>\n",
              "      <td>US</td>\n",
              "      <td>45001.0</td>\n",
              "      <td>Abbeville</td>\n",
              "      <td>South Carolina</td>\n",
              "      <td>2020-04-19 23:41:01</td>\n",
              "      <td>34.223334</td>\n",
              "      <td>-82.461707</td>\n",
              "      <td>17</td>\n",
              "      <td>0</td>\n",
              "      <td>0</td>\n",
              "      <td>17</td>\n",
              "      <td>Abbeville, South Carolina, US</td>\n",
              "    </tr>\n",
              "    <tr>\n",
              "      <th>1</th>\n",
              "      <td>US</td>\n",
              "      <td>22001.0</td>\n",
              "      <td>Acadia</td>\n",
              "      <td>Louisiana</td>\n",
              "      <td>2020-04-19 23:41:01</td>\n",
              "      <td>30.295065</td>\n",
              "      <td>-92.414197</td>\n",
              "      <td>110</td>\n",
              "      <td>7</td>\n",
              "      <td>0</td>\n",
              "      <td>103</td>\n",
              "      <td>Acadia, Louisiana, US</td>\n",
              "    </tr>\n",
              "    <tr>\n",
              "      <th>2</th>\n",
              "      <td>US</td>\n",
              "      <td>51001.0</td>\n",
              "      <td>Accomack</td>\n",
              "      <td>Virginia</td>\n",
              "      <td>2020-04-19 23:41:01</td>\n",
              "      <td>37.767072</td>\n",
              "      <td>-75.632346</td>\n",
              "      <td>42</td>\n",
              "      <td>0</td>\n",
              "      <td>0</td>\n",
              "      <td>42</td>\n",
              "      <td>Accomack, Virginia, US</td>\n",
              "    </tr>\n",
              "    <tr>\n",
              "      <th>3</th>\n",
              "      <td>US</td>\n",
              "      <td>16001.0</td>\n",
              "      <td>Ada</td>\n",
              "      <td>Idaho</td>\n",
              "      <td>2020-04-19 23:41:01</td>\n",
              "      <td>43.452658</td>\n",
              "      <td>-116.241552</td>\n",
              "      <td>598</td>\n",
              "      <td>10</td>\n",
              "      <td>0</td>\n",
              "      <td>588</td>\n",
              "      <td>Ada, Idaho, US</td>\n",
              "    </tr>\n",
              "    <tr>\n",
              "      <th>4</th>\n",
              "      <td>US</td>\n",
              "      <td>19001.0</td>\n",
              "      <td>Adair</td>\n",
              "      <td>Iowa</td>\n",
              "      <td>2020-04-19 23:41:01</td>\n",
              "      <td>41.330756</td>\n",
              "      <td>-94.471059</td>\n",
              "      <td>1</td>\n",
              "      <td>0</td>\n",
              "      <td>0</td>\n",
              "      <td>1</td>\n",
              "      <td>Adair, Iowa, US</td>\n",
              "    </tr>\n",
              "    <tr>\n",
              "      <th>...</th>\n",
              "      <td>...</td>\n",
              "      <td>...</td>\n",
              "      <td>...</td>\n",
              "      <td>...</td>\n",
              "      <td>...</td>\n",
              "      <td>...</td>\n",
              "      <td>...</td>\n",
              "      <td>...</td>\n",
              "      <td>...</td>\n",
              "      <td>...</td>\n",
              "      <td>...</td>\n",
              "      <td>...</td>\n",
              "    </tr>\n",
              "    <tr>\n",
              "      <th>2829</th>\n",
              "      <td>US</td>\n",
              "      <td>66.0</td>\n",
              "      <td>NaN</td>\n",
              "      <td>Guam</td>\n",
              "      <td>2020-04-19 23:41:01</td>\n",
              "      <td>13.444300</td>\n",
              "      <td>144.793700</td>\n",
              "      <td>136</td>\n",
              "      <td>5</td>\n",
              "      <td>0</td>\n",
              "      <td>131</td>\n",
              "      <td>Guam, US</td>\n",
              "    </tr>\n",
              "    <tr>\n",
              "      <th>2856</th>\n",
              "      <td>US</td>\n",
              "      <td>69.0</td>\n",
              "      <td>NaN</td>\n",
              "      <td>Northern Mariana Islands</td>\n",
              "      <td>2020-04-19 23:41:01</td>\n",
              "      <td>15.097900</td>\n",
              "      <td>145.673900</td>\n",
              "      <td>14</td>\n",
              "      <td>2</td>\n",
              "      <td>0</td>\n",
              "      <td>12</td>\n",
              "      <td>Northern Mariana Islands, US</td>\n",
              "    </tr>\n",
              "    <tr>\n",
              "      <th>2862</th>\n",
              "      <td>US</td>\n",
              "      <td>72.0</td>\n",
              "      <td>NaN</td>\n",
              "      <td>Puerto Rico</td>\n",
              "      <td>2020-04-19 23:41:01</td>\n",
              "      <td>18.220800</td>\n",
              "      <td>-66.590100</td>\n",
              "      <td>1213</td>\n",
              "      <td>62</td>\n",
              "      <td>0</td>\n",
              "      <td>1151</td>\n",
              "      <td>Puerto Rico, US</td>\n",
              "    </tr>\n",
              "    <tr>\n",
              "      <th>2867</th>\n",
              "      <td>US</td>\n",
              "      <td>NaN</td>\n",
              "      <td>NaN</td>\n",
              "      <td>Recovered</td>\n",
              "      <td>2020-04-19 23:41:01</td>\n",
              "      <td>NaN</td>\n",
              "      <td>NaN</td>\n",
              "      <td>0</td>\n",
              "      <td>0</td>\n",
              "      <td>70337</td>\n",
              "      <td>-70337</td>\n",
              "      <td>Recovered, US</td>\n",
              "    </tr>\n",
              "    <tr>\n",
              "      <th>2885</th>\n",
              "      <td>US</td>\n",
              "      <td>78.0</td>\n",
              "      <td>NaN</td>\n",
              "      <td>Virgin Islands</td>\n",
              "      <td>2020-04-19 23:41:01</td>\n",
              "      <td>18.335800</td>\n",
              "      <td>-64.896300</td>\n",
              "      <td>53</td>\n",
              "      <td>3</td>\n",
              "      <td>0</td>\n",
              "      <td>50</td>\n",
              "      <td>Virgin Islands, US</td>\n",
              "    </tr>\n",
              "  </tbody>\n",
              "</table>\n",
              "<p>2810 rows × 12 columns</p>\n",
              "</div>"
            ],
            "text/plain": [
              "     Country_Region     FIPS  ... Active                   Combined_Key\n",
              "0                US  45001.0  ...     17  Abbeville, South Carolina, US\n",
              "1                US  22001.0  ...    103          Acadia, Louisiana, US\n",
              "2                US  51001.0  ...     42         Accomack, Virginia, US\n",
              "3                US  16001.0  ...    588                 Ada, Idaho, US\n",
              "4                US  19001.0  ...      1                Adair, Iowa, US\n",
              "...             ...      ...  ...    ...                            ...\n",
              "2829             US     66.0  ...    131                       Guam, US\n",
              "2856             US     69.0  ...     12   Northern Mariana Islands, US\n",
              "2862             US     72.0  ...   1151                Puerto Rico, US\n",
              "2867             US      NaN  ... -70337                  Recovered, US\n",
              "2885             US     78.0  ...     50             Virgin Islands, US\n",
              "\n",
              "[2810 rows x 12 columns]"
            ]
          },
          "metadata": {
            "tags": []
          },
          "execution_count": 133
        }
      ]
    },
    {
      "cell_type": "code",
      "metadata": {
        "id": "n7EA3gzkjL-t",
        "outputId": "dac23ce1-0c30-4567-f73c-c8063020425f",
        "colab": {
          "base_uri": "https://localhost:8080/",
          "height": 34
        }
      },
      "source": [
        "df_covid[df_covid['Country_Region'] == 'US'].shape"
      ],
      "execution_count": null,
      "outputs": [
        {
          "output_type": "execute_result",
          "data": {
            "text/plain": [
              "(2810, 14)"
            ]
          },
          "metadata": {
            "tags": []
          },
          "execution_count": 156
        }
      ]
    },
    {
      "cell_type": "code",
      "metadata": {
        "id": "8ae0T1XzgeYQ",
        "outputId": "706ae990-1913-429f-bd95-06ff25a99979",
        "colab": {
          "base_uri": "https://localhost:8080/",
          "height": 34
        }
      },
      "source": [
        "(df_covid[df_covid['Country_Region'] == 'US'].shape[0]/df_covid.shape[0])*100"
      ],
      "execution_count": null,
      "outputs": [
        {
          "output_type": "execute_result",
          "data": {
            "text/plain": [
              "91.47135416666666"
            ]
          },
          "metadata": {
            "tags": []
          },
          "execution_count": 126
        }
      ]
    },
    {
      "cell_type": "code",
      "metadata": {
        "id": "bVyxtAlbgq_K",
        "outputId": "a5b318f5-2049-451a-8aa1-3692aa541947",
        "colab": {
          "base_uri": "https://localhost:8080/",
          "height": 87
        }
      },
      "source": [
        "#df.columns  voir toutes les colonnes de mon df\n",
        "df_covid.columns"
      ],
      "execution_count": null,
      "outputs": [
        {
          "output_type": "execute_result",
          "data": {
            "text/plain": [
              "Index(['Country_Region', 'FIPS', 'Admin', 'Province_State', 'Last_Update',\n",
              "       'Lat', 'Long_', 'Confirmed', 'Deaths', 'Recovered', 'Active',\n",
              "       'Combined_Key'],\n",
              "      dtype='object')"
            ]
          },
          "metadata": {
            "tags": []
          },
          "execution_count": 127
        }
      ]
    },
    {
      "cell_type": "code",
      "metadata": {
        "id": "wDeM2vneJY1F",
        "outputId": "d702ebb9-b61d-481f-e9cc-e17e345273f4",
        "colab": {
          "base_uri": "https://localhost:8080/",
          "height": 402
        }
      },
      "source": [
        "#Series serie[[index]], serie[ : numéro de ligne]\n",
        "#dataframe accéder à une colone df[colonne]\n",
        "df_covid[['Country_Region','Active']]\n"
      ],
      "execution_count": null,
      "outputs": [
        {
          "output_type": "execute_result",
          "data": {
            "text/html": [
              "<div>\n",
              "<style scoped>\n",
              "    .dataframe tbody tr th:only-of-type {\n",
              "        vertical-align: middle;\n",
              "    }\n",
              "\n",
              "    .dataframe tbody tr th {\n",
              "        vertical-align: top;\n",
              "    }\n",
              "\n",
              "    .dataframe thead th {\n",
              "        text-align: right;\n",
              "    }\n",
              "</style>\n",
              "<table border=\"1\" class=\"dataframe\">\n",
              "  <thead>\n",
              "    <tr style=\"text-align: right;\">\n",
              "      <th></th>\n",
              "      <th>Country_Region</th>\n",
              "      <th>Active</th>\n",
              "    </tr>\n",
              "  </thead>\n",
              "  <tbody>\n",
              "    <tr>\n",
              "      <th>0</th>\n",
              "      <td>US</td>\n",
              "      <td>17</td>\n",
              "    </tr>\n",
              "    <tr>\n",
              "      <th>1</th>\n",
              "      <td>US</td>\n",
              "      <td>103</td>\n",
              "    </tr>\n",
              "    <tr>\n",
              "      <th>2</th>\n",
              "      <td>US</td>\n",
              "      <td>42</td>\n",
              "    </tr>\n",
              "    <tr>\n",
              "      <th>3</th>\n",
              "      <td>US</td>\n",
              "      <td>588</td>\n",
              "    </tr>\n",
              "    <tr>\n",
              "      <th>4</th>\n",
              "      <td>US</td>\n",
              "      <td>1</td>\n",
              "    </tr>\n",
              "    <tr>\n",
              "      <th>...</th>\n",
              "      <td>...</td>\n",
              "      <td>...</td>\n",
              "    </tr>\n",
              "    <tr>\n",
              "      <th>3067</th>\n",
              "      <td>West Bank and Gaza</td>\n",
              "      <td>363</td>\n",
              "    </tr>\n",
              "    <tr>\n",
              "      <th>3068</th>\n",
              "      <td>Western Sahara</td>\n",
              "      <td>6</td>\n",
              "    </tr>\n",
              "    <tr>\n",
              "      <th>3069</th>\n",
              "      <td>Yemen</td>\n",
              "      <td>1</td>\n",
              "    </tr>\n",
              "    <tr>\n",
              "      <th>3070</th>\n",
              "      <td>Zambia</td>\n",
              "      <td>25</td>\n",
              "    </tr>\n",
              "    <tr>\n",
              "      <th>3071</th>\n",
              "      <td>Zimbabwe</td>\n",
              "      <td>20</td>\n",
              "    </tr>\n",
              "  </tbody>\n",
              "</table>\n",
              "<p>3072 rows × 2 columns</p>\n",
              "</div>"
            ],
            "text/plain": [
              "          Country_Region  Active\n",
              "0                     US      17\n",
              "1                     US     103\n",
              "2                     US      42\n",
              "3                     US     588\n",
              "4                     US       1\n",
              "...                  ...     ...\n",
              "3067  West Bank and Gaza     363\n",
              "3068      Western Sahara       6\n",
              "3069               Yemen       1\n",
              "3070              Zambia      25\n",
              "3071            Zimbabwe      20\n",
              "\n",
              "[3072 rows x 2 columns]"
            ]
          },
          "metadata": {
            "tags": []
          },
          "execution_count": 131
        }
      ]
    },
    {
      "cell_type": "code",
      "metadata": {
        "id": "Zp5fH-1MKPVE",
        "outputId": "87815231-7b3a-4b9a-b432-b78d5c692797",
        "colab": {
          "base_uri": "https://localhost:8080/",
          "height": 616
        }
      },
      "source": [
        "#df.loc[nom_index] accéder à la ligne qui correspond a l'index\n",
        "#df.iloc[numéro_ligne] accede aux valeurs d'un certain numéro de ligne\n",
        "\n",
        "df_covid.set_index('Country_Region').loc['US']"
      ],
      "execution_count": null,
      "outputs": [
        {
          "output_type": "execute_result",
          "data": {
            "text/html": [
              "<div>\n",
              "<style scoped>\n",
              "    .dataframe tbody tr th:only-of-type {\n",
              "        vertical-align: middle;\n",
              "    }\n",
              "\n",
              "    .dataframe tbody tr th {\n",
              "        vertical-align: top;\n",
              "    }\n",
              "\n",
              "    .dataframe thead th {\n",
              "        text-align: right;\n",
              "    }\n",
              "</style>\n",
              "<table border=\"1\" class=\"dataframe\">\n",
              "  <thead>\n",
              "    <tr style=\"text-align: right;\">\n",
              "      <th></th>\n",
              "      <th>FIPS</th>\n",
              "      <th>Admin</th>\n",
              "      <th>Province_State</th>\n",
              "      <th>Last_Update</th>\n",
              "      <th>Lat</th>\n",
              "      <th>Long_</th>\n",
              "      <th>Confirmed</th>\n",
              "      <th>Deaths</th>\n",
              "      <th>Recovered</th>\n",
              "      <th>Active</th>\n",
              "      <th>Combined_Key</th>\n",
              "    </tr>\n",
              "    <tr>\n",
              "      <th>Country_Region</th>\n",
              "      <th></th>\n",
              "      <th></th>\n",
              "      <th></th>\n",
              "      <th></th>\n",
              "      <th></th>\n",
              "      <th></th>\n",
              "      <th></th>\n",
              "      <th></th>\n",
              "      <th></th>\n",
              "      <th></th>\n",
              "      <th></th>\n",
              "    </tr>\n",
              "  </thead>\n",
              "  <tbody>\n",
              "    <tr>\n",
              "      <th>US</th>\n",
              "      <td>45001.0</td>\n",
              "      <td>Abbeville</td>\n",
              "      <td>South Carolina</td>\n",
              "      <td>2020-04-19 23:41:01</td>\n",
              "      <td>34.223334</td>\n",
              "      <td>-82.461707</td>\n",
              "      <td>17</td>\n",
              "      <td>0</td>\n",
              "      <td>0</td>\n",
              "      <td>17</td>\n",
              "      <td>Abbeville, South Carolina, US</td>\n",
              "    </tr>\n",
              "    <tr>\n",
              "      <th>US</th>\n",
              "      <td>22001.0</td>\n",
              "      <td>Acadia</td>\n",
              "      <td>Louisiana</td>\n",
              "      <td>2020-04-19 23:41:01</td>\n",
              "      <td>30.295065</td>\n",
              "      <td>-92.414197</td>\n",
              "      <td>110</td>\n",
              "      <td>7</td>\n",
              "      <td>0</td>\n",
              "      <td>103</td>\n",
              "      <td>Acadia, Louisiana, US</td>\n",
              "    </tr>\n",
              "    <tr>\n",
              "      <th>US</th>\n",
              "      <td>51001.0</td>\n",
              "      <td>Accomack</td>\n",
              "      <td>Virginia</td>\n",
              "      <td>2020-04-19 23:41:01</td>\n",
              "      <td>37.767072</td>\n",
              "      <td>-75.632346</td>\n",
              "      <td>42</td>\n",
              "      <td>0</td>\n",
              "      <td>0</td>\n",
              "      <td>42</td>\n",
              "      <td>Accomack, Virginia, US</td>\n",
              "    </tr>\n",
              "    <tr>\n",
              "      <th>US</th>\n",
              "      <td>16001.0</td>\n",
              "      <td>Ada</td>\n",
              "      <td>Idaho</td>\n",
              "      <td>2020-04-19 23:41:01</td>\n",
              "      <td>43.452658</td>\n",
              "      <td>-116.241552</td>\n",
              "      <td>598</td>\n",
              "      <td>10</td>\n",
              "      <td>0</td>\n",
              "      <td>588</td>\n",
              "      <td>Ada, Idaho, US</td>\n",
              "    </tr>\n",
              "    <tr>\n",
              "      <th>US</th>\n",
              "      <td>19001.0</td>\n",
              "      <td>Adair</td>\n",
              "      <td>Iowa</td>\n",
              "      <td>2020-04-19 23:41:01</td>\n",
              "      <td>41.330756</td>\n",
              "      <td>-94.471059</td>\n",
              "      <td>1</td>\n",
              "      <td>0</td>\n",
              "      <td>0</td>\n",
              "      <td>1</td>\n",
              "      <td>Adair, Iowa, US</td>\n",
              "    </tr>\n",
              "    <tr>\n",
              "      <th>...</th>\n",
              "      <td>...</td>\n",
              "      <td>...</td>\n",
              "      <td>...</td>\n",
              "      <td>...</td>\n",
              "      <td>...</td>\n",
              "      <td>...</td>\n",
              "      <td>...</td>\n",
              "      <td>...</td>\n",
              "      <td>...</td>\n",
              "      <td>...</td>\n",
              "      <td>...</td>\n",
              "    </tr>\n",
              "    <tr>\n",
              "      <th>US</th>\n",
              "      <td>66.0</td>\n",
              "      <td>NaN</td>\n",
              "      <td>Guam</td>\n",
              "      <td>2020-04-19 23:41:01</td>\n",
              "      <td>13.444300</td>\n",
              "      <td>144.793700</td>\n",
              "      <td>136</td>\n",
              "      <td>5</td>\n",
              "      <td>0</td>\n",
              "      <td>131</td>\n",
              "      <td>Guam, US</td>\n",
              "    </tr>\n",
              "    <tr>\n",
              "      <th>US</th>\n",
              "      <td>69.0</td>\n",
              "      <td>NaN</td>\n",
              "      <td>Northern Mariana Islands</td>\n",
              "      <td>2020-04-19 23:41:01</td>\n",
              "      <td>15.097900</td>\n",
              "      <td>145.673900</td>\n",
              "      <td>14</td>\n",
              "      <td>2</td>\n",
              "      <td>0</td>\n",
              "      <td>12</td>\n",
              "      <td>Northern Mariana Islands, US</td>\n",
              "    </tr>\n",
              "    <tr>\n",
              "      <th>US</th>\n",
              "      <td>72.0</td>\n",
              "      <td>NaN</td>\n",
              "      <td>Puerto Rico</td>\n",
              "      <td>2020-04-19 23:41:01</td>\n",
              "      <td>18.220800</td>\n",
              "      <td>-66.590100</td>\n",
              "      <td>1213</td>\n",
              "      <td>62</td>\n",
              "      <td>0</td>\n",
              "      <td>1151</td>\n",
              "      <td>Puerto Rico, US</td>\n",
              "    </tr>\n",
              "    <tr>\n",
              "      <th>US</th>\n",
              "      <td>NaN</td>\n",
              "      <td>NaN</td>\n",
              "      <td>Recovered</td>\n",
              "      <td>2020-04-19 23:41:01</td>\n",
              "      <td>NaN</td>\n",
              "      <td>NaN</td>\n",
              "      <td>0</td>\n",
              "      <td>0</td>\n",
              "      <td>70337</td>\n",
              "      <td>-70337</td>\n",
              "      <td>Recovered, US</td>\n",
              "    </tr>\n",
              "    <tr>\n",
              "      <th>US</th>\n",
              "      <td>78.0</td>\n",
              "      <td>NaN</td>\n",
              "      <td>Virgin Islands</td>\n",
              "      <td>2020-04-19 23:41:01</td>\n",
              "      <td>18.335800</td>\n",
              "      <td>-64.896300</td>\n",
              "      <td>53</td>\n",
              "      <td>3</td>\n",
              "      <td>0</td>\n",
              "      <td>50</td>\n",
              "      <td>Virgin Islands, US</td>\n",
              "    </tr>\n",
              "  </tbody>\n",
              "</table>\n",
              "<p>2810 rows × 11 columns</p>\n",
              "</div>"
            ],
            "text/plain": [
              "                   FIPS      Admin  ... Active                   Combined_Key\n",
              "Country_Region                      ...                                      \n",
              "US              45001.0  Abbeville  ...     17  Abbeville, South Carolina, US\n",
              "US              22001.0     Acadia  ...    103          Acadia, Louisiana, US\n",
              "US              51001.0   Accomack  ...     42         Accomack, Virginia, US\n",
              "US              16001.0        Ada  ...    588                 Ada, Idaho, US\n",
              "US              19001.0      Adair  ...      1                Adair, Iowa, US\n",
              "...                 ...        ...  ...    ...                            ...\n",
              "US                 66.0        NaN  ...    131                       Guam, US\n",
              "US                 69.0        NaN  ...     12   Northern Mariana Islands, US\n",
              "US                 72.0        NaN  ...   1151                Puerto Rico, US\n",
              "US                  NaN        NaN  ... -70337                  Recovered, US\n",
              "US                 78.0        NaN  ...     50             Virgin Islands, US\n",
              "\n",
              "[2810 rows x 11 columns]"
            ]
          },
          "metadata": {
            "tags": []
          },
          "execution_count": 132
        }
      ]
    },
    {
      "cell_type": "code",
      "metadata": {
        "id": "fEZet7yHhSCJ",
        "outputId": "9b9b03b1-33df-4a4a-9f17-d73aa15a91c8",
        "colab": {
          "base_uri": "https://localhost:8080/",
          "height": 326
        }
      },
      "source": [
        "df_covid.iloc[4:10]"
      ],
      "execution_count": null,
      "outputs": [
        {
          "output_type": "execute_result",
          "data": {
            "text/html": [
              "<div>\n",
              "<style scoped>\n",
              "    .dataframe tbody tr th:only-of-type {\n",
              "        vertical-align: middle;\n",
              "    }\n",
              "\n",
              "    .dataframe tbody tr th {\n",
              "        vertical-align: top;\n",
              "    }\n",
              "\n",
              "    .dataframe thead th {\n",
              "        text-align: right;\n",
              "    }\n",
              "</style>\n",
              "<table border=\"1\" class=\"dataframe\">\n",
              "  <thead>\n",
              "    <tr style=\"text-align: right;\">\n",
              "      <th></th>\n",
              "      <th>Country_Region</th>\n",
              "      <th>FIPS</th>\n",
              "      <th>Admin</th>\n",
              "      <th>Province_State</th>\n",
              "      <th>Last_Update</th>\n",
              "      <th>Lat</th>\n",
              "      <th>Long_</th>\n",
              "      <th>Confirmed</th>\n",
              "      <th>Deaths</th>\n",
              "      <th>Recovered</th>\n",
              "      <th>Active</th>\n",
              "      <th>Combined_Key</th>\n",
              "    </tr>\n",
              "  </thead>\n",
              "  <tbody>\n",
              "    <tr>\n",
              "      <th>4</th>\n",
              "      <td>US</td>\n",
              "      <td>19001.0</td>\n",
              "      <td>Adair</td>\n",
              "      <td>Iowa</td>\n",
              "      <td>2020-04-19 23:41:01</td>\n",
              "      <td>41.330756</td>\n",
              "      <td>-94.471059</td>\n",
              "      <td>1</td>\n",
              "      <td>0</td>\n",
              "      <td>0</td>\n",
              "      <td>1</td>\n",
              "      <td>Adair, Iowa, US</td>\n",
              "    </tr>\n",
              "    <tr>\n",
              "      <th>5</th>\n",
              "      <td>US</td>\n",
              "      <td>21001.0</td>\n",
              "      <td>Adair</td>\n",
              "      <td>Kentucky</td>\n",
              "      <td>2020-04-19 23:41:01</td>\n",
              "      <td>37.104598</td>\n",
              "      <td>-85.281297</td>\n",
              "      <td>53</td>\n",
              "      <td>3</td>\n",
              "      <td>0</td>\n",
              "      <td>50</td>\n",
              "      <td>Adair, Kentucky, US</td>\n",
              "    </tr>\n",
              "    <tr>\n",
              "      <th>6</th>\n",
              "      <td>US</td>\n",
              "      <td>29001.0</td>\n",
              "      <td>Adair</td>\n",
              "      <td>Missouri</td>\n",
              "      <td>2020-04-19 23:41:01</td>\n",
              "      <td>40.190586</td>\n",
              "      <td>-92.600782</td>\n",
              "      <td>12</td>\n",
              "      <td>0</td>\n",
              "      <td>0</td>\n",
              "      <td>12</td>\n",
              "      <td>Adair, Missouri, US</td>\n",
              "    </tr>\n",
              "    <tr>\n",
              "      <th>7</th>\n",
              "      <td>US</td>\n",
              "      <td>40001.0</td>\n",
              "      <td>Adair</td>\n",
              "      <td>Oklahoma</td>\n",
              "      <td>2020-04-19 23:41:01</td>\n",
              "      <td>35.884942</td>\n",
              "      <td>-94.658593</td>\n",
              "      <td>43</td>\n",
              "      <td>3</td>\n",
              "      <td>0</td>\n",
              "      <td>40</td>\n",
              "      <td>Adair, Oklahoma, US</td>\n",
              "    </tr>\n",
              "    <tr>\n",
              "      <th>8</th>\n",
              "      <td>US</td>\n",
              "      <td>8001.0</td>\n",
              "      <td>Adams</td>\n",
              "      <td>Colorado</td>\n",
              "      <td>2020-04-19 23:41:01</td>\n",
              "      <td>39.874321</td>\n",
              "      <td>-104.336258</td>\n",
              "      <td>915</td>\n",
              "      <td>35</td>\n",
              "      <td>0</td>\n",
              "      <td>880</td>\n",
              "      <td>Adams, Colorado, US</td>\n",
              "    </tr>\n",
              "    <tr>\n",
              "      <th>9</th>\n",
              "      <td>US</td>\n",
              "      <td>16003.0</td>\n",
              "      <td>Adams</td>\n",
              "      <td>Idaho</td>\n",
              "      <td>2020-04-19 23:41:01</td>\n",
              "      <td>44.893336</td>\n",
              "      <td>-116.454525</td>\n",
              "      <td>1</td>\n",
              "      <td>0</td>\n",
              "      <td>0</td>\n",
              "      <td>1</td>\n",
              "      <td>Adams, Idaho, US</td>\n",
              "    </tr>\n",
              "  </tbody>\n",
              "</table>\n",
              "</div>"
            ],
            "text/plain": [
              "  Country_Region     FIPS  Admin  ... Recovered Active         Combined_Key\n",
              "4             US  19001.0  Adair  ...         0      1      Adair, Iowa, US\n",
              "5             US  21001.0  Adair  ...         0     50  Adair, Kentucky, US\n",
              "6             US  29001.0  Adair  ...         0     12  Adair, Missouri, US\n",
              "7             US  40001.0  Adair  ...         0     40  Adair, Oklahoma, US\n",
              "8             US   8001.0  Adams  ...         0    880  Adams, Colorado, US\n",
              "9             US  16003.0  Adams  ...         0      1     Adams, Idaho, US\n",
              "\n",
              "[6 rows x 12 columns]"
            ]
          },
          "metadata": {
            "tags": []
          },
          "execution_count": 136
        }
      ]
    },
    {
      "cell_type": "code",
      "metadata": {
        "id": "3cJkmmfqK4vg",
        "outputId": "f85e740f-7e55-45d2-a2d2-ed765e07a98a",
        "colab": {
          "base_uri": "https://localhost:8080/",
          "height": 431
        }
      },
      "source": [
        "#loc et iloc peuvent prendre plusieurs dimensions entre crochets\n",
        "#df.loc[nom_index, colonne] loc et iloc peuvent prendre plusieurs dimensions\n",
        "\n",
        "df_covid.set_index('Country_Region').loc['US',['Active','Deaths']]"
      ],
      "execution_count": null,
      "outputs": [
        {
          "output_type": "execute_result",
          "data": {
            "text/html": [
              "<div>\n",
              "<style scoped>\n",
              "    .dataframe tbody tr th:only-of-type {\n",
              "        vertical-align: middle;\n",
              "    }\n",
              "\n",
              "    .dataframe tbody tr th {\n",
              "        vertical-align: top;\n",
              "    }\n",
              "\n",
              "    .dataframe thead th {\n",
              "        text-align: right;\n",
              "    }\n",
              "</style>\n",
              "<table border=\"1\" class=\"dataframe\">\n",
              "  <thead>\n",
              "    <tr style=\"text-align: right;\">\n",
              "      <th></th>\n",
              "      <th>Active</th>\n",
              "      <th>Deaths</th>\n",
              "    </tr>\n",
              "    <tr>\n",
              "      <th>Country_Region</th>\n",
              "      <th></th>\n",
              "      <th></th>\n",
              "    </tr>\n",
              "  </thead>\n",
              "  <tbody>\n",
              "    <tr>\n",
              "      <th>US</th>\n",
              "      <td>17</td>\n",
              "      <td>0</td>\n",
              "    </tr>\n",
              "    <tr>\n",
              "      <th>US</th>\n",
              "      <td>103</td>\n",
              "      <td>7</td>\n",
              "    </tr>\n",
              "    <tr>\n",
              "      <th>US</th>\n",
              "      <td>42</td>\n",
              "      <td>0</td>\n",
              "    </tr>\n",
              "    <tr>\n",
              "      <th>US</th>\n",
              "      <td>588</td>\n",
              "      <td>10</td>\n",
              "    </tr>\n",
              "    <tr>\n",
              "      <th>US</th>\n",
              "      <td>1</td>\n",
              "      <td>0</td>\n",
              "    </tr>\n",
              "    <tr>\n",
              "      <th>...</th>\n",
              "      <td>...</td>\n",
              "      <td>...</td>\n",
              "    </tr>\n",
              "    <tr>\n",
              "      <th>US</th>\n",
              "      <td>131</td>\n",
              "      <td>5</td>\n",
              "    </tr>\n",
              "    <tr>\n",
              "      <th>US</th>\n",
              "      <td>12</td>\n",
              "      <td>2</td>\n",
              "    </tr>\n",
              "    <tr>\n",
              "      <th>US</th>\n",
              "      <td>1151</td>\n",
              "      <td>62</td>\n",
              "    </tr>\n",
              "    <tr>\n",
              "      <th>US</th>\n",
              "      <td>-70337</td>\n",
              "      <td>0</td>\n",
              "    </tr>\n",
              "    <tr>\n",
              "      <th>US</th>\n",
              "      <td>50</td>\n",
              "      <td>3</td>\n",
              "    </tr>\n",
              "  </tbody>\n",
              "</table>\n",
              "<p>2810 rows × 2 columns</p>\n",
              "</div>"
            ],
            "text/plain": [
              "                Active  Deaths\n",
              "Country_Region                \n",
              "US                  17       0\n",
              "US                 103       7\n",
              "US                  42       0\n",
              "US                 588      10\n",
              "US                   1       0\n",
              "...                ...     ...\n",
              "US                 131       5\n",
              "US                  12       2\n",
              "US                1151      62\n",
              "US              -70337       0\n",
              "US                  50       3\n",
              "\n",
              "[2810 rows x 2 columns]"
            ]
          },
          "metadata": {
            "tags": []
          },
          "execution_count": 140
        }
      ]
    },
    {
      "cell_type": "code",
      "metadata": {
        "id": "xOM-VXKNJ1nl",
        "outputId": "db7bc8bd-eb9c-4165-8dca-71124fcd68cc",
        "colab": {
          "base_uri": "https://localhost:8080/",
          "height": 402
        }
      },
      "source": [
        "#modifier les données\n",
        "#df.insert(position, nom_colonne, valeurs) insérer une colonne\n",
        "\n",
        "df_covid[['Recovered','Active','Deaths']]"
      ],
      "execution_count": null,
      "outputs": [
        {
          "output_type": "execute_result",
          "data": {
            "text/html": [
              "<div>\n",
              "<style scoped>\n",
              "    .dataframe tbody tr th:only-of-type {\n",
              "        vertical-align: middle;\n",
              "    }\n",
              "\n",
              "    .dataframe tbody tr th {\n",
              "        vertical-align: top;\n",
              "    }\n",
              "\n",
              "    .dataframe thead th {\n",
              "        text-align: right;\n",
              "    }\n",
              "</style>\n",
              "<table border=\"1\" class=\"dataframe\">\n",
              "  <thead>\n",
              "    <tr style=\"text-align: right;\">\n",
              "      <th></th>\n",
              "      <th>Recovered</th>\n",
              "      <th>Active</th>\n",
              "      <th>Deaths</th>\n",
              "    </tr>\n",
              "  </thead>\n",
              "  <tbody>\n",
              "    <tr>\n",
              "      <th>0</th>\n",
              "      <td>0</td>\n",
              "      <td>17</td>\n",
              "      <td>0</td>\n",
              "    </tr>\n",
              "    <tr>\n",
              "      <th>1</th>\n",
              "      <td>0</td>\n",
              "      <td>103</td>\n",
              "      <td>7</td>\n",
              "    </tr>\n",
              "    <tr>\n",
              "      <th>2</th>\n",
              "      <td>0</td>\n",
              "      <td>42</td>\n",
              "      <td>0</td>\n",
              "    </tr>\n",
              "    <tr>\n",
              "      <th>3</th>\n",
              "      <td>0</td>\n",
              "      <td>588</td>\n",
              "      <td>10</td>\n",
              "    </tr>\n",
              "    <tr>\n",
              "      <th>4</th>\n",
              "      <td>0</td>\n",
              "      <td>1</td>\n",
              "      <td>0</td>\n",
              "    </tr>\n",
              "    <tr>\n",
              "      <th>...</th>\n",
              "      <td>...</td>\n",
              "      <td>...</td>\n",
              "      <td>...</td>\n",
              "    </tr>\n",
              "    <tr>\n",
              "      <th>3067</th>\n",
              "      <td>71</td>\n",
              "      <td>363</td>\n",
              "      <td>3</td>\n",
              "    </tr>\n",
              "    <tr>\n",
              "      <th>3068</th>\n",
              "      <td>0</td>\n",
              "      <td>6</td>\n",
              "      <td>0</td>\n",
              "    </tr>\n",
              "    <tr>\n",
              "      <th>3069</th>\n",
              "      <td>0</td>\n",
              "      <td>1</td>\n",
              "      <td>0</td>\n",
              "    </tr>\n",
              "    <tr>\n",
              "      <th>3070</th>\n",
              "      <td>33</td>\n",
              "      <td>25</td>\n",
              "      <td>3</td>\n",
              "    </tr>\n",
              "    <tr>\n",
              "      <th>3071</th>\n",
              "      <td>2</td>\n",
              "      <td>20</td>\n",
              "      <td>3</td>\n",
              "    </tr>\n",
              "  </tbody>\n",
              "</table>\n",
              "<p>3072 rows × 3 columns</p>\n",
              "</div>"
            ],
            "text/plain": [
              "      Recovered  Active  Deaths\n",
              "0             0      17       0\n",
              "1             0     103       7\n",
              "2             0      42       0\n",
              "3             0     588      10\n",
              "4             0       1       0\n",
              "...         ...     ...     ...\n",
              "3067         71     363       3\n",
              "3068          0       6       0\n",
              "3069          0       1       0\n",
              "3070         33      25       3\n",
              "3071          2      20       3\n",
              "\n",
              "[3072 rows x 3 columns]"
            ]
          },
          "metadata": {
            "tags": []
          },
          "execution_count": 142
        }
      ]
    },
    {
      "cell_type": "code",
      "metadata": {
        "id": "ekjsVVdBiBDO",
        "outputId": "6f80a374-a51c-48db-ea60-46410fd834ec",
        "colab": {
          "base_uri": "https://localhost:8080/",
          "height": 606
        }
      },
      "source": [
        "df_covid['sum_all_cases'] = df_covid['Recovered']+df_covid['Active']+df_covid['Deaths']\n",
        "df_covid"
      ],
      "execution_count": null,
      "outputs": [
        {
          "output_type": "execute_result",
          "data": {
            "text/html": [
              "<div>\n",
              "<style scoped>\n",
              "    .dataframe tbody tr th:only-of-type {\n",
              "        vertical-align: middle;\n",
              "    }\n",
              "\n",
              "    .dataframe tbody tr th {\n",
              "        vertical-align: top;\n",
              "    }\n",
              "\n",
              "    .dataframe thead th {\n",
              "        text-align: right;\n",
              "    }\n",
              "</style>\n",
              "<table border=\"1\" class=\"dataframe\">\n",
              "  <thead>\n",
              "    <tr style=\"text-align: right;\">\n",
              "      <th></th>\n",
              "      <th>Country_Region</th>\n",
              "      <th>FIPS</th>\n",
              "      <th>Admin</th>\n",
              "      <th>Province_State</th>\n",
              "      <th>Last_Update</th>\n",
              "      <th>Lat</th>\n",
              "      <th>Long_</th>\n",
              "      <th>Confirmed</th>\n",
              "      <th>Deaths</th>\n",
              "      <th>Recovered</th>\n",
              "      <th>Active</th>\n",
              "      <th>Combined_Key</th>\n",
              "      <th>sum_all_cases</th>\n",
              "    </tr>\n",
              "  </thead>\n",
              "  <tbody>\n",
              "    <tr>\n",
              "      <th>0</th>\n",
              "      <td>US</td>\n",
              "      <td>45001.0</td>\n",
              "      <td>Abbeville</td>\n",
              "      <td>South Carolina</td>\n",
              "      <td>2020-04-19 23:41:01</td>\n",
              "      <td>34.223334</td>\n",
              "      <td>-82.461707</td>\n",
              "      <td>17</td>\n",
              "      <td>0</td>\n",
              "      <td>0</td>\n",
              "      <td>17</td>\n",
              "      <td>Abbeville, South Carolina, US</td>\n",
              "      <td>17</td>\n",
              "    </tr>\n",
              "    <tr>\n",
              "      <th>1</th>\n",
              "      <td>US</td>\n",
              "      <td>22001.0</td>\n",
              "      <td>Acadia</td>\n",
              "      <td>Louisiana</td>\n",
              "      <td>2020-04-19 23:41:01</td>\n",
              "      <td>30.295065</td>\n",
              "      <td>-92.414197</td>\n",
              "      <td>110</td>\n",
              "      <td>7</td>\n",
              "      <td>0</td>\n",
              "      <td>103</td>\n",
              "      <td>Acadia, Louisiana, US</td>\n",
              "      <td>110</td>\n",
              "    </tr>\n",
              "    <tr>\n",
              "      <th>2</th>\n",
              "      <td>US</td>\n",
              "      <td>51001.0</td>\n",
              "      <td>Accomack</td>\n",
              "      <td>Virginia</td>\n",
              "      <td>2020-04-19 23:41:01</td>\n",
              "      <td>37.767072</td>\n",
              "      <td>-75.632346</td>\n",
              "      <td>42</td>\n",
              "      <td>0</td>\n",
              "      <td>0</td>\n",
              "      <td>42</td>\n",
              "      <td>Accomack, Virginia, US</td>\n",
              "      <td>42</td>\n",
              "    </tr>\n",
              "    <tr>\n",
              "      <th>3</th>\n",
              "      <td>US</td>\n",
              "      <td>16001.0</td>\n",
              "      <td>Ada</td>\n",
              "      <td>Idaho</td>\n",
              "      <td>2020-04-19 23:41:01</td>\n",
              "      <td>43.452658</td>\n",
              "      <td>-116.241552</td>\n",
              "      <td>598</td>\n",
              "      <td>10</td>\n",
              "      <td>0</td>\n",
              "      <td>588</td>\n",
              "      <td>Ada, Idaho, US</td>\n",
              "      <td>598</td>\n",
              "    </tr>\n",
              "    <tr>\n",
              "      <th>4</th>\n",
              "      <td>US</td>\n",
              "      <td>19001.0</td>\n",
              "      <td>Adair</td>\n",
              "      <td>Iowa</td>\n",
              "      <td>2020-04-19 23:41:01</td>\n",
              "      <td>41.330756</td>\n",
              "      <td>-94.471059</td>\n",
              "      <td>1</td>\n",
              "      <td>0</td>\n",
              "      <td>0</td>\n",
              "      <td>1</td>\n",
              "      <td>Adair, Iowa, US</td>\n",
              "      <td>1</td>\n",
              "    </tr>\n",
              "    <tr>\n",
              "      <th>...</th>\n",
              "      <td>...</td>\n",
              "      <td>...</td>\n",
              "      <td>...</td>\n",
              "      <td>...</td>\n",
              "      <td>...</td>\n",
              "      <td>...</td>\n",
              "      <td>...</td>\n",
              "      <td>...</td>\n",
              "      <td>...</td>\n",
              "      <td>...</td>\n",
              "      <td>...</td>\n",
              "      <td>...</td>\n",
              "      <td>...</td>\n",
              "    </tr>\n",
              "    <tr>\n",
              "      <th>3067</th>\n",
              "      <td>West Bank and Gaza</td>\n",
              "      <td>NaN</td>\n",
              "      <td>NaN</td>\n",
              "      <td>NaN</td>\n",
              "      <td>2020-04-19 23:40:41</td>\n",
              "      <td>31.952200</td>\n",
              "      <td>35.233200</td>\n",
              "      <td>437</td>\n",
              "      <td>3</td>\n",
              "      <td>71</td>\n",
              "      <td>363</td>\n",
              "      <td>West Bank and Gaza</td>\n",
              "      <td>437</td>\n",
              "    </tr>\n",
              "    <tr>\n",
              "      <th>3068</th>\n",
              "      <td>Western Sahara</td>\n",
              "      <td>NaN</td>\n",
              "      <td>NaN</td>\n",
              "      <td>NaN</td>\n",
              "      <td>2020-04-19 23:40:41</td>\n",
              "      <td>24.215500</td>\n",
              "      <td>-12.885800</td>\n",
              "      <td>6</td>\n",
              "      <td>0</td>\n",
              "      <td>0</td>\n",
              "      <td>6</td>\n",
              "      <td>Western Sahara</td>\n",
              "      <td>6</td>\n",
              "    </tr>\n",
              "    <tr>\n",
              "      <th>3069</th>\n",
              "      <td>Yemen</td>\n",
              "      <td>NaN</td>\n",
              "      <td>NaN</td>\n",
              "      <td>NaN</td>\n",
              "      <td>2020-04-19 23:40:41</td>\n",
              "      <td>15.552727</td>\n",
              "      <td>48.516388</td>\n",
              "      <td>1</td>\n",
              "      <td>0</td>\n",
              "      <td>0</td>\n",
              "      <td>1</td>\n",
              "      <td>Yemen</td>\n",
              "      <td>1</td>\n",
              "    </tr>\n",
              "    <tr>\n",
              "      <th>3070</th>\n",
              "      <td>Zambia</td>\n",
              "      <td>NaN</td>\n",
              "      <td>NaN</td>\n",
              "      <td>NaN</td>\n",
              "      <td>2020-04-19 23:40:41</td>\n",
              "      <td>-13.133897</td>\n",
              "      <td>27.849332</td>\n",
              "      <td>61</td>\n",
              "      <td>3</td>\n",
              "      <td>33</td>\n",
              "      <td>25</td>\n",
              "      <td>Zambia</td>\n",
              "      <td>61</td>\n",
              "    </tr>\n",
              "    <tr>\n",
              "      <th>3071</th>\n",
              "      <td>Zimbabwe</td>\n",
              "      <td>NaN</td>\n",
              "      <td>NaN</td>\n",
              "      <td>NaN</td>\n",
              "      <td>2020-04-19 23:40:41</td>\n",
              "      <td>-19.015438</td>\n",
              "      <td>29.154857</td>\n",
              "      <td>25</td>\n",
              "      <td>3</td>\n",
              "      <td>2</td>\n",
              "      <td>20</td>\n",
              "      <td>Zimbabwe</td>\n",
              "      <td>25</td>\n",
              "    </tr>\n",
              "  </tbody>\n",
              "</table>\n",
              "<p>3072 rows × 13 columns</p>\n",
              "</div>"
            ],
            "text/plain": [
              "          Country_Region     FIPS  ...                   Combined_Key sum_all_cases\n",
              "0                     US  45001.0  ...  Abbeville, South Carolina, US            17\n",
              "1                     US  22001.0  ...          Acadia, Louisiana, US           110\n",
              "2                     US  51001.0  ...         Accomack, Virginia, US            42\n",
              "3                     US  16001.0  ...                 Ada, Idaho, US           598\n",
              "4                     US  19001.0  ...                Adair, Iowa, US             1\n",
              "...                  ...      ...  ...                            ...           ...\n",
              "3067  West Bank and Gaza      NaN  ...             West Bank and Gaza           437\n",
              "3068      Western Sahara      NaN  ...                 Western Sahara             6\n",
              "3069               Yemen      NaN  ...                          Yemen             1\n",
              "3070              Zambia      NaN  ...                         Zambia            61\n",
              "3071            Zimbabwe      NaN  ...                       Zimbabwe            25\n",
              "\n",
              "[3072 rows x 13 columns]"
            ]
          },
          "metadata": {
            "tags": []
          },
          "execution_count": 146
        }
      ]
    },
    {
      "cell_type": "code",
      "metadata": {
        "id": "lsNrKBz6iUwE"
      },
      "source": [
        "df_covid.insert(2, 'sum_all_cases2',  df_covid['Recovered']+df_covid['Active']+df_covid['Deaths'])"
      ],
      "execution_count": null,
      "outputs": []
    },
    {
      "cell_type": "code",
      "metadata": {
        "id": "lpMXGCTKiere",
        "outputId": "77260020-b585-4fd2-9051-7fffa5f029fc",
        "colab": {
          "base_uri": "https://localhost:8080/",
          "height": 316
        }
      },
      "source": [
        "df_covid.head()"
      ],
      "execution_count": null,
      "outputs": [
        {
          "output_type": "execute_result",
          "data": {
            "text/html": [
              "<div>\n",
              "<style scoped>\n",
              "    .dataframe tbody tr th:only-of-type {\n",
              "        vertical-align: middle;\n",
              "    }\n",
              "\n",
              "    .dataframe tbody tr th {\n",
              "        vertical-align: top;\n",
              "    }\n",
              "\n",
              "    .dataframe thead th {\n",
              "        text-align: right;\n",
              "    }\n",
              "</style>\n",
              "<table border=\"1\" class=\"dataframe\">\n",
              "  <thead>\n",
              "    <tr style=\"text-align: right;\">\n",
              "      <th></th>\n",
              "      <th>Country_Region</th>\n",
              "      <th>FIPS</th>\n",
              "      <th>sum_all_cases2</th>\n",
              "      <th>Admin</th>\n",
              "      <th>Province_State</th>\n",
              "      <th>Last_Update</th>\n",
              "      <th>Lat</th>\n",
              "      <th>Long_</th>\n",
              "      <th>Confirmed</th>\n",
              "      <th>Deaths</th>\n",
              "      <th>Recovered</th>\n",
              "      <th>Active</th>\n",
              "      <th>Combined_Key</th>\n",
              "      <th>sum_all_cases</th>\n",
              "    </tr>\n",
              "  </thead>\n",
              "  <tbody>\n",
              "    <tr>\n",
              "      <th>0</th>\n",
              "      <td>US</td>\n",
              "      <td>45001.0</td>\n",
              "      <td>17</td>\n",
              "      <td>Abbeville</td>\n",
              "      <td>South Carolina</td>\n",
              "      <td>2020-04-19 23:41:01</td>\n",
              "      <td>34.223334</td>\n",
              "      <td>-82.461707</td>\n",
              "      <td>17</td>\n",
              "      <td>0</td>\n",
              "      <td>0</td>\n",
              "      <td>17</td>\n",
              "      <td>Abbeville, South Carolina, US</td>\n",
              "      <td>17</td>\n",
              "    </tr>\n",
              "    <tr>\n",
              "      <th>1</th>\n",
              "      <td>US</td>\n",
              "      <td>22001.0</td>\n",
              "      <td>110</td>\n",
              "      <td>Acadia</td>\n",
              "      <td>Louisiana</td>\n",
              "      <td>2020-04-19 23:41:01</td>\n",
              "      <td>30.295065</td>\n",
              "      <td>-92.414197</td>\n",
              "      <td>110</td>\n",
              "      <td>7</td>\n",
              "      <td>0</td>\n",
              "      <td>103</td>\n",
              "      <td>Acadia, Louisiana, US</td>\n",
              "      <td>110</td>\n",
              "    </tr>\n",
              "    <tr>\n",
              "      <th>2</th>\n",
              "      <td>US</td>\n",
              "      <td>51001.0</td>\n",
              "      <td>42</td>\n",
              "      <td>Accomack</td>\n",
              "      <td>Virginia</td>\n",
              "      <td>2020-04-19 23:41:01</td>\n",
              "      <td>37.767072</td>\n",
              "      <td>-75.632346</td>\n",
              "      <td>42</td>\n",
              "      <td>0</td>\n",
              "      <td>0</td>\n",
              "      <td>42</td>\n",
              "      <td>Accomack, Virginia, US</td>\n",
              "      <td>42</td>\n",
              "    </tr>\n",
              "    <tr>\n",
              "      <th>3</th>\n",
              "      <td>US</td>\n",
              "      <td>16001.0</td>\n",
              "      <td>598</td>\n",
              "      <td>Ada</td>\n",
              "      <td>Idaho</td>\n",
              "      <td>2020-04-19 23:41:01</td>\n",
              "      <td>43.452658</td>\n",
              "      <td>-116.241552</td>\n",
              "      <td>598</td>\n",
              "      <td>10</td>\n",
              "      <td>0</td>\n",
              "      <td>588</td>\n",
              "      <td>Ada, Idaho, US</td>\n",
              "      <td>598</td>\n",
              "    </tr>\n",
              "    <tr>\n",
              "      <th>4</th>\n",
              "      <td>US</td>\n",
              "      <td>19001.0</td>\n",
              "      <td>1</td>\n",
              "      <td>Adair</td>\n",
              "      <td>Iowa</td>\n",
              "      <td>2020-04-19 23:41:01</td>\n",
              "      <td>41.330756</td>\n",
              "      <td>-94.471059</td>\n",
              "      <td>1</td>\n",
              "      <td>0</td>\n",
              "      <td>0</td>\n",
              "      <td>1</td>\n",
              "      <td>Adair, Iowa, US</td>\n",
              "      <td>1</td>\n",
              "    </tr>\n",
              "  </tbody>\n",
              "</table>\n",
              "</div>"
            ],
            "text/plain": [
              "  Country_Region     FIPS  ...                   Combined_Key sum_all_cases\n",
              "0             US  45001.0  ...  Abbeville, South Carolina, US            17\n",
              "1             US  22001.0  ...          Acadia, Louisiana, US           110\n",
              "2             US  51001.0  ...         Accomack, Virginia, US            42\n",
              "3             US  16001.0  ...                 Ada, Idaho, US           598\n",
              "4             US  19001.0  ...                Adair, Iowa, US             1\n",
              "\n",
              "[5 rows x 14 columns]"
            ]
          },
          "metadata": {
            "tags": []
          },
          "execution_count": 149
        }
      ]
    },
    {
      "cell_type": "code",
      "metadata": {
        "id": "xKhoo1PZ_ePO",
        "outputId": "5249b0a0-9dbb-4376-c60c-789cec1fa290",
        "colab": {
          "base_uri": "https://localhost:8080/",
          "height": 386
        }
      },
      "source": [
        "#fonctions utiles df.info(), df.describe(), serie.value_counts()\n",
        "df_covid.info()"
      ],
      "execution_count": null,
      "outputs": [
        {
          "output_type": "stream",
          "text": [
            "<class 'pandas.core.frame.DataFrame'>\n",
            "RangeIndex: 3072 entries, 0 to 3071\n",
            "Data columns (total 14 columns):\n",
            " #   Column          Non-Null Count  Dtype  \n",
            "---  ------          --------------  -----  \n",
            " 0   Country_Region  3072 non-null   object \n",
            " 1   FIPS            2799 non-null   float64\n",
            " 2   sum_all_cases2  3072 non-null   int64  \n",
            " 3   Admin           2803 non-null   object \n",
            " 4   Province_State  2891 non-null   object \n",
            " 5   Last_Update     3072 non-null   object \n",
            " 6   Lat             3012 non-null   float64\n",
            " 7   Long_           3012 non-null   float64\n",
            " 8   Confirmed       3072 non-null   int64  \n",
            " 9   Deaths          3072 non-null   int64  \n",
            " 10  Recovered       3072 non-null   int64  \n",
            " 11  Active          3072 non-null   int64  \n",
            " 12  Combined_Key    3072 non-null   object \n",
            " 13  sum_all_cases   3072 non-null   int64  \n",
            "dtypes: float64(3), int64(6), object(5)\n",
            "memory usage: 336.1+ KB\n"
          ],
          "name": "stdout"
        }
      ]
    },
    {
      "cell_type": "code",
      "metadata": {
        "id": "00P5ecBSij0J",
        "outputId": "bc59bcb8-f64f-495b-aad4-8b3e2c57e3ee",
        "colab": {
          "base_uri": "https://localhost:8080/",
          "height": 284
        }
      },
      "source": [
        "df_covid.describe()"
      ],
      "execution_count": null,
      "outputs": [
        {
          "output_type": "execute_result",
          "data": {
            "text/html": [
              "<div>\n",
              "<style scoped>\n",
              "    .dataframe tbody tr th:only-of-type {\n",
              "        vertical-align: middle;\n",
              "    }\n",
              "\n",
              "    .dataframe tbody tr th {\n",
              "        vertical-align: top;\n",
              "    }\n",
              "\n",
              "    .dataframe thead th {\n",
              "        text-align: right;\n",
              "    }\n",
              "</style>\n",
              "<table border=\"1\" class=\"dataframe\">\n",
              "  <thead>\n",
              "    <tr style=\"text-align: right;\">\n",
              "      <th></th>\n",
              "      <th>FIPS</th>\n",
              "      <th>sum_all_cases2</th>\n",
              "      <th>Lat</th>\n",
              "      <th>Long_</th>\n",
              "      <th>Confirmed</th>\n",
              "      <th>Deaths</th>\n",
              "      <th>Recovered</th>\n",
              "      <th>Active</th>\n",
              "      <th>sum_all_cases</th>\n",
              "    </tr>\n",
              "  </thead>\n",
              "  <tbody>\n",
              "    <tr>\n",
              "      <th>count</th>\n",
              "      <td>2799.000000</td>\n",
              "      <td>3072.000000</td>\n",
              "      <td>3012.000000</td>\n",
              "      <td>3012.000000</td>\n",
              "      <td>3072.000000</td>\n",
              "      <td>3072.00000</td>\n",
              "      <td>3072.000000</td>\n",
              "      <td>3072.000000</td>\n",
              "      <td>3072.000000</td>\n",
              "    </tr>\n",
              "    <tr>\n",
              "      <th>mean</th>\n",
              "      <td>31226.101108</td>\n",
              "      <td>781.698893</td>\n",
              "      <td>36.686152</td>\n",
              "      <td>-81.112732</td>\n",
              "      <td>781.698893</td>\n",
              "      <td>53.72526</td>\n",
              "      <td>203.093424</td>\n",
              "      <td>524.880208</td>\n",
              "      <td>781.698893</td>\n",
              "    </tr>\n",
              "    <tr>\n",
              "      <th>std</th>\n",
              "      <td>17232.001408</td>\n",
              "      <td>7692.970841</td>\n",
              "      <td>9.896479</td>\n",
              "      <td>40.068401</td>\n",
              "      <td>7692.970841</td>\n",
              "      <td>800.27705</td>\n",
              "      <td>3172.751726</td>\n",
              "      <td>5105.785182</td>\n",
              "      <td>7692.970841</td>\n",
              "    </tr>\n",
              "    <tr>\n",
              "      <th>min</th>\n",
              "      <td>66.000000</td>\n",
              "      <td>0.000000</td>\n",
              "      <td>-51.796300</td>\n",
              "      <td>-164.035380</td>\n",
              "      <td>0.000000</td>\n",
              "      <td>0.00000</td>\n",
              "      <td>0.000000</td>\n",
              "      <td>-70337.000000</td>\n",
              "      <td>0.000000</td>\n",
              "    </tr>\n",
              "    <tr>\n",
              "      <th>25%</th>\n",
              "      <td>18108.000000</td>\n",
              "      <td>5.000000</td>\n",
              "      <td>33.792131</td>\n",
              "      <td>-95.855371</td>\n",
              "      <td>5.000000</td>\n",
              "      <td>0.00000</td>\n",
              "      <td>0.000000</td>\n",
              "      <td>4.000000</td>\n",
              "      <td>5.000000</td>\n",
              "    </tr>\n",
              "    <tr>\n",
              "      <th>50%</th>\n",
              "      <td>29123.000000</td>\n",
              "      <td>18.000000</td>\n",
              "      <td>37.852768</td>\n",
              "      <td>-87.668073</td>\n",
              "      <td>18.000000</td>\n",
              "      <td>0.00000</td>\n",
              "      <td>0.000000</td>\n",
              "      <td>17.000000</td>\n",
              "      <td>18.000000</td>\n",
              "    </tr>\n",
              "    <tr>\n",
              "      <th>75%</th>\n",
              "      <td>46061.000000</td>\n",
              "      <td>90.000000</td>\n",
              "      <td>41.522840</td>\n",
              "      <td>-81.137840</td>\n",
              "      <td>90.000000</td>\n",
              "      <td>3.00000</td>\n",
              "      <td>0.000000</td>\n",
              "      <td>78.000000</td>\n",
              "      <td>90.000000</td>\n",
              "    </tr>\n",
              "    <tr>\n",
              "      <th>max</th>\n",
              "      <td>99999.000000</td>\n",
              "      <td>198674.000000</td>\n",
              "      <td>71.706900</td>\n",
              "      <td>178.065000</td>\n",
              "      <td>198674.000000</td>\n",
              "      <td>23660.00000</td>\n",
              "      <td>88000.000000</td>\n",
              "      <td>124249.000000</td>\n",
              "      <td>198674.000000</td>\n",
              "    </tr>\n",
              "  </tbody>\n",
              "</table>\n",
              "</div>"
            ],
            "text/plain": [
              "               FIPS  sum_all_cases2  ...         Active  sum_all_cases\n",
              "count   2799.000000     3072.000000  ...    3072.000000    3072.000000\n",
              "mean   31226.101108      781.698893  ...     524.880208     781.698893\n",
              "std    17232.001408     7692.970841  ...    5105.785182    7692.970841\n",
              "min       66.000000        0.000000  ...  -70337.000000       0.000000\n",
              "25%    18108.000000        5.000000  ...       4.000000       5.000000\n",
              "50%    29123.000000       18.000000  ...      17.000000      18.000000\n",
              "75%    46061.000000       90.000000  ...      78.000000      90.000000\n",
              "max    99999.000000   198674.000000  ...  124249.000000  198674.000000\n",
              "\n",
              "[8 rows x 9 columns]"
            ]
          },
          "metadata": {
            "tags": []
          },
          "execution_count": 152
        }
      ]
    },
    {
      "cell_type": "code",
      "metadata": {
        "id": "L7UOygHui-BM",
        "outputId": "ec647ca1-da1b-4454-bacb-2556777f8b3f",
        "colab": {
          "base_uri": "https://localhost:8080/",
          "height": 228
        }
      },
      "source": [
        "df_covid['Country_Region'].value_counts()"
      ],
      "execution_count": null,
      "outputs": [
        {
          "output_type": "execute_result",
          "data": {
            "text/plain": [
              "US                       2810\n",
              "China                      33\n",
              "Canada                     14\n",
              "United Kingdom             11\n",
              "France                     11\n",
              "                         ... \n",
              "Bangladesh                  1\n",
              "Malta                       1\n",
              "Sao Tome and Principe       1\n",
              "Italy                       1\n",
              "Afghanistan                 1\n",
              "Name: Country_Region, Length: 185, dtype: int64"
            ]
          },
          "metadata": {
            "tags": []
          },
          "execution_count": 155
        }
      ]
    },
    {
      "cell_type": "code",
      "metadata": {
        "id": "MYNqXMrqjRQD",
        "outputId": "1eda184c-83e1-4ba6-e1b5-45eb382e581a",
        "colab": {
          "base_uri": "https://localhost:8080/",
          "height": 645
        }
      },
      "source": [
        "df_covid[df_covid['Country_Region']=='France']"
      ],
      "execution_count": null,
      "outputs": [
        {
          "output_type": "execute_result",
          "data": {
            "text/html": [
              "<div>\n",
              "<style scoped>\n",
              "    .dataframe tbody tr th:only-of-type {\n",
              "        vertical-align: middle;\n",
              "    }\n",
              "\n",
              "    .dataframe tbody tr th {\n",
              "        vertical-align: top;\n",
              "    }\n",
              "\n",
              "    .dataframe thead th {\n",
              "        text-align: right;\n",
              "    }\n",
              "</style>\n",
              "<table border=\"1\" class=\"dataframe\">\n",
              "  <thead>\n",
              "    <tr style=\"text-align: right;\">\n",
              "      <th></th>\n",
              "      <th>Country_Region</th>\n",
              "      <th>FIPS</th>\n",
              "      <th>sum_all_cases2</th>\n",
              "      <th>Admin</th>\n",
              "      <th>Province_State</th>\n",
              "      <th>Last_Update</th>\n",
              "      <th>Lat</th>\n",
              "      <th>Long_</th>\n",
              "      <th>Confirmed</th>\n",
              "      <th>Deaths</th>\n",
              "      <th>Recovered</th>\n",
              "      <th>Active</th>\n",
              "      <th>Combined_Key</th>\n",
              "      <th>sum_all_cases</th>\n",
              "    </tr>\n",
              "  </thead>\n",
              "  <tbody>\n",
              "    <tr>\n",
              "      <th>2820</th>\n",
              "      <td>France</td>\n",
              "      <td>NaN</td>\n",
              "      <td>96</td>\n",
              "      <td>NaN</td>\n",
              "      <td>French Guiana</td>\n",
              "      <td>2020-04-19 23:40:41</td>\n",
              "      <td>4.000000</td>\n",
              "      <td>-53.000000</td>\n",
              "      <td>96</td>\n",
              "      <td>0</td>\n",
              "      <td>64</td>\n",
              "      <td>32</td>\n",
              "      <td>French Guiana, France</td>\n",
              "      <td>96</td>\n",
              "    </tr>\n",
              "    <tr>\n",
              "      <th>2821</th>\n",
              "      <td>France</td>\n",
              "      <td>NaN</td>\n",
              "      <td>55</td>\n",
              "      <td>NaN</td>\n",
              "      <td>French Polynesia</td>\n",
              "      <td>2020-04-19 23:40:41</td>\n",
              "      <td>-17.679700</td>\n",
              "      <td>-149.406800</td>\n",
              "      <td>55</td>\n",
              "      <td>0</td>\n",
              "      <td>2</td>\n",
              "      <td>53</td>\n",
              "      <td>French Polynesia, France</td>\n",
              "      <td>55</td>\n",
              "    </tr>\n",
              "    <tr>\n",
              "      <th>2828</th>\n",
              "      <td>France</td>\n",
              "      <td>NaN</td>\n",
              "      <td>148</td>\n",
              "      <td>NaN</td>\n",
              "      <td>Guadeloupe</td>\n",
              "      <td>2020-04-19 23:40:41</td>\n",
              "      <td>16.265000</td>\n",
              "      <td>-61.551000</td>\n",
              "      <td>148</td>\n",
              "      <td>8</td>\n",
              "      <td>73</td>\n",
              "      <td>67</td>\n",
              "      <td>Guadeloupe, France</td>\n",
              "      <td>148</td>\n",
              "    </tr>\n",
              "    <tr>\n",
              "      <th>2848</th>\n",
              "      <td>France</td>\n",
              "      <td>NaN</td>\n",
              "      <td>163</td>\n",
              "      <td>NaN</td>\n",
              "      <td>Martinique</td>\n",
              "      <td>2020-04-19 23:40:41</td>\n",
              "      <td>14.641500</td>\n",
              "      <td>-61.024200</td>\n",
              "      <td>163</td>\n",
              "      <td>12</td>\n",
              "      <td>73</td>\n",
              "      <td>78</td>\n",
              "      <td>Martinique, France</td>\n",
              "      <td>163</td>\n",
              "    </tr>\n",
              "    <tr>\n",
              "      <th>2849</th>\n",
              "      <td>France</td>\n",
              "      <td>NaN</td>\n",
              "      <td>271</td>\n",
              "      <td>NaN</td>\n",
              "      <td>Mayotte</td>\n",
              "      <td>2020-04-19 23:40:41</td>\n",
              "      <td>-12.827500</td>\n",
              "      <td>45.166244</td>\n",
              "      <td>271</td>\n",
              "      <td>4</td>\n",
              "      <td>117</td>\n",
              "      <td>150</td>\n",
              "      <td>Mayotte, France</td>\n",
              "      <td>271</td>\n",
              "    </tr>\n",
              "    <tr>\n",
              "      <th>2852</th>\n",
              "      <td>France</td>\n",
              "      <td>NaN</td>\n",
              "      <td>18</td>\n",
              "      <td>NaN</td>\n",
              "      <td>New Caledonia</td>\n",
              "      <td>2020-04-19 23:40:41</td>\n",
              "      <td>-20.904305</td>\n",
              "      <td>165.618042</td>\n",
              "      <td>18</td>\n",
              "      <td>0</td>\n",
              "      <td>15</td>\n",
              "      <td>3</td>\n",
              "      <td>New Caledonia, France</td>\n",
              "      <td>18</td>\n",
              "    </tr>\n",
              "    <tr>\n",
              "      <th>2868</th>\n",
              "      <td>France</td>\n",
              "      <td>NaN</td>\n",
              "      <td>408</td>\n",
              "      <td>NaN</td>\n",
              "      <td>Reunion</td>\n",
              "      <td>2020-04-19 23:40:41</td>\n",
              "      <td>-21.115100</td>\n",
              "      <td>55.536400</td>\n",
              "      <td>408</td>\n",
              "      <td>0</td>\n",
              "      <td>237</td>\n",
              "      <td>171</td>\n",
              "      <td>Reunion, France</td>\n",
              "      <td>408</td>\n",
              "    </tr>\n",
              "    <tr>\n",
              "      <th>2869</th>\n",
              "      <td>France</td>\n",
              "      <td>NaN</td>\n",
              "      <td>6</td>\n",
              "      <td>NaN</td>\n",
              "      <td>Saint Barthelemy</td>\n",
              "      <td>2020-04-19 23:40:41</td>\n",
              "      <td>17.900000</td>\n",
              "      <td>-62.833300</td>\n",
              "      <td>6</td>\n",
              "      <td>0</td>\n",
              "      <td>5</td>\n",
              "      <td>1</td>\n",
              "      <td>Saint Barthelemy, France</td>\n",
              "      <td>6</td>\n",
              "    </tr>\n",
              "    <tr>\n",
              "      <th>2870</th>\n",
              "      <td>France</td>\n",
              "      <td>NaN</td>\n",
              "      <td>1</td>\n",
              "      <td>NaN</td>\n",
              "      <td>Saint Pierre and Miquelon</td>\n",
              "      <td>2020-04-19 23:40:41</td>\n",
              "      <td>46.885200</td>\n",
              "      <td>-56.315900</td>\n",
              "      <td>1</td>\n",
              "      <td>0</td>\n",
              "      <td>0</td>\n",
              "      <td>1</td>\n",
              "      <td>Saint Pierre and Miquelon, France</td>\n",
              "      <td>1</td>\n",
              "    </tr>\n",
              "    <tr>\n",
              "      <th>2879</th>\n",
              "      <td>France</td>\n",
              "      <td>NaN</td>\n",
              "      <td>37</td>\n",
              "      <td>NaN</td>\n",
              "      <td>St Martin</td>\n",
              "      <td>2020-04-19 23:40:41</td>\n",
              "      <td>18.070800</td>\n",
              "      <td>-63.050100</td>\n",
              "      <td>37</td>\n",
              "      <td>2</td>\n",
              "      <td>19</td>\n",
              "      <td>16</td>\n",
              "      <td>St Martin, France</td>\n",
              "      <td>37</td>\n",
              "    </tr>\n",
              "    <tr>\n",
              "      <th>2949</th>\n",
              "      <td>France</td>\n",
              "      <td>NaN</td>\n",
              "      <td>152894</td>\n",
              "      <td>NaN</td>\n",
              "      <td>NaN</td>\n",
              "      <td>2020-04-19 23:40:41</td>\n",
              "      <td>46.227600</td>\n",
              "      <td>2.213700</td>\n",
              "      <td>152894</td>\n",
              "      <td>19718</td>\n",
              "      <td>36578</td>\n",
              "      <td>96598</td>\n",
              "      <td>France</td>\n",
              "      <td>152894</td>\n",
              "    </tr>\n",
              "  </tbody>\n",
              "</table>\n",
              "</div>"
            ],
            "text/plain": [
              "     Country_Region  FIPS  ...                       Combined_Key sum_all_cases\n",
              "2820         France   NaN  ...              French Guiana, France            96\n",
              "2821         France   NaN  ...           French Polynesia, France            55\n",
              "2828         France   NaN  ...                 Guadeloupe, France           148\n",
              "2848         France   NaN  ...                 Martinique, France           163\n",
              "2849         France   NaN  ...                    Mayotte, France           271\n",
              "2852         France   NaN  ...              New Caledonia, France            18\n",
              "2868         France   NaN  ...                    Reunion, France           408\n",
              "2869         France   NaN  ...           Saint Barthelemy, France             6\n",
              "2870         France   NaN  ...  Saint Pierre and Miquelon, France             1\n",
              "2879         France   NaN  ...                  St Martin, France            37\n",
              "2949         France   NaN  ...                             France        152894\n",
              "\n",
              "[11 rows x 14 columns]"
            ]
          },
          "metadata": {
            "tags": []
          },
          "execution_count": 163
        }
      ]
    },
    {
      "cell_type": "code",
      "metadata": {
        "id": "RwEWVhc0LhJH"
      },
      "source": [
        "# df.copy() copier votre df pour le dupliquer !\n",
        "\n",
        "df_covid2 = df_covid #df_covid2 va aussi modifier df_covid!!\n",
        "df_covid2 = df_covid.copy()"
      ],
      "execution_count": null,
      "outputs": []
    }
  ]
}
{
  "nbformat": 4,
  "nbformat_minor": 0,
  "metadata": {
    "colab": {
      "name": "#1 - Variables, structures et fonctions",
      "provenance": []
    },
    "kernelspec": {
      "name": "python3",
      "display_name": "Python 3"
    }
  },
  "cells": [
    {
      "cell_type": "markdown",
      "metadata": {
        "id": "DymjVEvUioas"
      },
      "source": [
        "# https://colab.research.google.com/"
      ]
    },
    {
      "cell_type": "markdown",
      "metadata": {
        "id": "aBbj0oaibpmj"
      },
      "source": [
        "# Apprendre à coder en Python pour l'Intelligence Artificielle\n",
        "Episode 1 - Variables, Structures et fonctions\n",
        "\n",
        "<p align=\"center\">\n",
        "<a href=\"https://youtu.be/8fCtWNnBNFc\" target=\"_blank\" ><img  src=\"https://raw.githubusercontent.com/anisayari/Youtube-apprendre-python-intelligence-artificielle/master/utils/cover-serie-1.png\" width=\"800\" height=\"auto\"/></a>\n",
        "</p>"
      ]
    },
    {
      "cell_type": "markdown",
      "metadata": {
        "id": "860Bw6_ccLC-"
      },
      "source": [
        "# Pourquoi Python ?!\n",
        "Python est un langage de haut niveau, facilement compréhensible, accessible et très utilisé.\n",
        "\n",
        "<p align=\"center\">\n",
        "<img  src=\"https://raw.githubusercontent.com/anisayari/Youtube-apprendre-python-intelligence-artificielle/master/utils/1-utils/pq_python.jpg\" width=\"800\" height=\"auto\"/></a>\n",
        "</p>\n",
        "\n",
        "Le top 5 des langages à apprendre en 2020 - Vidéo Youtube\n",
        "\n",
        "<a href=\"https://youtu.be/9NMoIsSOMX4\" target=\"_blank\" ><img  src=\"https://i9.ytimg.com/vi/9NMoIsSOMX4/maxresdefault.jpg?time=1586948789746&sqp=CNzU2_QF&rs=AOn4CLDQb3o52k6WJ6w-3rGlB89JukxbDg\" alt=\"#1-AlDLaT\" width=\"500\" height=\"auto\"/></a>\n"
      ]
    },
    {
      "cell_type": "markdown",
      "metadata": {
        "id": "ywugkqemge0O"
      },
      "source": [
        "# Les variables et types de variables"
      ]
    },
    {
      "cell_type": "code",
      "metadata": {
        "id": "--5IMQ_HiKzj",
        "colab": {
          "base_uri": "https://localhost:8080/",
          "height": 71
        },
        "outputId": "821af512-d7e8-400a-c893-dc8b820a795e"
      },
      "source": [
        "print(\"hello world\")\n",
        "print(\"Bonjour\")\n",
        "'bonjour'"
      ],
      "execution_count": 4,
      "outputs": [
        {
          "output_type": "stream",
          "name": "stdout",
          "text": [
            "hello world\n",
            "Bonjour\n"
          ]
        },
        {
          "output_type": "execute_result",
          "data": {
            "text/plain": [
              "'bonjour'"
            ],
            "application/vnd.google.colaboratory.intrinsic+json": {
              "type": "string"
            }
          },
          "metadata": {},
          "execution_count": 4
        }
      ]
    },
    {
      "cell_type": "code",
      "metadata": {
        "id": "6EnsLQxCp0bx",
        "colab": {
          "base_uri": "https://localhost:8080/"
        },
        "outputId": "7cf54528-8c2f-4fb7-d1ab-fa039e4006ad"
      },
      "source": [
        "a = 10\n",
        "print(f'La variable A = {a}')"
      ],
      "execution_count": 9,
      "outputs": [
        {
          "output_type": "stream",
          "name": "stdout",
          "text": [
            "La variable A = 10\n"
          ]
        }
      ]
    },
    {
      "cell_type": "code",
      "metadata": {
        "id": "KUpLTZ4VoXxe",
        "colab": {
          "base_uri": "https://localhost:8080/"
        },
        "outputId": "038746a1-d41b-43b4-d369-e338ff058c3d"
      },
      "source": [
        "#Integer 0,1,2,3 (N) #int\n",
        "variable1 = 10\n",
        "print(variable1)\n",
        "print(type(variable1))\n",
        "\n",
        "#Float 0.5,1.87\n",
        "variable2 = 10.0\n",
        "print(variable2)\n",
        "print(type(variable2))\n",
        "\n",
        "#String 'Nathan' chaine de caractères #str\n",
        "variable3 = 'Stade Toulousain'\n",
        "print(variable3)\n",
        "print(type(variable3))"
      ],
      "execution_count": 10,
      "outputs": [
        {
          "output_type": "stream",
          "name": "stdout",
          "text": [
            "10\n",
            "<class 'int'>\n",
            "10.0\n",
            "<class 'float'>\n",
            "Stade Toulousain\n",
            "<class 'str'>\n"
          ]
        }
      ]
    },
    {
      "cell_type": "code",
      "source": [
        "print(int(15.2))\n",
        "# convertir float > int, convert str (si nombres) > float"
      ],
      "metadata": {
        "id": "aIlp-N1vUH7J",
        "outputId": "5fa3e3da-c6b7-4502-dd8e-f4279b3344c0",
        "colab": {
          "base_uri": "https://localhost:8080/"
        }
      },
      "execution_count": 14,
      "outputs": [
        {
          "output_type": "stream",
          "name": "stdout",
          "text": [
            "15\n"
          ]
        }
      ]
    },
    {
      "cell_type": "code",
      "metadata": {
        "id": "DNGbHBHksKyz",
        "colab": {
          "base_uri": "https://localhost:8080/"
        },
        "outputId": "b5a8cb48-7bf5-47c6-d257-d3d5f56e3993"
      },
      "source": [
        "#Boolean True, False, 1, 0\n",
        "print(1 == 0) # égalité ==\n",
        "\n",
        "print(1 < 0) # Inférieur <\n",
        "print(1 <= 0) #inf ou égal <=\n",
        "\n",
        "print(1 > 0) # Suppérieur >\n",
        "print(1 >= 0) #supp ou égal >=\n",
        "\n",
        "print(1 !=0) # Différent !=\n",
        "\n",
        "print(bool(1),bool(0))"
      ],
      "execution_count": 13,
      "outputs": [
        {
          "output_type": "stream",
          "name": "stdout",
          "text": [
            "False\n",
            "False\n",
            "False\n",
            "True\n",
            "True\n",
            "True\n",
            "True False\n"
          ]
        }
      ]
    },
    {
      "cell_type": "code",
      "metadata": {
        "id": "P70SqsP8qv7g",
        "colab": {
          "base_uri": "https://localhost:8080/"
        },
        "outputId": "0ba0bf92-b4d1-4f8a-ca1f-18845a8dc027"
      },
      "source": [
        "#Tuple (1,0) #toujours entre ()\n",
        "variable4 = (1,0)\n",
        "print(variable4)\n",
        "print(type(variable4))\n",
        "\n",
        "#list [1,0, 'OM','PSG', 'OL']\n",
        "variable5 = [1,0, 'OM','PSG', 'OL']\n",
        "print(variable5)\n",
        "print(type(variable5))\n",
        "\n",
        "#Dict {'P' : 'Pomme'}\n",
        "variable6 = {'P' : ['Profil','Papa','Peloton','Pomme'],\n",
        "             'Anis': ['Eau','Calvier','Souris']}\n",
        "print(variable6)\n",
        "print(type(variable6))"
      ],
      "execution_count": 18,
      "outputs": [
        {
          "output_type": "stream",
          "name": "stdout",
          "text": [
            "(1, 0)\n",
            "<class 'tuple'>\n",
            "[1, 0, 'OM', 'PSG', 'OL']\n",
            "<class 'list'>\n",
            "{'P': ['Profil', 'Papa', 'Peloton', 'Pomme'], 'Anis': ['Eau', 'Calvier', 'Souris']}\n",
            "<class 'dict'>\n"
          ]
        }
      ]
    },
    {
      "cell_type": "code",
      "metadata": {
        "id": "XTCQDwaBsbV9"
      },
      "source": [],
      "execution_count": 1,
      "outputs": []
    },
    {
      "cell_type": "code",
      "metadata": {
        "id": "4WrY-4H9ssMR"
      },
      "source": [],
      "execution_count": 1,
      "outputs": []
    },
    {
      "cell_type": "markdown",
      "metadata": {
        "id": "VPNHjfXNgnBi"
      },
      "source": [
        "# Les structures de contrôle"
      ]
    },
    {
      "cell_type": "markdown",
      "metadata": {
        "id": "1DGJNiOdvpmG"
      },
      "source": []
    },
    {
      "cell_type": "code",
      "metadata": {
        "id": "5XvvLvSFiKOx",
        "colab": {
          "base_uri": "https://localhost:8080/",
          "height": 35
        },
        "outputId": "2320a88a-f89a-4e95-b9e9-391f15c0c3df"
      },
      "source": [
        "#if else / elif Permet de mettre des conditions if <condition1> :\n",
        "variable1000 = \"PSG\"\n",
        "\n",
        "if variable1000 == 'PSG':\n",
        "  print(\"c'est le PSG\")\n",
        "elif variable1000 == \"Olympique de Marseille\" :\n",
        "  print(\"c'est l'OM\")\n",
        "else:\n",
        "  print(\"ce n'est ni l'om ni le psg\")"
      ],
      "execution_count": null,
      "outputs": [
        {
          "output_type": "stream",
          "text": [
            "c'est le PSG\n"
          ],
          "name": "stdout"
        }
      ]
    },
    {
      "cell_type": "code",
      "metadata": {
        "id": "hivl3C9NwE5-",
        "colab": {
          "base_uri": "https://localhost:8080/",
          "height": 345
        },
        "outputId": "6331bb5a-7dd8-41cf-d215-6f5c13826b58"
      },
      "source": [
        "#Boucle for <variable> in <list>:  ATTENTION AU BOUCLE INFINI ie sans condition d'arrêt\n",
        "#NEVER REPEAT YOURSELF\n",
        "\n",
        "for i in [0,1,2,3]:\n",
        "  print(i)\n",
        "  print(variable1000)\n",
        "\n",
        "#print(variable1000)\n",
        "#print(variable1000)\n",
        "#print(variable1000)\n",
        "#print(variable1000)\n",
        "#print(variable1000)\n",
        "\n",
        "for i in range(10): #PRINT UNIQUEMENT JUSQU'A 9, CAR COMMENCE A 0\n",
        "  print(i)\n",
        "\n",
        "del i"
      ],
      "execution_count": null,
      "outputs": [
        {
          "output_type": "stream",
          "text": [
            "0\n",
            "PSG\n",
            "1\n",
            "PSG\n",
            "2\n",
            "PSG\n",
            "3\n",
            "PSG\n",
            "0\n",
            "1\n",
            "2\n",
            "3\n",
            "4\n",
            "5\n",
            "6\n",
            "7\n",
            "8\n",
            "9\n"
          ],
          "name": "stdout"
        }
      ]
    },
    {
      "cell_type": "code",
      "metadata": {
        "id": "OZJ5N-cXx2AJ",
        "colab": {
          "base_uri": "https://localhost:8080/",
          "height": 171
        },
        "outputId": "996e9968-0dd4-4406-868f-71d504ae1f10"
      },
      "source": [
        "print(i)"
      ],
      "execution_count": null,
      "outputs": [
        {
          "output_type": "error",
          "ename": "NameError",
          "evalue": "ignored",
          "traceback": [
            "\u001b[0;31m---------------------------------------------------------------------------\u001b[0m",
            "\u001b[0;31mNameError\u001b[0m                                 Traceback (most recent call last)",
            "\u001b[0;32m<ipython-input-42-3b184248ad5a>\u001b[0m in \u001b[0;36m<module>\u001b[0;34m()\u001b[0m\n\u001b[0;32m----> 1\u001b[0;31m \u001b[0mprint\u001b[0m\u001b[0;34m(\u001b[0m\u001b[0mi\u001b[0m\u001b[0;34m)\u001b[0m\u001b[0;34m\u001b[0m\u001b[0;34m\u001b[0m\u001b[0m\n\u001b[0m",
            "\u001b[0;31mNameError\u001b[0m: name 'i' is not defined"
          ]
        }
      ]
    },
    {
      "cell_type": "code",
      "metadata": {
        "id": "o8Xb9YNWxSpG",
        "colab": {
          "base_uri": "https://localhost:8080/",
          "height": 199
        },
        "outputId": "f1702930-ab03-4178-e26d-f5f050fee191"
      },
      "source": [
        "#while <condition> pas résolu, on boucle\n",
        "i=0\n",
        "while(i!=10):\n",
        "  print(i)\n",
        "  i = i+1"
      ],
      "execution_count": null,
      "outputs": [
        {
          "output_type": "stream",
          "text": [
            "0\n",
            "1\n",
            "2\n",
            "3\n",
            "4\n",
            "5\n",
            "6\n",
            "7\n",
            "8\n",
            "9\n"
          ],
          "name": "stdout"
        }
      ]
    },
    {
      "cell_type": "markdown",
      "metadata": {
        "id": "tPBhtowpgq5R"
      },
      "source": [
        "# Les fonctions"
      ]
    },
    {
      "cell_type": "code",
      "metadata": {
        "id": "yXquuZ_siKiZ",
        "colab": {
          "base_uri": "https://localhost:8080/",
          "height": 35
        },
        "outputId": "3956637a-a86b-494f-c64e-0b18e60d09ba"
      },
      "source": [
        "#Fonction def NOM_FONCTION(ARGUMENT) Argument = les variables qui vont être utilisées dans la fonction\n",
        "def mean(number1, number2):\n",
        "  mean_of_two_numbers = (number1 + number2) / 2\n",
        "  return mean_of_two_numbers\n",
        "\n",
        "#print()\n",
        "\n",
        "print(mean(10,20))\n",
        "print(mean(15,20))\n",
        "print(mean(432452343,432432432))"
      ],
      "execution_count": null,
      "outputs": [
        {
          "output_type": "execute_result",
          "data": {
            "text/plain": [
              "432442387.5"
            ]
          },
          "metadata": {
            "tags": []
          },
          "execution_count": 47
        }
      ]
    },
    {
      "cell_type": "code",
      "metadata": {
        "id": "6Od08Km20JYr",
        "colab": {
          "base_uri": "https://localhost:8080/",
          "height": 171
        },
        "outputId": "aaded745-a4f3-4c9c-a9da-c1fa80ee2bca"
      },
      "source": [
        "mean_of_two_numbers #Les variables des fonctions ne vivent pas à l'extérieur des fonctions"
      ],
      "execution_count": null,
      "outputs": [
        {
          "output_type": "error",
          "ename": "NameError",
          "evalue": "ignored",
          "traceback": [
            "\u001b[0;31m---------------------------------------------------------------------------\u001b[0m",
            "\u001b[0;31mNameError\u001b[0m                                 Traceback (most recent call last)",
            "\u001b[0;32m<ipython-input-48-9618e836352a>\u001b[0m in \u001b[0;36m<module>\u001b[0;34m()\u001b[0m\n\u001b[0;32m----> 1\u001b[0;31m \u001b[0mmean_of_two_numbers\u001b[0m\u001b[0;34m\u001b[0m\u001b[0;34m\u001b[0m\u001b[0m\n\u001b[0m",
            "\u001b[0;31mNameError\u001b[0m: name 'mean_of_two_numbers' is not defined"
          ]
        }
      ]
    }
  ]
}
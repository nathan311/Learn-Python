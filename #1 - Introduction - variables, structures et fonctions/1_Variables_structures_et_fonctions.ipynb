{
  "nbformat": 4,
  "nbformat_minor": 0,
  "metadata": {
    "colab": {
      "name": "#1 - Variables, structures et fonctions",
      "provenance": []
    },
    "kernelspec": {
      "name": "python3",
      "display_name": "Python 3"
    }
  },
  "cells": [
    {
      "cell_type": "markdown",
      "metadata": {
        "id": "DymjVEvUioas"
      },
      "source": [
        "# https://colab.research.google.com/"
      ]
    },
    {
      "cell_type": "markdown",
      "metadata": {
        "id": "aBbj0oaibpmj"
      },
      "source": [
        "# Apprendre à coder en Python pour l'Intelligence Artificielle\n",
        "Episode 1 - Variables, Structures et fonctions\n",
        "\n",
        "<p align=\"center\">\n",
        "<a href=\"https://youtu.be/8fCtWNnBNFc\" target=\"_blank\" ><img  src=\"https://raw.githubusercontent.com/anisayari/Youtube-apprendre-python-intelligence-artificielle/master/utils/cover-serie-1.png\" width=\"800\" height=\"auto\"/></a>\n",
        "</p>"
      ]
    },
    {
      "cell_type": "markdown",
      "metadata": {
        "id": "860Bw6_ccLC-"
      },
      "source": [
        "# Pourquoi Python ?!\n",
        "Python est un langage de haut niveau, facilement compréhensible, accessible et très utilisé.\n",
        "\n",
        "<p align=\"center\">\n",
        "<img  src=\"https://raw.githubusercontent.com/anisayari/Youtube-apprendre-python-intelligence-artificielle/master/utils/1-utils/pq_python.jpg\" width=\"800\" height=\"auto\"/></a>\n",
        "</p>\n",
        "\n",
        "Le top 5 des langages à apprendre en 2020 - Vidéo Youtube\n",
        "\n",
        "<a href=\"https://youtu.be/9NMoIsSOMX4\" target=\"_blank\" ><img  src=\"https://i9.ytimg.com/vi/9NMoIsSOMX4/maxresdefault.jpg?time=1586948789746&sqp=CNzU2_QF&rs=AOn4CLDQb3o52k6WJ6w-3rGlB89JukxbDg\" alt=\"#1-AlDLaT\" width=\"500\" height=\"auto\"/></a>\n"
      ]
    },
    {
      "cell_type": "markdown",
      "metadata": {
        "id": "ywugkqemge0O"
      },
      "source": [
        "# Les variables et types de variables"
      ]
    },
    {
      "cell_type": "code",
      "metadata": {
        "id": "--5IMQ_HiKzj",
        "colab": {
          "base_uri": "https://localhost:8080/",
          "height": 71
        },
        "outputId": "821af512-d7e8-400a-c893-dc8b820a795e"
      },
      "source": [
        "print(\"hello world\")\n",
        "print(\"Bonjour\")\n",
        "'bonjour'"
      ],
      "execution_count": null,
      "outputs": [
        {
          "output_type": "stream",
          "name": "stdout",
          "text": [
            "hello world\n",
            "Bonjour\n"
          ]
        },
        {
          "output_type": "execute_result",
          "data": {
            "text/plain": [
              "'bonjour'"
            ],
            "application/vnd.google.colaboratory.intrinsic+json": {
              "type": "string"
            }
          },
          "metadata": {},
          "execution_count": 4
        }
      ]
    },
    {
      "cell_type": "code",
      "metadata": {
        "id": "6EnsLQxCp0bx",
        "colab": {
          "base_uri": "https://localhost:8080/"
        },
        "outputId": "7cf54528-8c2f-4fb7-d1ab-fa039e4006ad"
      },
      "source": [
        "a = 10\n",
        "print(f'La variable A = {a}')"
      ],
      "execution_count": null,
      "outputs": [
        {
          "output_type": "stream",
          "name": "stdout",
          "text": [
            "La variable A = 10\n"
          ]
        }
      ]
    },
    {
      "cell_type": "code",
      "metadata": {
        "id": "KUpLTZ4VoXxe",
        "colab": {
          "base_uri": "https://localhost:8080/"
        },
        "outputId": "319dc814-7223-4eea-ef9b-4b6d71eb480f"
      },
      "source": [
        "#Integer 0,1,2,3 (N) #int\n",
        "variable1 = 10\n",
        "print(variable1)\n",
        "print(type(variable1))\n",
        "\n",
        "#Float 0.5,1.87\n",
        "variable2 = 10.0\n",
        "print(variable2)\n",
        "print(type(variable2))\n",
        "\n",
        "#String 'Nathan' chaine de caractères #str\n",
        "variable3 = 'Stade Toulousain'\n",
        "print(variable3)\n",
        "print(type(variable3))"
      ],
      "execution_count": 2,
      "outputs": [
        {
          "output_type": "stream",
          "name": "stdout",
          "text": [
            "10\n",
            "<class 'int'>\n",
            "10.0\n",
            "<class 'float'>\n",
            "Stade Toulousain\n",
            "<class 'str'>\n"
          ]
        }
      ]
    },
    {
      "cell_type": "code",
      "source": [
        "print(int(15.2))\n",
        "# convertir float > int, convert str (si nombres) > float"
      ],
      "metadata": {
        "id": "aIlp-N1vUH7J",
        "outputId": "5fa3e3da-c6b7-4502-dd8e-f4279b3344c0",
        "colab": {
          "base_uri": "https://localhost:8080/"
        }
      },
      "execution_count": null,
      "outputs": [
        {
          "output_type": "stream",
          "name": "stdout",
          "text": [
            "15\n"
          ]
        }
      ]
    },
    {
      "cell_type": "code",
      "metadata": {
        "id": "DNGbHBHksKyz",
        "colab": {
          "base_uri": "https://localhost:8080/"
        },
        "outputId": "b5a8cb48-7bf5-47c6-d257-d3d5f56e3993"
      },
      "source": [
        "#Boolean True, False, 1, 0\n",
        "print(1 == 0) # égalité ==\n",
        "\n",
        "print(1 < 0) # Inférieur <\n",
        "print(1 <= 0) #inf ou égal <=\n",
        "\n",
        "print(1 > 0) # Suppérieur >\n",
        "print(1 >= 0) #supp ou égal >=\n",
        "\n",
        "print(1 !=0) # Différent !=\n",
        "\n",
        "print(bool(1),bool(0))"
      ],
      "execution_count": null,
      "outputs": [
        {
          "output_type": "stream",
          "name": "stdout",
          "text": [
            "False\n",
            "False\n",
            "False\n",
            "True\n",
            "True\n",
            "True\n",
            "True False\n"
          ]
        }
      ]
    },
    {
      "cell_type": "code",
      "metadata": {
        "id": "P70SqsP8qv7g",
        "colab": {
          "base_uri": "https://localhost:8080/"
        },
        "outputId": "0ba0bf92-b4d1-4f8a-ca1f-18845a8dc027"
      },
      "source": [
        "#Tuple (1,0) #toujours entre ()\n",
        "variable4 = (1,0)\n",
        "print(variable4)\n",
        "print(type(variable4))\n",
        "\n",
        "#list [1,0, 'OM','PSG', 'OL']\n",
        "variable5 = [1,0, 'OM','PSG', 'OL']\n",
        "print(variable5)\n",
        "print(type(variable5))\n",
        "\n",
        "#Dict {'P' : 'Pomme'}\n",
        "variable6 = {'P' : ['Profil','Papa','Peloton','Pomme'],\n",
        "             'Anis': ['Eau','Calvier','Souris']}\n",
        "print(variable6)\n",
        "print(type(variable6))"
      ],
      "execution_count": null,
      "outputs": [
        {
          "output_type": "stream",
          "name": "stdout",
          "text": [
            "(1, 0)\n",
            "<class 'tuple'>\n",
            "[1, 0, 'OM', 'PSG', 'OL']\n",
            "<class 'list'>\n",
            "{'P': ['Profil', 'Papa', 'Peloton', 'Pomme'], 'Anis': ['Eau', 'Calvier', 'Souris']}\n",
            "<class 'dict'>\n"
          ]
        }
      ]
    },
    {
      "cell_type": "code",
      "metadata": {
        "id": "XTCQDwaBsbV9"
      },
      "source": [],
      "execution_count": null,
      "outputs": []
    },
    {
      "cell_type": "code",
      "metadata": {
        "id": "4WrY-4H9ssMR"
      },
      "source": [],
      "execution_count": null,
      "outputs": []
    },
    {
      "cell_type": "markdown",
      "metadata": {
        "id": "VPNHjfXNgnBi"
      },
      "source": [
        "# Les structures de contrôle"
      ]
    },
    {
      "cell_type": "markdown",
      "metadata": {
        "id": "1DGJNiOdvpmG"
      },
      "source": []
    },
    {
      "cell_type": "code",
      "metadata": {
        "id": "5XvvLvSFiKOx",
        "colab": {
          "base_uri": "https://localhost:8080/"
        },
        "outputId": "42dfd330-2c0e-489b-9618-e99ff3121133"
      },
      "source": [
        "#if else / elif permet de mettre des condition\n",
        "variable1000 = \"PSG\"\n",
        "\n",
        "if variable1000 == \"PSG\":\n",
        "  print(\"c'est le PSG\")\n",
        "elif variable1000 == \"Stade Toulousain\":\n",
        "  print(\"c'est le stade\")\n",
        "else:\n",
        "  print(\"ce n'est aucun des deux\")"
      ],
      "execution_count": 5,
      "outputs": [
        {
          "output_type": "stream",
          "name": "stdout",
          "text": [
            "c'est le PSG\n"
          ]
        }
      ]
    },
    {
      "cell_type": "code",
      "metadata": {
        "id": "hivl3C9NwE5-",
        "colab": {
          "base_uri": "https://localhost:8080/"
        },
        "outputId": "ea060669-3caf-45a8-991d-a47badbaadf8"
      },
      "source": [
        "#Boucle for <varibale> in <list>:\n",
        "#NEVER REOAAT YOURSELF\n",
        "\n",
        "for i in [0,1,2,3]:\n",
        "  print(i)\n",
        "  print(variable1000)\n",
        "\n",
        "for i in range(10): #print uniquement jusquà 9 commence à 0\n",
        "  print(i)\n",
        "\n",
        "del i"
      ],
      "execution_count": 12,
      "outputs": [
        {
          "output_type": "stream",
          "name": "stdout",
          "text": [
            "0\n",
            "PSG\n",
            "1\n",
            "PSG\n",
            "2\n",
            "PSG\n",
            "3\n",
            "PSG\n",
            "0\n",
            "1\n",
            "2\n",
            "3\n",
            "4\n",
            "5\n",
            "6\n",
            "7\n",
            "8\n",
            "9\n"
          ]
        }
      ]
    },
    {
      "cell_type": "code",
      "metadata": {
        "id": "OZJ5N-cXx2AJ",
        "colab": {
          "base_uri": "https://localhost:8080/"
        },
        "outputId": "2b069b1f-c30b-4746-aeb0-b11b5b989670"
      },
      "source": [
        "#while tant que\n",
        "i = 0\n",
        "while(i!=10):\n",
        "  print(i)\n",
        "  i = i+ 1"
      ],
      "execution_count": 17,
      "outputs": [
        {
          "output_type": "stream",
          "name": "stdout",
          "text": [
            "0\n",
            "1\n",
            "2\n",
            "3\n",
            "4\n",
            "5\n",
            "6\n",
            "7\n",
            "8\n",
            "9\n"
          ]
        }
      ]
    },
    {
      "cell_type": "code",
      "metadata": {
        "id": "o8Xb9YNWxSpG"
      },
      "source": [],
      "execution_count": null,
      "outputs": []
    },
    {
      "cell_type": "markdown",
      "metadata": {
        "id": "tPBhtowpgq5R"
      },
      "source": [
        "# Les fonctions"
      ]
    },
    {
      "cell_type": "code",
      "metadata": {
        "id": "yXquuZ_siKiZ",
        "colab": {
          "base_uri": "https://localhost:8080/"
        },
        "outputId": "b91530f9-a81e-408c-a0e7-fe70861555a5"
      },
      "source": [
        "#Fonction def NOM_FONCTION(ARGUMENT) Argument = les variables qui vont être utilisées dans la fonction\n",
        "def mean(number1, number2):\n",
        "  mean_of_two_numbers = (number1 + number2) / 2\n",
        "  return mean_of_two_numbers\n",
        "\n",
        "mean(10,20)\n",
        "mean(15,20)"
      ],
      "execution_count": 18,
      "outputs": [
        {
          "output_type": "execute_result",
          "data": {
            "text/plain": [
              "15.0"
            ]
          },
          "metadata": {},
          "execution_count": 18
        }
      ]
    },
    {
      "cell_type": "code",
      "metadata": {
        "id": "6Od08Km20JYr",
        "colab": {
          "base_uri": "https://localhost:8080/",
          "height": 171
        },
        "outputId": "aaded745-a4f3-4c9c-a9da-c1fa80ee2bca"
      },
      "source": [
        "mean_of_two_numbers #Les variables des fonctions ne vivent pas à l'extérieur des fonctions"
      ],
      "execution_count": null,
      "outputs": [
        {
          "output_type": "error",
          "ename": "NameError",
          "evalue": "ignored",
          "traceback": [
            "\u001b[0;31m---------------------------------------------------------------------------\u001b[0m",
            "\u001b[0;31mNameError\u001b[0m                                 Traceback (most recent call last)",
            "\u001b[0;32m<ipython-input-48-9618e836352a>\u001b[0m in \u001b[0;36m<module>\u001b[0;34m()\u001b[0m\n\u001b[0;32m----> 1\u001b[0;31m \u001b[0mmean_of_two_numbers\u001b[0m\u001b[0;34m\u001b[0m\u001b[0;34m\u001b[0m\u001b[0m\n\u001b[0m",
            "\u001b[0;31mNameError\u001b[0m: name 'mean_of_two_numbers' is not defined"
          ]
        }
      ]
    }
  ]
}